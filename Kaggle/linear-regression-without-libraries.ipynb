{
 "cells": [
  {
   "cell_type": "markdown",
   "id": "98ada04c",
   "metadata": {
    "papermill": {
     "duration": 0.004899,
     "end_time": "2023-04-22T17:14:29.363969",
     "exception": false,
     "start_time": "2023-04-22T17:14:29.359070",
     "status": "completed"
    },
    "tags": []
   },
   "source": [
    "# Introduction\n",
    "In this work, I decided to write my own implementation of the linear regression algorithm and compare its performance with the algorithm implemented in the Scikit-learn library.\n",
    "## Importing the required libraries"
   ]
  },
  {
   "cell_type": "code",
   "execution_count": 1,
   "id": "d0593af3",
   "metadata": {
    "_cell_guid": "b1076dfc-b9ad-4769-8c92-a6c4dae69d19",
    "_uuid": "8f2839f25d086af736a60e9eeb907d3b93b6e0e5",
    "execution": {
     "iopub.execute_input": "2023-04-22T17:14:29.373313Z",
     "iopub.status.busy": "2023-04-22T17:14:29.372890Z",
     "iopub.status.idle": "2023-04-22T17:14:29.383834Z",
     "shell.execute_reply": "2023-04-22T17:14:29.382784Z"
    },
    "papermill": {
     "duration": 0.01872,
     "end_time": "2023-04-22T17:14:29.386562",
     "exception": false,
     "start_time": "2023-04-22T17:14:29.367842",
     "status": "completed"
    },
    "tags": []
   },
   "outputs": [],
   "source": [
    "import pandas as pd\n",
    "import random\n",
    "from typing import List"
   ]
  },
  {
   "cell_type": "markdown",
   "id": "8203c3da",
   "metadata": {
    "papermill": {
     "duration": 0.003305,
     "end_time": "2023-04-22T17:14:29.393595",
     "exception": false,
     "start_time": "2023-04-22T17:14:29.390290",
     "status": "completed"
    },
    "tags": []
   },
   "source": [
    "## Data loading\n",
    "The data frame will not be divided into train and test parts, since I'm only interested in the relative accuracy of the algorithms."
   ]
  },
  {
   "cell_type": "code",
   "execution_count": 2,
   "id": "e4d3dd12",
   "metadata": {
    "execution": {
     "iopub.execute_input": "2023-04-22T17:14:29.402869Z",
     "iopub.status.busy": "2023-04-22T17:14:29.402087Z",
     "iopub.status.idle": "2023-04-22T17:14:29.447422Z",
     "shell.execute_reply": "2023-04-22T17:14:29.446222Z"
    },
    "papermill": {
     "duration": 0.05295,
     "end_time": "2023-04-22T17:14:29.450106",
     "exception": false,
     "start_time": "2023-04-22T17:14:29.397156",
     "status": "completed"
    },
    "tags": []
   },
   "outputs": [
    {
     "data": {
      "text/html": [
       "<div>\n",
       "<style scoped>\n",
       "    .dataframe tbody tr th:only-of-type {\n",
       "        vertical-align: middle;\n",
       "    }\n",
       "\n",
       "    .dataframe tbody tr th {\n",
       "        vertical-align: top;\n",
       "    }\n",
       "\n",
       "    .dataframe thead th {\n",
       "        text-align: right;\n",
       "    }\n",
       "</style>\n",
       "<table border=\"1\" class=\"dataframe\">\n",
       "  <thead>\n",
       "    <tr style=\"text-align: right;\">\n",
       "      <th></th>\n",
       "      <th>R&amp;D Spend</th>\n",
       "      <th>Administration</th>\n",
       "      <th>Marketing Spend</th>\n",
       "      <th>Profit</th>\n",
       "    </tr>\n",
       "  </thead>\n",
       "  <tbody>\n",
       "    <tr>\n",
       "      <th>0</th>\n",
       "      <td>165349.20</td>\n",
       "      <td>136897.80</td>\n",
       "      <td>471784.10</td>\n",
       "      <td>192261.83</td>\n",
       "    </tr>\n",
       "    <tr>\n",
       "      <th>1</th>\n",
       "      <td>162597.70</td>\n",
       "      <td>151377.59</td>\n",
       "      <td>443898.53</td>\n",
       "      <td>191792.06</td>\n",
       "    </tr>\n",
       "    <tr>\n",
       "      <th>2</th>\n",
       "      <td>153441.51</td>\n",
       "      <td>101145.55</td>\n",
       "      <td>407934.54</td>\n",
       "      <td>191050.39</td>\n",
       "    </tr>\n",
       "    <tr>\n",
       "      <th>3</th>\n",
       "      <td>144372.41</td>\n",
       "      <td>118671.85</td>\n",
       "      <td>383199.62</td>\n",
       "      <td>182901.99</td>\n",
       "    </tr>\n",
       "    <tr>\n",
       "      <th>4</th>\n",
       "      <td>142107.34</td>\n",
       "      <td>91391.77</td>\n",
       "      <td>366168.42</td>\n",
       "      <td>166187.94</td>\n",
       "    </tr>\n",
       "  </tbody>\n",
       "</table>\n",
       "</div>"
      ],
      "text/plain": [
       "   R&D Spend  Administration  Marketing Spend     Profit\n",
       "0  165349.20       136897.80        471784.10  192261.83\n",
       "1  162597.70       151377.59        443898.53  191792.06\n",
       "2  153441.51       101145.55        407934.54  191050.39\n",
       "3  144372.41       118671.85        383199.62  182901.99\n",
       "4  142107.34        91391.77        366168.42  166187.94"
      ]
     },
     "execution_count": 2,
     "metadata": {},
     "output_type": "execute_result"
    }
   ],
   "source": [
    "df = pd.read_csv('/kaggle/input/startup-logistic-regression/50_Startups.csv')\n",
    "df1 = df.copy().drop('State', axis = 1)\n",
    "df1.head()"
   ]
  },
  {
   "cell_type": "markdown",
   "id": "5de45f1e",
   "metadata": {
    "papermill": {
     "duration": 0.003529,
     "end_time": "2023-04-22T17:14:29.457592",
     "exception": false,
     "start_time": "2023-04-22T17:14:29.454063",
     "status": "completed"
    },
    "tags": []
   },
   "source": [
    "# Algorithm implementation"
   ]
  },
  {
   "cell_type": "code",
   "execution_count": 3,
   "id": "1fe356d8",
   "metadata": {
    "execution": {
     "iopub.execute_input": "2023-04-22T17:14:29.467489Z",
     "iopub.status.busy": "2023-04-22T17:14:29.467010Z",
     "iopub.status.idle": "2023-04-22T17:14:29.483241Z",
     "shell.execute_reply": "2023-04-22T17:14:29.482051Z"
    },
    "papermill": {
     "duration": 0.024453,
     "end_time": "2023-04-22T17:14:29.485943",
     "exception": false,
     "start_time": "2023-04-22T17:14:29.461490",
     "status": "completed"
    },
    "tags": []
   },
   "outputs": [],
   "source": [
    "#Linear function\n",
    "def linear_func(x: List[float], coeff: List[float]) -> float:\n",
    "    assert len(coeff) - len(x) == 1\n",
    "    return coeff[0] + sum([x_i * coeff_i for x_i, coeff_i in zip(x, coeff[1:])])\n",
    "\n",
    "#A function that calculates new coefficients based on gradient descent\n",
    "def new_coeff(prev_coeff: List[float], gradient: List[float], step: float) -> List[float]:\n",
    "    assert len(prev_coeff) == len(gradient)\n",
    "    grad_step = [step * grad for grad in gradient]\n",
    "    return [coeff - grad for coeff, grad in zip(prev_coeff, grad_step)]\n",
    "\n",
    "#Function for calculating the average relative error\n",
    "def avg_rel_error(y: List[float], y_pred: List[float]) -> float:\n",
    "    error = [abs(y_i - y_pred_i) / y_i for y_i, y_pred_i in zip(y, y_pred)]\n",
    "    return sum(error) / len(y)\n",
    "\n",
    "#Function to fit the data by linear regression. At the output, the function gives the coefficients of the linear model\n",
    "def linear_regression(df: pd.DataFrame, step: int = 0.000001) -> List[float]:\n",
    "    rel_error0, rel_error1 = 2, 1\n",
    "    \n",
    "    #Assignment of random values to coefficients for subsequent optimization of the sum of squared errors function\n",
    "    coeff = [random.random() for _ in range(df.shape[1])]\n",
    "\n",
    "    #The learning process stops when the relative error does not decrease\n",
    "    while rel_error0 - rel_error1 > 0.0000001:\n",
    "        rel_error0 = rel_error1\n",
    "        gradient = []\n",
    "\n",
    "        #Calculating the gradient of the sum of squared errors function at the current point\n",
    "        for i in range(len(coeff)):\n",
    "            if i == 0:\n",
    "                gradient.append(sum([-2 * (df.iloc[j, -1] - linear_func(df.iloc[j, :-1], coeff)) for j in range(df.shape[0])]))\n",
    "            else:\n",
    "                gradient.append(sum([-2 * df.iloc[j, i - 1] * (df.iloc[j, -1] - linear_func(df.iloc[j, :-1], coeff)) for j in range(df.shape[0])]))\n",
    "\n",
    "        #Calculating the coordinates of a new point using gradient descent\n",
    "        coeff = new_coeff(coeff, gradient, step)\n",
    "        \n",
    "        #Calculation of the average relative error in order to decide whether to continue training or not\n",
    "        y_pred = [linear_func(df.iloc[k, :-1], coeff) for k in range(df.shape[0])]\n",
    "        rel_error1 = avg_rel_error(df.iloc[:, -1], y_pred)\n",
    "    \n",
    "    return coeff"
   ]
  },
  {
   "cell_type": "markdown",
   "id": "468a3ee4",
   "metadata": {
    "papermill": {
     "duration": 0.003446,
     "end_time": "2023-04-22T17:14:29.493280",
     "exception": false,
     "start_time": "2023-04-22T17:14:29.489834",
     "status": "completed"
    },
    "tags": []
   },
   "source": [
    "# Performance comparison\n",
    "## My algorithm implementation"
   ]
  },
  {
   "cell_type": "code",
   "execution_count": 4,
   "id": "08242ac4",
   "metadata": {
    "execution": {
     "iopub.execute_input": "2023-04-22T17:14:29.502648Z",
     "iopub.status.busy": "2023-04-22T17:14:29.501969Z",
     "iopub.status.idle": "2023-04-22T17:14:42.603298Z",
     "shell.execute_reply": "2023-04-22T17:14:42.601914Z"
    },
    "papermill": {
     "duration": 13.109361,
     "end_time": "2023-04-22T17:14:42.606319",
     "exception": false,
     "start_time": "2023-04-22T17:14:29.496958",
     "status": "completed"
    },
    "tags": []
   },
   "outputs": [],
   "source": [
    "random.seed(1)\n",
    "\n",
    "coeff = linear_regression(df1, 0.0000000000001)\n",
    "predict = [linear_func(df1.iloc[i, :-1], coeff) for i in range(df1.shape[0])]\n",
    "\n",
    "error = avg_rel_error(df1.iloc[:, -1], predict)"
   ]
  },
  {
   "cell_type": "markdown",
   "id": "016fa601",
   "metadata": {
    "papermill": {
     "duration": 0.003598,
     "end_time": "2023-04-22T17:14:42.613975",
     "exception": false,
     "start_time": "2023-04-22T17:14:42.610377",
     "status": "completed"
    },
    "tags": []
   },
   "source": [
    "## Scikit-learn's LinearRegression"
   ]
  },
  {
   "cell_type": "code",
   "execution_count": 5,
   "id": "90b007ab",
   "metadata": {
    "execution": {
     "iopub.execute_input": "2023-04-22T17:14:42.623466Z",
     "iopub.status.busy": "2023-04-22T17:14:42.623020Z",
     "iopub.status.idle": "2023-04-22T17:14:43.872795Z",
     "shell.execute_reply": "2023-04-22T17:14:43.871502Z"
    },
    "papermill": {
     "duration": 1.257995,
     "end_time": "2023-04-22T17:14:43.875829",
     "exception": false,
     "start_time": "2023-04-22T17:14:42.617834",
     "status": "completed"
    },
    "tags": []
   },
   "outputs": [],
   "source": [
    "from sklearn.linear_model import LinearRegression\n",
    "\n",
    "df2 = df.copy().drop('State', axis = 1)\n",
    "\n",
    "sk_model = LinearRegression().fit(df2.iloc[:, :-1], df2.iloc[:, -1])\n",
    "sk_predict = sk_model.predict(df2.iloc[:, :-1])\n",
    "\n",
    "sk_error = avg_rel_error(df2.iloc[:, -1], sk_predict)"
   ]
  },
  {
   "cell_type": "markdown",
   "id": "306b223f",
   "metadata": {
    "papermill": {
     "duration": 0.003514,
     "end_time": "2023-04-22T17:14:43.883361",
     "exception": false,
     "start_time": "2023-04-22T17:14:43.879847",
     "status": "completed"
    },
    "tags": []
   },
   "source": [
    "## Results"
   ]
  },
  {
   "cell_type": "code",
   "execution_count": 6,
   "id": "2b3d0354",
   "metadata": {
    "execution": {
     "iopub.execute_input": "2023-04-22T17:14:43.893276Z",
     "iopub.status.busy": "2023-04-22T17:14:43.892763Z",
     "iopub.status.idle": "2023-04-22T17:14:43.900339Z",
     "shell.execute_reply": "2023-04-22T17:14:43.898739Z"
    },
    "papermill": {
     "duration": 0.015518,
     "end_time": "2023-04-22T17:14:43.902995",
     "exception": false,
     "start_time": "2023-04-22T17:14:43.887477",
     "status": "completed"
    },
    "tags": []
   },
   "outputs": [
    {
     "name": "stdout",
     "output_type": "stream",
     "text": [
      "My algorithm error: 0.14707917245462285\n",
      "Scikit-learn's error: 0.1060120916049413\n"
     ]
    }
   ],
   "source": [
    "print('My algorithm error:', error)\n",
    "print('Scikit-learn\\'s error:', sk_error)"
   ]
  },
  {
   "cell_type": "markdown",
   "id": "a9299a1d",
   "metadata": {
    "papermill": {
     "duration": 0.003554,
     "end_time": "2023-04-22T17:14:43.910591",
     "exception": false,
     "start_time": "2023-04-22T17:14:43.907037",
     "status": "completed"
    },
    "tags": []
   },
   "source": [
    "I don't think a 4% difference is that big :)"
   ]
  }
 ],
 "metadata": {
  "kernelspec": {
   "display_name": "Python 3",
   "language": "python",
   "name": "python3"
  },
  "language_info": {
   "codemirror_mode": {
    "name": "ipython",
    "version": 3
   },
   "file_extension": ".py",
   "mimetype": "text/x-python",
   "name": "python",
   "nbconvert_exporter": "python",
   "pygments_lexer": "ipython3",
   "version": "3.7.12"
  },
  "papermill": {
   "default_parameters": {},
   "duration": 27.26412,
   "end_time": "2023-04-22T17:14:44.738539",
   "environment_variables": {},
   "exception": null,
   "input_path": "__notebook__.ipynb",
   "output_path": "__notebook__.ipynb",
   "parameters": {},
   "start_time": "2023-04-22T17:14:17.474419",
   "version": "2.4.0"
  }
 },
 "nbformat": 4,
 "nbformat_minor": 5
}
