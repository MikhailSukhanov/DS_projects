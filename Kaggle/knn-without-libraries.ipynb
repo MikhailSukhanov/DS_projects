{
 "cells": [
  {
   "cell_type": "markdown",
   "id": "5a90affc",
   "metadata": {
    "papermill": {
     "duration": 0.005104,
     "end_time": "2023-05-31T06:48:47.821871",
     "exception": false,
     "start_time": "2023-05-31T06:48:47.816767",
     "status": "completed"
    },
    "tags": []
   },
   "source": [
    "# Introduction\n",
    "In this work, I decided to write my own implementation of the K-Nearest Neighbors algorithm and compare its performance with the algorithm implemented in the Scikit-learn library.\n",
    "## Importing the required libraries"
   ]
  },
  {
   "cell_type": "code",
   "execution_count": 1,
   "id": "fc90eadd",
   "metadata": {
    "_cell_guid": "b1076dfc-b9ad-4769-8c92-a6c4dae69d19",
    "_uuid": "8f2839f25d086af736a60e9eeb907d3b93b6e0e5",
    "execution": {
     "iopub.execute_input": "2023-05-31T06:48:47.833060Z",
     "iopub.status.busy": "2023-05-31T06:48:47.832524Z",
     "iopub.status.idle": "2023-05-31T06:48:47.849097Z",
     "shell.execute_reply": "2023-05-31T06:48:47.848021Z"
    },
    "papermill": {
     "duration": 0.025104,
     "end_time": "2023-05-31T06:48:47.851579",
     "exception": false,
     "start_time": "2023-05-31T06:48:47.826475",
     "status": "completed"
    },
    "tags": []
   },
   "outputs": [],
   "source": [
    "import numpy as np\n",
    "import pandas as pd\n",
    "from typing import List"
   ]
  },
  {
   "cell_type": "markdown",
   "id": "a6c84d05",
   "metadata": {
    "papermill": {
     "duration": 0.004196,
     "end_time": "2023-05-31T06:48:47.860495",
     "exception": false,
     "start_time": "2023-05-31T06:48:47.856299",
     "status": "completed"
    },
    "tags": []
   },
   "source": [
    "## Data loading and normalization\n",
    "Normalization is needed for the classification algorithm to work correctly. Also for more precise classification the dataframe is shuffled (something like stratification)."
   ]
  },
  {
   "cell_type": "code",
   "execution_count": 2,
   "id": "91cf935d",
   "metadata": {
    "execution": {
     "iopub.execute_input": "2023-05-31T06:48:47.871616Z",
     "iopub.status.busy": "2023-05-31T06:48:47.871014Z",
     "iopub.status.idle": "2023-05-31T06:48:47.975259Z",
     "shell.execute_reply": "2023-05-31T06:48:47.973869Z"
    },
    "papermill": {
     "duration": 0.113166,
     "end_time": "2023-05-31T06:48:47.978130",
     "exception": false,
     "start_time": "2023-05-31T06:48:47.864964",
     "status": "completed"
    },
    "tags": []
   },
   "outputs": [
    {
     "data": {
      "text/html": [
       "<div>\n",
       "<style scoped>\n",
       "    .dataframe tbody tr th:only-of-type {\n",
       "        vertical-align: middle;\n",
       "    }\n",
       "\n",
       "    .dataframe tbody tr th {\n",
       "        vertical-align: top;\n",
       "    }\n",
       "\n",
       "    .dataframe thead th {\n",
       "        text-align: right;\n",
       "    }\n",
       "</style>\n",
       "<table border=\"1\" class=\"dataframe\">\n",
       "  <thead>\n",
       "    <tr style=\"text-align: right;\">\n",
       "      <th></th>\n",
       "      <th>x.radius_mean</th>\n",
       "      <th>x.texture_mean</th>\n",
       "      <th>x.perimeter_mean</th>\n",
       "      <th>x.area_mean</th>\n",
       "      <th>x.smoothness_mean</th>\n",
       "      <th>x.compactness_mean</th>\n",
       "      <th>x.concavity_mean</th>\n",
       "      <th>x.concave_pts_mean</th>\n",
       "      <th>x.symmetry_mean</th>\n",
       "      <th>x.fractal_dim_mean</th>\n",
       "      <th>...</th>\n",
       "      <th>x.texture_worst</th>\n",
       "      <th>x.perimeter_worst</th>\n",
       "      <th>x.area_worst</th>\n",
       "      <th>x.smoothness_worst</th>\n",
       "      <th>x.compactness_worst</th>\n",
       "      <th>x.concavity_worst</th>\n",
       "      <th>x.concave_pts_worst</th>\n",
       "      <th>x.symmetry_worst</th>\n",
       "      <th>x.fractal_dim_worst</th>\n",
       "      <th>y</th>\n",
       "    </tr>\n",
       "  </thead>\n",
       "  <tbody>\n",
       "    <tr>\n",
       "      <th>0</th>\n",
       "      <td>0.352075</td>\n",
       "      <td>0.340210</td>\n",
       "      <td>0.350287</td>\n",
       "      <td>0.211665</td>\n",
       "      <td>0.405254</td>\n",
       "      <td>0.290534</td>\n",
       "      <td>0.219963</td>\n",
       "      <td>0.290209</td>\n",
       "      <td>0.413636</td>\n",
       "      <td>0.293597</td>\n",
       "      <td>...</td>\n",
       "      <td>0.502132</td>\n",
       "      <td>0.294288</td>\n",
       "      <td>0.157589</td>\n",
       "      <td>0.475005</td>\n",
       "      <td>0.267107</td>\n",
       "      <td>0.255112</td>\n",
       "      <td>0.537801</td>\n",
       "      <td>0.227282</td>\n",
       "      <td>0.252460</td>\n",
       "      <td>M</td>\n",
       "    </tr>\n",
       "    <tr>\n",
       "      <th>1</th>\n",
       "      <td>0.234228</td>\n",
       "      <td>0.399729</td>\n",
       "      <td>0.226246</td>\n",
       "      <td>0.125175</td>\n",
       "      <td>0.406699</td>\n",
       "      <td>0.181308</td>\n",
       "      <td>0.077976</td>\n",
       "      <td>0.099801</td>\n",
       "      <td>0.317172</td>\n",
       "      <td>0.252317</td>\n",
       "      <td>...</td>\n",
       "      <td>0.376599</td>\n",
       "      <td>0.184920</td>\n",
       "      <td>0.097768</td>\n",
       "      <td>0.520571</td>\n",
       "      <td>0.206275</td>\n",
       "      <td>0.120048</td>\n",
       "      <td>0.249038</td>\n",
       "      <td>0.172088</td>\n",
       "      <td>0.199200</td>\n",
       "      <td>B</td>\n",
       "    </tr>\n",
       "    <tr>\n",
       "      <th>2</th>\n",
       "      <td>0.307113</td>\n",
       "      <td>0.147109</td>\n",
       "      <td>0.300809</td>\n",
       "      <td>0.170859</td>\n",
       "      <td>0.491740</td>\n",
       "      <td>0.294829</td>\n",
       "      <td>0.135567</td>\n",
       "      <td>0.261730</td>\n",
       "      <td>0.363131</td>\n",
       "      <td>0.346040</td>\n",
       "      <td>...</td>\n",
       "      <td>0.167910</td>\n",
       "      <td>0.221774</td>\n",
       "      <td>0.116742</td>\n",
       "      <td>0.449911</td>\n",
       "      <td>0.215977</td>\n",
       "      <td>0.147604</td>\n",
       "      <td>0.458763</td>\n",
       "      <td>0.327617</td>\n",
       "      <td>0.250689</td>\n",
       "      <td>B</td>\n",
       "    </tr>\n",
       "    <tr>\n",
       "      <th>3</th>\n",
       "      <td>0.223816</td>\n",
       "      <td>0.194116</td>\n",
       "      <td>0.215880</td>\n",
       "      <td>0.117413</td>\n",
       "      <td>0.563059</td>\n",
       "      <td>0.163886</td>\n",
       "      <td>0.093861</td>\n",
       "      <td>0.161531</td>\n",
       "      <td>0.479293</td>\n",
       "      <td>0.318029</td>\n",
       "      <td>...</td>\n",
       "      <td>0.163646</td>\n",
       "      <td>0.168086</td>\n",
       "      <td>0.081400</td>\n",
       "      <td>0.494156</td>\n",
       "      <td>0.081701</td>\n",
       "      <td>0.086821</td>\n",
       "      <td>0.270241</td>\n",
       "      <td>0.236546</td>\n",
       "      <td>0.150990</td>\n",
       "      <td>B</td>\n",
       "    </tr>\n",
       "    <tr>\n",
       "      <th>4</th>\n",
       "      <td>0.573572</td>\n",
       "      <td>0.560703</td>\n",
       "      <td>0.589524</td>\n",
       "      <td>0.419300</td>\n",
       "      <td>0.621739</td>\n",
       "      <td>0.489909</td>\n",
       "      <td>0.453843</td>\n",
       "      <td>0.730119</td>\n",
       "      <td>0.289899</td>\n",
       "      <td>0.469250</td>\n",
       "      <td>...</td>\n",
       "      <td>0.551706</td>\n",
       "      <td>0.452662</td>\n",
       "      <td>0.273496</td>\n",
       "      <td>0.449250</td>\n",
       "      <td>0.246830</td>\n",
       "      <td>0.194249</td>\n",
       "      <td>0.632646</td>\n",
       "      <td>0.147053</td>\n",
       "      <td>0.242621</td>\n",
       "      <td>M</td>\n",
       "    </tr>\n",
       "  </tbody>\n",
       "</table>\n",
       "<p>5 rows × 31 columns</p>\n",
       "</div>"
      ],
      "text/plain": [
       "   x.radius_mean  x.texture_mean  x.perimeter_mean  x.area_mean  \\\n",
       "0       0.352075        0.340210          0.350287     0.211665   \n",
       "1       0.234228        0.399729          0.226246     0.125175   \n",
       "2       0.307113        0.147109          0.300809     0.170859   \n",
       "3       0.223816        0.194116          0.215880     0.117413   \n",
       "4       0.573572        0.560703          0.589524     0.419300   \n",
       "\n",
       "   x.smoothness_mean  x.compactness_mean  x.concavity_mean  \\\n",
       "0           0.405254            0.290534          0.219963   \n",
       "1           0.406699            0.181308          0.077976   \n",
       "2           0.491740            0.294829          0.135567   \n",
       "3           0.563059            0.163886          0.093861   \n",
       "4           0.621739            0.489909          0.453843   \n",
       "\n",
       "   x.concave_pts_mean  x.symmetry_mean  x.fractal_dim_mean  ...  \\\n",
       "0            0.290209         0.413636            0.293597  ...   \n",
       "1            0.099801         0.317172            0.252317  ...   \n",
       "2            0.261730         0.363131            0.346040  ...   \n",
       "3            0.161531         0.479293            0.318029  ...   \n",
       "4            0.730119         0.289899            0.469250  ...   \n",
       "\n",
       "   x.texture_worst  x.perimeter_worst  x.area_worst  x.smoothness_worst  \\\n",
       "0         0.502132           0.294288      0.157589            0.475005   \n",
       "1         0.376599           0.184920      0.097768            0.520571   \n",
       "2         0.167910           0.221774      0.116742            0.449911   \n",
       "3         0.163646           0.168086      0.081400            0.494156   \n",
       "4         0.551706           0.452662      0.273496            0.449250   \n",
       "\n",
       "   x.compactness_worst  x.concavity_worst  x.concave_pts_worst  \\\n",
       "0             0.267107           0.255112             0.537801   \n",
       "1             0.206275           0.120048             0.249038   \n",
       "2             0.215977           0.147604             0.458763   \n",
       "3             0.081701           0.086821             0.270241   \n",
       "4             0.246830           0.194249             0.632646   \n",
       "\n",
       "   x.symmetry_worst  x.fractal_dim_worst  y  \n",
       "0          0.227282             0.252460  M  \n",
       "1          0.172088             0.199200  B  \n",
       "2          0.327617             0.250689  B  \n",
       "3          0.236546             0.150990  B  \n",
       "4          0.147053             0.242621  M  \n",
       "\n",
       "[5 rows x 31 columns]"
      ]
     },
     "execution_count": 2,
     "metadata": {},
     "output_type": "execute_result"
    }
   ],
   "source": [
    "df = pd.read_csv('/kaggle/input/breast-cancer-wisconsin-diagnostic-dataset/brca.csv')\n",
    "df.iloc[:, :-1] = (df.iloc[:, :-1] - df.iloc[:, :-1].min()) / (df.iloc[:, :-1].max() - df.iloc[:, :-1].min())\n",
    "df = df.sample(frac = 1, random_state = 1).reset_index(drop = True).drop('Unnamed: 0', axis = 1)\n",
    "df_train = df.iloc[:300, :].copy()\n",
    "df_test = df.iloc[300:, :].copy()\n",
    "df.head()"
   ]
  },
  {
   "cell_type": "markdown",
   "id": "668ceed7",
   "metadata": {
    "papermill": {
     "duration": 0.004864,
     "end_time": "2023-05-31T06:48:47.988075",
     "exception": false,
     "start_time": "2023-05-31T06:48:47.983211",
     "status": "completed"
    },
    "tags": []
   },
   "source": [
    "# Algorithm implementation\n",
    "The target variable is assumed to be the last column of the data frame."
   ]
  },
  {
   "cell_type": "code",
   "execution_count": 3,
   "id": "e198993a",
   "metadata": {
    "execution": {
     "iopub.execute_input": "2023-05-31T06:48:48.000378Z",
     "iopub.status.busy": "2023-05-31T06:48:47.999953Z",
     "iopub.status.idle": "2023-05-31T06:48:48.012377Z",
     "shell.execute_reply": "2023-05-31T06:48:48.010821Z"
    },
    "papermill": {
     "duration": 0.022224,
     "end_time": "2023-05-31T06:48:48.015536",
     "exception": false,
     "start_time": "2023-05-31T06:48:47.993312",
     "status": "completed"
    },
    "tags": []
   },
   "outputs": [],
   "source": [
    "#A function that calculates the distance between points\n",
    "def distance(l1: List[float], l2: List[float]) -> float:\n",
    "    assert len(l1) == len(l2)\n",
    "    return sum([(l1_i - l2_i)**2 for l1_i, l2_i in zip(l1, l2)])**0.5\n",
    "\n",
    "#Search function for the most frequent sample value\n",
    "def most_frequent(l: List[str]) -> str:\n",
    "    count = {}\n",
    "    for l_i in l:\n",
    "        if l_i in count.keys():\n",
    "            count[l_i] += 1\n",
    "        else:\n",
    "            count[l_i] = 1\n",
    "    count = sorted(count.items(), key = lambda item: item[1], reverse = True)\n",
    "    return count[0][0]\n",
    "\n",
    "#Classification function\n",
    "def classification(data: List, df: pd.DataFrame, k: int) -> str:\n",
    "    dist = []\n",
    "    \n",
    "    #Calculation of distances to each point of the training sample\n",
    "    for i in range(df.shape[0]):\n",
    "        dist.append((i, distance(data, df.iloc[i, :-1])))\n",
    "    \n",
    "    #Search for values of the target variable\n",
    "    dist.sort(key = lambda item: item[1])\n",
    "    values = [df.iloc[d[0], -1] for d in dist[:k]]\n",
    "    \n",
    "    return most_frequent(values)"
   ]
  },
  {
   "cell_type": "markdown",
   "id": "5370497f",
   "metadata": {
    "papermill": {
     "duration": 0.004945,
     "end_time": "2023-05-31T06:48:48.026023",
     "exception": false,
     "start_time": "2023-05-31T06:48:48.021078",
     "status": "completed"
    },
    "tags": []
   },
   "source": [
    "# Performance comparison\n",
    "## My algorithm implementation"
   ]
  },
  {
   "cell_type": "code",
   "execution_count": 4,
   "id": "30cf0928",
   "metadata": {
    "execution": {
     "iopub.execute_input": "2023-05-31T06:48:48.038765Z",
     "iopub.status.busy": "2023-05-31T06:48:48.038155Z",
     "iopub.status.idle": "2023-05-31T06:49:07.146647Z",
     "shell.execute_reply": "2023-05-31T06:49:07.145566Z"
    },
    "papermill": {
     "duration": 19.117824,
     "end_time": "2023-05-31T06:49:07.149375",
     "exception": false,
     "start_time": "2023-05-31T06:48:48.031551",
     "status": "completed"
    },
    "tags": []
   },
   "outputs": [],
   "source": [
    "my_pred = [classification(df_test.iloc[i, :-1], df_train, 3) for i in range(df_test.shape[0])]\n",
    "l = [(df_test.iloc[i, -1], my_pred[i]) for i in range(df_test.shape[0])]"
   ]
  },
  {
   "cell_type": "markdown",
   "id": "a238a7d0",
   "metadata": {
    "papermill": {
     "duration": 0.004667,
     "end_time": "2023-05-31T06:49:07.159311",
     "exception": false,
     "start_time": "2023-05-31T06:49:07.154644",
     "status": "completed"
    },
    "tags": []
   },
   "source": [
    "## Scikit-learn's KNeighborsClassifier"
   ]
  },
  {
   "cell_type": "code",
   "execution_count": 5,
   "id": "640152d6",
   "metadata": {
    "execution": {
     "iopub.execute_input": "2023-05-31T06:49:07.172122Z",
     "iopub.status.busy": "2023-05-31T06:49:07.171118Z",
     "iopub.status.idle": "2023-05-31T06:49:09.069893Z",
     "shell.execute_reply": "2023-05-31T06:49:09.067585Z"
    },
    "papermill": {
     "duration": 1.909022,
     "end_time": "2023-05-31T06:49:09.073260",
     "exception": false,
     "start_time": "2023-05-31T06:49:07.164238",
     "status": "completed"
    },
    "tags": []
   },
   "outputs": [],
   "source": [
    "from sklearn.neighbors import KNeighborsClassifier\n",
    "\n",
    "neigh = KNeighborsClassifier(n_neighbors = 3).fit(df_train.iloc[:, :-1], df_train.iloc[:, -1])\n",
    "sk_pred = neigh.predict(df_test.iloc[:, :-1])\n",
    "l1 = [(df_test.iloc[i, -1], sk_pred[i]) for i in range(df_test.shape[0])]"
   ]
  },
  {
   "cell_type": "markdown",
   "id": "85743137",
   "metadata": {
    "papermill": {
     "duration": 0.004692,
     "end_time": "2023-05-31T06:49:09.083220",
     "exception": false,
     "start_time": "2023-05-31T06:49:09.078528",
     "status": "completed"
    },
    "tags": []
   },
   "source": [
    "## Results"
   ]
  },
  {
   "cell_type": "code",
   "execution_count": 6,
   "id": "bd697fb2",
   "metadata": {
    "execution": {
     "iopub.execute_input": "2023-05-31T06:49:09.097546Z",
     "iopub.status.busy": "2023-05-31T06:49:09.097123Z",
     "iopub.status.idle": "2023-05-31T06:49:09.104605Z",
     "shell.execute_reply": "2023-05-31T06:49:09.103409Z"
    },
    "papermill": {
     "duration": 0.017271,
     "end_time": "2023-05-31T06:49:09.107505",
     "exception": false,
     "start_time": "2023-05-31T06:49:09.090234",
     "status": "completed"
    },
    "tags": []
   },
   "outputs": [
    {
     "name": "stdout",
     "output_type": "stream",
     "text": [
      "My algorithm's accuracy: 0.9516728624535316\n",
      "Scikit-learn's accuracy: 0.9516728624535316\n"
     ]
    }
   ],
   "source": [
    "print('My algorithm\\'s accuracy:', sum([test == pred for test, pred in l]) / len(l))\n",
    "print('Scikit-learn\\'s accuracy:', sum([test == pred for test, pred in l1]) / len(l1))"
   ]
  },
  {
   "cell_type": "markdown",
   "id": "84219492",
   "metadata": {
    "papermill": {
     "duration": 0.004809,
     "end_time": "2023-05-31T06:49:09.117704",
     "exception": false,
     "start_time": "2023-05-31T06:49:09.112895",
     "status": "completed"
    },
    "tags": []
   },
   "source": [
    "For this K the accuracy of the algorithms is the same. For other Ks, my algorithm even outperforms KNeighborsClassifier sometimes!"
   ]
  }
 ],
 "metadata": {
  "kernelspec": {
   "display_name": "Python 3",
   "language": "python",
   "name": "python3"
  },
  "language_info": {
   "codemirror_mode": {
    "name": "ipython",
    "version": 3
   },
   "file_extension": ".py",
   "mimetype": "text/x-python",
   "name": "python",
   "nbconvert_exporter": "python",
   "pygments_lexer": "ipython3",
   "version": "3.10.10"
  },
  "papermill": {
   "default_parameters": {},
   "duration": 35.545219,
   "end_time": "2023-05-31T06:49:10.146668",
   "environment_variables": {},
   "exception": null,
   "input_path": "__notebook__.ipynb",
   "output_path": "__notebook__.ipynb",
   "parameters": {},
   "start_time": "2023-05-31T06:48:34.601449",
   "version": "2.4.0"
  }
 },
 "nbformat": 4,
 "nbformat_minor": 5
}
