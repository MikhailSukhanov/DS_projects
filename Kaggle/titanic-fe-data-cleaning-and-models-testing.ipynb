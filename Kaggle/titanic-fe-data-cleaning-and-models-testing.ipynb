{
 "cells": [
  {
   "cell_type": "markdown",
   "id": "57056e74",
   "metadata": {
    "papermill": {
     "duration": 0.010628,
     "end_time": "2022-10-13T17:19:35.643909",
     "exception": false,
     "start_time": "2022-10-13T17:19:35.633281",
     "status": "completed"
    },
    "tags": []
   },
   "source": [
    "## Introduction\n",
    "In the previous notebook, I found out that the best way to preprocess data is one-hot encoding for categorical features and standardization for numerical features.\n",
    "\n",
    "This time I want to handle outliers, figure out which features are useful by using mutual information and permutation importance, and perform hyperparameter tuning on several models.\n",
    "\n",
    "Here are the data frames that will be created:\n",
    "- \"full\" - a data frame with \"redundant\" features (such as the second column of Sex encoding, the third column of Embarked encoding and Pclass encoding, length of Name and the sum of SibSp and Parch)\n",
    "- \"partial\" - a data frame without \"redundant\" features\n",
    "- \"m_info\" - \"full\" data frame without features dropped by using mutual information\n",
    "- \"perm_imp\" - \"full\" data frame without features dropped by using permutation importance\n",
    "\n",
    "Here are the models that will be used:\n",
    "- Random Forest Classifier\n",
    "- Gradient Boosting Classifier\n",
    "- Logistic Regression\n",
    "- KNN"
   ]
  },
  {
   "cell_type": "code",
   "execution_count": 1,
   "id": "a0ddea9c",
   "metadata": {
    "execution": {
     "iopub.execute_input": "2022-10-13T17:19:35.666081Z",
     "iopub.status.busy": "2022-10-13T17:19:35.665605Z",
     "iopub.status.idle": "2022-10-13T17:19:35.731652Z",
     "shell.execute_reply": "2022-10-13T17:19:35.730566Z"
    },
    "papermill": {
     "duration": 0.079912,
     "end_time": "2022-10-13T17:19:35.733869",
     "exception": false,
     "start_time": "2022-10-13T17:19:35.653957",
     "status": "completed"
    },
    "tags": []
   },
   "outputs": [
    {
     "data": {
      "text/html": [
       "<div>\n",
       "<style scoped>\n",
       "    .dataframe tbody tr th:only-of-type {\n",
       "        vertical-align: middle;\n",
       "    }\n",
       "\n",
       "    .dataframe tbody tr th {\n",
       "        vertical-align: top;\n",
       "    }\n",
       "\n",
       "    .dataframe thead th {\n",
       "        text-align: right;\n",
       "    }\n",
       "</style>\n",
       "<table border=\"1\" class=\"dataframe\">\n",
       "  <thead>\n",
       "    <tr style=\"text-align: right;\">\n",
       "      <th></th>\n",
       "      <th>Survived</th>\n",
       "      <th>Pclass</th>\n",
       "      <th>Name</th>\n",
       "      <th>Sex</th>\n",
       "      <th>Age</th>\n",
       "      <th>SibSp</th>\n",
       "      <th>Parch</th>\n",
       "      <th>Fare</th>\n",
       "      <th>Embarked</th>\n",
       "    </tr>\n",
       "  </thead>\n",
       "  <tbody>\n",
       "    <tr>\n",
       "      <th>0</th>\n",
       "      <td>0</td>\n",
       "      <td>3</td>\n",
       "      <td>Braund, Mr. Owen Harris</td>\n",
       "      <td>male</td>\n",
       "      <td>22</td>\n",
       "      <td>1</td>\n",
       "      <td>0</td>\n",
       "      <td>7.2500</td>\n",
       "      <td>S</td>\n",
       "    </tr>\n",
       "    <tr>\n",
       "      <th>1</th>\n",
       "      <td>1</td>\n",
       "      <td>1</td>\n",
       "      <td>Cumings, Mrs. John Bradley (Florence Briggs Th...</td>\n",
       "      <td>female</td>\n",
       "      <td>38</td>\n",
       "      <td>1</td>\n",
       "      <td>0</td>\n",
       "      <td>71.2833</td>\n",
       "      <td>C</td>\n",
       "    </tr>\n",
       "    <tr>\n",
       "      <th>2</th>\n",
       "      <td>1</td>\n",
       "      <td>3</td>\n",
       "      <td>Heikkinen, Miss. Laina</td>\n",
       "      <td>female</td>\n",
       "      <td>26</td>\n",
       "      <td>0</td>\n",
       "      <td>0</td>\n",
       "      <td>7.9250</td>\n",
       "      <td>S</td>\n",
       "    </tr>\n",
       "    <tr>\n",
       "      <th>3</th>\n",
       "      <td>1</td>\n",
       "      <td>1</td>\n",
       "      <td>Futrelle, Mrs. Jacques Heath (Lily May Peel)</td>\n",
       "      <td>female</td>\n",
       "      <td>35</td>\n",
       "      <td>1</td>\n",
       "      <td>0</td>\n",
       "      <td>53.1000</td>\n",
       "      <td>S</td>\n",
       "    </tr>\n",
       "    <tr>\n",
       "      <th>4</th>\n",
       "      <td>0</td>\n",
       "      <td>3</td>\n",
       "      <td>Allen, Mr. William Henry</td>\n",
       "      <td>male</td>\n",
       "      <td>35</td>\n",
       "      <td>0</td>\n",
       "      <td>0</td>\n",
       "      <td>8.0500</td>\n",
       "      <td>S</td>\n",
       "    </tr>\n",
       "  </tbody>\n",
       "</table>\n",
       "</div>"
      ],
      "text/plain": [
       "   Survived  Pclass                                               Name  \\\n",
       "0         0       3                            Braund, Mr. Owen Harris   \n",
       "1         1       1  Cumings, Mrs. John Bradley (Florence Briggs Th...   \n",
       "2         1       3                             Heikkinen, Miss. Laina   \n",
       "3         1       1       Futrelle, Mrs. Jacques Heath (Lily May Peel)   \n",
       "4         0       3                           Allen, Mr. William Henry   \n",
       "\n",
       "      Sex  Age  SibSp  Parch     Fare Embarked  \n",
       "0    male   22      1      0   7.2500        S  \n",
       "1  female   38      1      0  71.2833        C  \n",
       "2  female   26      0      0   7.9250        S  \n",
       "3  female   35      1      0  53.1000        S  \n",
       "4    male   35      0      0   8.0500        S  "
      ]
     },
     "execution_count": 1,
     "metadata": {},
     "output_type": "execute_result"
    }
   ],
   "source": [
    "import numpy as np\n",
    "import pandas as pd\n",
    "\n",
    "train = pd.read_csv('../input/titanic/train.csv')\n",
    "\n",
    "df = train.copy()\n",
    "df = df.drop(columns = ['PassengerId', 'Ticket', 'Cabin'])\n",
    "df['Age'] = df['Age'].fillna(method = 'bfill').astype('int64')\n",
    "df['Embarked'] = df['Embarked'].fillna(df['Embarked'].mode()[0])\n",
    "\n",
    "df.head()"
   ]
  },
  {
   "cell_type": "markdown",
   "id": "c146165f",
   "metadata": {
    "papermill": {
     "duration": 0.010834,
     "end_time": "2022-10-13T17:19:35.754756",
     "exception": false,
     "start_time": "2022-10-13T17:19:35.743922",
     "status": "completed"
    },
    "tags": []
   },
   "source": [
    "## Outliers\n",
    "### Fare and Age\n",
    "Create plots to detect outliers."
   ]
  },
  {
   "cell_type": "code",
   "execution_count": 2,
   "id": "ea5487ea",
   "metadata": {
    "execution": {
     "iopub.execute_input": "2022-10-13T17:19:35.776224Z",
     "iopub.status.busy": "2022-10-13T17:19:35.775869Z",
     "iopub.status.idle": "2022-10-13T17:19:37.121929Z",
     "shell.execute_reply": "2022-10-13T17:19:37.119950Z"
    },
    "papermill": {
     "duration": 1.360493,
     "end_time": "2022-10-13T17:19:37.125300",
     "exception": false,
     "start_time": "2022-10-13T17:19:35.764807",
     "status": "completed"
    },
    "tags": []
   },
   "outputs": [
    {
     "data": {
      "image/png": "[encoded data removed]",
      "text/plain": [
       "<Figure size 720x432 with 2 Axes>"
      ]
     },
     "metadata": {
      "needs_background": "light"
     },
     "output_type": "display_data"
    }
   ],
   "source": [
    "import matplotlib.pyplot as plt\n",
    "import seaborn as sns\n",
    "\n",
    "fig, ax = plt.subplots(1, 2, figsize = (10, 6))\n",
    "cols = ['Fare', 'Age'] \n",
    "\n",
    "for i, col in enumerate(cols):\n",
    "    sns.boxplot(y = train[col], ax = ax[i]).set_title(f'{col} outliers')"
   ]
  },
  {
   "cell_type": "markdown",
   "id": "fa4a9a00",
   "metadata": {
    "papermill": {
     "duration": 0.013873,
     "end_time": "2022-10-13T17:19:37.150832",
     "exception": false,
     "start_time": "2022-10-13T17:19:37.136959",
     "status": "completed"
    },
    "tags": []
   },
   "source": [
    "The best thing to do is:\n",
    "- reduce the fare more than 200 by 40 - 60 %\n",
    "- reduce some age outliers by 7 - 10 years"
   ]
  },
  {
   "cell_type": "markdown",
   "id": "f19cdb36",
   "metadata": {
    "papermill": {
     "duration": 0.01057,
     "end_time": "2022-10-13T17:19:37.174626",
     "exception": false,
     "start_time": "2022-10-13T17:19:37.164056",
     "status": "completed"
    },
    "tags": []
   },
   "source": [
    "### SibSp and Parch\n",
    "Сount values of Parch."
   ]
  },
  {
   "cell_type": "code",
   "execution_count": 3,
   "id": "296eb274",
   "metadata": {
    "execution": {
     "iopub.execute_input": "2022-10-13T17:19:37.197404Z",
     "iopub.status.busy": "2022-10-13T17:19:37.197047Z",
     "iopub.status.idle": "2022-10-13T17:19:37.207270Z",
     "shell.execute_reply": "2022-10-13T17:19:37.205708Z"
    },
    "papermill": {
     "duration": 0.024995,
     "end_time": "2022-10-13T17:19:37.210497",
     "exception": false,
     "start_time": "2022-10-13T17:19:37.185502",
     "status": "completed"
    },
    "tags": []
   },
   "outputs": [
    {
     "data": {
      "text/plain": [
       "0    678\n",
       "1    118\n",
       "2     80\n",
       "3      5\n",
       "4      4\n",
       "5      5\n",
       "6      1\n",
       "Name: Parch, dtype: int64"
      ]
     },
     "execution_count": 3,
     "metadata": {},
     "output_type": "execute_result"
    }
   ],
   "source": [
    "train['Parch'].value_counts().sort_index()"
   ]
  },
  {
   "cell_type": "markdown",
   "id": "f2710034",
   "metadata": {
    "papermill": {
     "duration": 0.010436,
     "end_time": "2022-10-13T17:19:37.231823",
     "exception": false,
     "start_time": "2022-10-13T17:19:37.221387",
     "status": "completed"
    },
    "tags": []
   },
   "source": [
    "Сount values of SibSp."
   ]
  },
  {
   "cell_type": "code",
   "execution_count": 4,
   "id": "653789d7",
   "metadata": {
    "execution": {
     "iopub.execute_input": "2022-10-13T17:19:37.254717Z",
     "iopub.status.busy": "2022-10-13T17:19:37.254393Z",
     "iopub.status.idle": "2022-10-13T17:19:37.264192Z",
     "shell.execute_reply": "2022-10-13T17:19:37.262906Z"
    },
    "papermill": {
     "duration": 0.023949,
     "end_time": "2022-10-13T17:19:37.266582",
     "exception": false,
     "start_time": "2022-10-13T17:19:37.242633",
     "status": "completed"
    },
    "tags": []
   },
   "outputs": [
    {
     "data": {
      "text/plain": [
       "0    608\n",
       "1    209\n",
       "2     28\n",
       "3     16\n",
       "4     18\n",
       "5      5\n",
       "8      7\n",
       "Name: SibSp, dtype: int64"
      ]
     },
     "execution_count": 4,
     "metadata": {},
     "output_type": "execute_result"
    }
   ],
   "source": [
    "train['SibSp'].value_counts().sort_index()"
   ]
  },
  {
   "cell_type": "markdown",
   "id": "39263b07",
   "metadata": {
    "papermill": {
     "duration": 0.010603,
     "end_time": "2022-10-13T17:19:37.287828",
     "exception": false,
     "start_time": "2022-10-13T17:19:37.277225",
     "status": "completed"
    },
    "tags": []
   },
   "source": [
    "The best thing to do is:\n",
    "- reduce Parch values from 6 - 5 to 4 - 3\n",
    "- reduce SibSp values from 8 - 5 to 5 - 4"
   ]
  },
  {
   "cell_type": "markdown",
   "id": "2585d12d",
   "metadata": {
    "papermill": {
     "duration": 0.010639,
     "end_time": "2022-10-13T17:19:37.309242",
     "exception": false,
     "start_time": "2022-10-13T17:19:37.298603",
     "status": "completed"
    },
    "tags": []
   },
   "source": [
    "### Handling outliers\n",
    "Defining functions."
   ]
  },
  {
   "cell_type": "code",
   "execution_count": 5,
   "id": "67dc2093",
   "metadata": {
    "execution": {
     "iopub.execute_input": "2022-10-13T17:19:37.332815Z",
     "iopub.status.busy": "2022-10-13T17:19:37.332482Z",
     "iopub.status.idle": "2022-10-13T17:19:37.340802Z",
     "shell.execute_reply": "2022-10-13T17:19:37.339631Z"
    },
    "papermill": {
     "duration": 0.02277,
     "end_time": "2022-10-13T17:19:37.343087",
     "exception": false,
     "start_time": "2022-10-13T17:19:37.320317",
     "status": "completed"
    },
    "tags": []
   },
   "outputs": [],
   "source": [
    "def fare_outlier(row):\n",
    "    if row['Fare'] > 400:\n",
    "        return row['Fare'] * 0.4\n",
    "    elif row['Fare'] > 200:\n",
    "        return row['Fare'] * 0.6\n",
    "    else:\n",
    "        return row['Fare']\n",
    "\n",
    "def age_outlier(row):\n",
    "    if row['Age'] < 65:\n",
    "        return row['Age']\n",
    "    elif row['Age'] < 70:\n",
    "        return row['Age'] - 7\n",
    "    elif row ['Age'] < 75:\n",
    "        return row['Age'] - 9\n",
    "    else:\n",
    "        return row['Age'] - 10\n",
    "\n",
    "def parch_outlier(row):\n",
    "    if row['Parch'] == 6:\n",
    "        return 4\n",
    "    elif row['Parch'] == 5:\n",
    "        return 3\n",
    "    else:\n",
    "        return row['Parch']\n",
    "    \n",
    "def sibsp_outlier(row):\n",
    "    if row['SibSp'] == 8:\n",
    "        return 5\n",
    "    elif row['SibSp'] == 5:\n",
    "        return 4\n",
    "    else:\n",
    "        return row['SibSp']"
   ]
  },
  {
   "cell_type": "markdown",
   "id": "bf87f16a",
   "metadata": {
    "papermill": {
     "duration": 0.011055,
     "end_time": "2022-10-13T17:19:37.364855",
     "exception": false,
     "start_time": "2022-10-13T17:19:37.353800",
     "status": "completed"
    },
    "tags": []
   },
   "source": [
    "Changing values."
   ]
  },
  {
   "cell_type": "code",
   "execution_count": 6,
   "id": "e62cd9bb",
   "metadata": {
    "execution": {
     "iopub.execute_input": "2022-10-13T17:19:37.388331Z",
     "iopub.status.busy": "2022-10-13T17:19:37.387934Z",
     "iopub.status.idle": "2022-10-13T17:19:37.468939Z",
     "shell.execute_reply": "2022-10-13T17:19:37.467849Z"
    },
    "papermill": {
     "duration": 0.096219,
     "end_time": "2022-10-13T17:19:37.472035",
     "exception": false,
     "start_time": "2022-10-13T17:19:37.375816",
     "status": "completed"
    },
    "tags": []
   },
   "outputs": [
    {
     "data": {
      "text/html": [
       "<div>\n",
       "<style scoped>\n",
       "    .dataframe tbody tr th:only-of-type {\n",
       "        vertical-align: middle;\n",
       "    }\n",
       "\n",
       "    .dataframe tbody tr th {\n",
       "        vertical-align: top;\n",
       "    }\n",
       "\n",
       "    .dataframe thead th {\n",
       "        text-align: right;\n",
       "    }\n",
       "</style>\n",
       "<table border=\"1\" class=\"dataframe\">\n",
       "  <thead>\n",
       "    <tr style=\"text-align: right;\">\n",
       "      <th></th>\n",
       "      <th>Survived</th>\n",
       "      <th>Pclass</th>\n",
       "      <th>Name</th>\n",
       "      <th>Sex</th>\n",
       "      <th>Age</th>\n",
       "      <th>SibSp</th>\n",
       "      <th>Parch</th>\n",
       "      <th>Fare</th>\n",
       "      <th>Embarked</th>\n",
       "    </tr>\n",
       "  </thead>\n",
       "  <tbody>\n",
       "    <tr>\n",
       "      <th>0</th>\n",
       "      <td>0</td>\n",
       "      <td>3</td>\n",
       "      <td>Braund, Mr. Owen Harris</td>\n",
       "      <td>male</td>\n",
       "      <td>22</td>\n",
       "      <td>1</td>\n",
       "      <td>0</td>\n",
       "      <td>7.2500</td>\n",
       "      <td>S</td>\n",
       "    </tr>\n",
       "    <tr>\n",
       "      <th>1</th>\n",
       "      <td>1</td>\n",
       "      <td>1</td>\n",
       "      <td>Cumings, Mrs. John Bradley (Florence Briggs Th...</td>\n",
       "      <td>female</td>\n",
       "      <td>38</td>\n",
       "      <td>1</td>\n",
       "      <td>0</td>\n",
       "      <td>71.2833</td>\n",
       "      <td>C</td>\n",
       "    </tr>\n",
       "    <tr>\n",
       "      <th>2</th>\n",
       "      <td>1</td>\n",
       "      <td>3</td>\n",
       "      <td>Heikkinen, Miss. Laina</td>\n",
       "      <td>female</td>\n",
       "      <td>26</td>\n",
       "      <td>0</td>\n",
       "      <td>0</td>\n",
       "      <td>7.9250</td>\n",
       "      <td>S</td>\n",
       "    </tr>\n",
       "    <tr>\n",
       "      <th>3</th>\n",
       "      <td>1</td>\n",
       "      <td>1</td>\n",
       "      <td>Futrelle, Mrs. Jacques Heath (Lily May Peel)</td>\n",
       "      <td>female</td>\n",
       "      <td>35</td>\n",
       "      <td>1</td>\n",
       "      <td>0</td>\n",
       "      <td>53.1000</td>\n",
       "      <td>S</td>\n",
       "    </tr>\n",
       "    <tr>\n",
       "      <th>4</th>\n",
       "      <td>0</td>\n",
       "      <td>3</td>\n",
       "      <td>Allen, Mr. William Henry</td>\n",
       "      <td>male</td>\n",
       "      <td>35</td>\n",
       "      <td>0</td>\n",
       "      <td>0</td>\n",
       "      <td>8.0500</td>\n",
       "      <td>S</td>\n",
       "    </tr>\n",
       "  </tbody>\n",
       "</table>\n",
       "</div>"
      ],
      "text/plain": [
       "   Survived  Pclass                                               Name  \\\n",
       "0         0       3                            Braund, Mr. Owen Harris   \n",
       "1         1       1  Cumings, Mrs. John Bradley (Florence Briggs Th...   \n",
       "2         1       3                             Heikkinen, Miss. Laina   \n",
       "3         1       1       Futrelle, Mrs. Jacques Heath (Lily May Peel)   \n",
       "4         0       3                           Allen, Mr. William Henry   \n",
       "\n",
       "      Sex  Age  SibSp  Parch     Fare Embarked  \n",
       "0    male   22      1      0   7.2500        S  \n",
       "1  female   38      1      0  71.2833        C  \n",
       "2  female   26      0      0   7.9250        S  \n",
       "3  female   35      1      0  53.1000        S  \n",
       "4    male   35      0      0   8.0500        S  "
      ]
     },
     "execution_count": 6,
     "metadata": {},
     "output_type": "execute_result"
    }
   ],
   "source": [
    "df['Fare'] = df.apply(fare_outlier, axis = 1)\n",
    "df['Age'] = df.apply(age_outlier, axis = 1)\n",
    "df['Parch'] = df.apply(parch_outlier, axis = 1)\n",
    "df['SibSp'] = df.apply(sibsp_outlier, axis = 1)\n",
    "\n",
    "df.head()"
   ]
  },
  {
   "cell_type": "markdown",
   "id": "6ca5c414",
   "metadata": {
    "papermill": {
     "duration": 0.012446,
     "end_time": "2022-10-13T17:19:37.496405",
     "exception": false,
     "start_time": "2022-10-13T17:19:37.483959",
     "status": "completed"
    },
    "tags": []
   },
   "source": [
    "## Creating data frames\n",
    "### Full\n",
    "Creating a data frame without standardization and copying it for mutual information."
   ]
  },
  {
   "cell_type": "code",
   "execution_count": 7,
   "id": "e16c0c9e",
   "metadata": {
    "execution": {
     "iopub.execute_input": "2022-10-13T17:19:37.521285Z",
     "iopub.status.busy": "2022-10-13T17:19:37.520961Z",
     "iopub.status.idle": "2022-10-13T17:19:37.713409Z",
     "shell.execute_reply": "2022-10-13T17:19:37.711837Z"
    },
    "papermill": {
     "duration": 0.207108,
     "end_time": "2022-10-13T17:19:37.715602",
     "exception": false,
     "start_time": "2022-10-13T17:19:37.508494",
     "status": "completed"
    },
    "tags": []
   },
   "outputs": [],
   "source": [
    "from sklearn.preprocessing import OneHotEncoder\n",
    "\n",
    "full = df.copy()\n",
    "y = full.pop('Survived')\n",
    "\n",
    "full['Family'] = full['SibSp'] + full['Parch']\n",
    "full['Name_length'] = full.apply(lambda x: len(x.Name), axis = 1)\n",
    "\n",
    "object_cols = ['Pclass', 'Sex', 'Embarked']\n",
    "\n",
    "OH_encoder = OneHotEncoder(handle_unknown = 'ignore', sparse = False)\n",
    "\n",
    "OH_cols = pd.DataFrame(OH_encoder.fit_transform(full[object_cols])).astype('int64')\n",
    "num_cols = full.drop(columns = ['Pclass', 'Name', 'Sex', 'Embarked'], axis = 1)\n",
    "\n",
    "full = pd.concat([num_cols, OH_cols], axis = 1)\n",
    "full = full.rename({0: 'Pclass_1', 1: 'Pclass_2', 2: 'Pclass_3', 3: 'Female', 4: 'Male', 5: 'C', 6: 'Q', 7: 'S'}, axis = 1)\n",
    "\n",
    "m_info = full.copy()"
   ]
  },
  {
   "cell_type": "markdown",
   "id": "09e7a6e4",
   "metadata": {
    "papermill": {
     "duration": 0.010546,
     "end_time": "2022-10-13T17:19:37.736872",
     "exception": false,
     "start_time": "2022-10-13T17:19:37.726326",
     "status": "completed"
    },
    "tags": []
   },
   "source": [
    "Adding standardization."
   ]
  },
  {
   "cell_type": "code",
   "execution_count": 8,
   "id": "1f46fb95",
   "metadata": {
    "execution": {
     "iopub.execute_input": "2022-10-13T17:19:37.760236Z",
     "iopub.status.busy": "2022-10-13T17:19:37.759873Z",
     "iopub.status.idle": "2022-10-13T17:19:37.782215Z",
     "shell.execute_reply": "2022-10-13T17:19:37.780628Z"
    },
    "papermill": {
     "duration": 0.037176,
     "end_time": "2022-10-13T17:19:37.785048",
     "exception": false,
     "start_time": "2022-10-13T17:19:37.747872",
     "status": "completed"
    },
    "tags": []
   },
   "outputs": [
    {
     "data": {
      "text/html": [
       "<div>\n",
       "<style scoped>\n",
       "    .dataframe tbody tr th:only-of-type {\n",
       "        vertical-align: middle;\n",
       "    }\n",
       "\n",
       "    .dataframe tbody tr th {\n",
       "        vertical-align: top;\n",
       "    }\n",
       "\n",
       "    .dataframe thead th {\n",
       "        text-align: right;\n",
       "    }\n",
       "</style>\n",
       "<table border=\"1\" class=\"dataframe\">\n",
       "  <thead>\n",
       "    <tr style=\"text-align: right;\">\n",
       "      <th></th>\n",
       "      <th>Age</th>\n",
       "      <th>SibSp</th>\n",
       "      <th>Parch</th>\n",
       "      <th>Fare</th>\n",
       "      <th>Family</th>\n",
       "      <th>Name_length</th>\n",
       "      <th>Pclass_1</th>\n",
       "      <th>Pclass_2</th>\n",
       "      <th>Pclass_3</th>\n",
       "      <th>Female</th>\n",
       "      <th>Male</th>\n",
       "      <th>C</th>\n",
       "      <th>Q</th>\n",
       "      <th>S</th>\n",
       "    </tr>\n",
       "  </thead>\n",
       "  <tbody>\n",
       "    <tr>\n",
       "      <th>0</th>\n",
       "      <td>-0.540672</td>\n",
       "      <td>0.537313</td>\n",
       "      <td>-0.497802</td>\n",
       "      <td>-0.637531</td>\n",
       "      <td>0.095906</td>\n",
       "      <td>-0.427451</td>\n",
       "      <td>0</td>\n",
       "      <td>0</td>\n",
       "      <td>1</td>\n",
       "      <td>0</td>\n",
       "      <td>1</td>\n",
       "      <td>0</td>\n",
       "      <td>0</td>\n",
       "      <td>1</td>\n",
       "    </tr>\n",
       "    <tr>\n",
       "      <th>1</th>\n",
       "      <td>0.581935</td>\n",
       "      <td>0.537313</td>\n",
       "      <td>-0.497802</td>\n",
       "      <td>1.209557</td>\n",
       "      <td>0.095906</td>\n",
       "      <td>2.590962</td>\n",
       "      <td>1</td>\n",
       "      <td>0</td>\n",
       "      <td>0</td>\n",
       "      <td>1</td>\n",
       "      <td>0</td>\n",
       "      <td>1</td>\n",
       "      <td>0</td>\n",
       "      <td>0</td>\n",
       "    </tr>\n",
       "    <tr>\n",
       "      <th>2</th>\n",
       "      <td>-0.260020</td>\n",
       "      <td>-0.524208</td>\n",
       "      <td>-0.497802</td>\n",
       "      <td>-0.618060</td>\n",
       "      <td>-0.598831</td>\n",
       "      <td>-0.535252</td>\n",
       "      <td>0</td>\n",
       "      <td>0</td>\n",
       "      <td>1</td>\n",
       "      <td>1</td>\n",
       "      <td>0</td>\n",
       "      <td>0</td>\n",
       "      <td>0</td>\n",
       "      <td>1</td>\n",
       "    </tr>\n",
       "    <tr>\n",
       "      <th>3</th>\n",
       "      <td>0.371446</td>\n",
       "      <td>0.537313</td>\n",
       "      <td>-0.497802</td>\n",
       "      <td>0.685046</td>\n",
       "      <td>0.095906</td>\n",
       "      <td>1.836359</td>\n",
       "      <td>1</td>\n",
       "      <td>0</td>\n",
       "      <td>0</td>\n",
       "      <td>1</td>\n",
       "      <td>0</td>\n",
       "      <td>0</td>\n",
       "      <td>0</td>\n",
       "      <td>1</td>\n",
       "    </tr>\n",
       "    <tr>\n",
       "      <th>4</th>\n",
       "      <td>0.371446</td>\n",
       "      <td>-0.524208</td>\n",
       "      <td>-0.497802</td>\n",
       "      <td>-0.614454</td>\n",
       "      <td>-0.598831</td>\n",
       "      <td>-0.319651</td>\n",
       "      <td>0</td>\n",
       "      <td>0</td>\n",
       "      <td>1</td>\n",
       "      <td>0</td>\n",
       "      <td>1</td>\n",
       "      <td>0</td>\n",
       "      <td>0</td>\n",
       "      <td>1</td>\n",
       "    </tr>\n",
       "  </tbody>\n",
       "</table>\n",
       "</div>"
      ],
      "text/plain": [
       "        Age     SibSp     Parch      Fare    Family  Name_length  Pclass_1  \\\n",
       "0 -0.540672  0.537313 -0.497802 -0.637531  0.095906    -0.427451         0   \n",
       "1  0.581935  0.537313 -0.497802  1.209557  0.095906     2.590962         1   \n",
       "2 -0.260020 -0.524208 -0.497802 -0.618060 -0.598831    -0.535252         0   \n",
       "3  0.371446  0.537313 -0.497802  0.685046  0.095906     1.836359         1   \n",
       "4  0.371446 -0.524208 -0.497802 -0.614454 -0.598831    -0.319651         0   \n",
       "\n",
       "   Pclass_2  Pclass_3  Female  Male  C  Q  S  \n",
       "0         0         1       0     1  0  0  1  \n",
       "1         0         0       1     0  1  0  0  \n",
       "2         0         1       1     0  0  0  1  \n",
       "3         0         0       1     0  0  0  1  \n",
       "4         0         1       0     1  0  0  1  "
      ]
     },
     "execution_count": 8,
     "metadata": {},
     "output_type": "execute_result"
    }
   ],
   "source": [
    "from sklearn.preprocessing import StandardScaler\n",
    "\n",
    "columns = ['Age', 'SibSp', 'Parch', 'Fare', 'Family', 'Name_length']\n",
    "std_cols = full[columns]\n",
    "\n",
    "scaler = StandardScaler().fit(std_cols)\n",
    "full[columns] = scaler.transform(std_cols)\n",
    "\n",
    "full.head()"
   ]
  },
  {
   "cell_type": "markdown",
   "id": "8f531206",
   "metadata": {
    "papermill": {
     "duration": 0.010605,
     "end_time": "2022-10-13T17:19:37.807123",
     "exception": false,
     "start_time": "2022-10-13T17:19:37.796518",
     "status": "completed"
    },
    "tags": []
   },
   "source": [
    "### Partial\n",
    "Let's drop some \"redundant\" columns with common sense."
   ]
  },
  {
   "cell_type": "code",
   "execution_count": 9,
   "id": "94f25575",
   "metadata": {
    "execution": {
     "iopub.execute_input": "2022-10-13T17:19:37.829674Z",
     "iopub.status.busy": "2022-10-13T17:19:37.829333Z",
     "iopub.status.idle": "2022-10-13T17:19:37.845695Z",
     "shell.execute_reply": "2022-10-13T17:19:37.844193Z"
    },
    "papermill": {
     "duration": 0.030185,
     "end_time": "2022-10-13T17:19:37.847993",
     "exception": false,
     "start_time": "2022-10-13T17:19:37.817808",
     "status": "completed"
    },
    "tags": []
   },
   "outputs": [
    {
     "data": {
      "text/html": [
       "<div>\n",
       "<style scoped>\n",
       "    .dataframe tbody tr th:only-of-type {\n",
       "        vertical-align: middle;\n",
       "    }\n",
       "\n",
       "    .dataframe tbody tr th {\n",
       "        vertical-align: top;\n",
       "    }\n",
       "\n",
       "    .dataframe thead th {\n",
       "        text-align: right;\n",
       "    }\n",
       "</style>\n",
       "<table border=\"1\" class=\"dataframe\">\n",
       "  <thead>\n",
       "    <tr style=\"text-align: right;\">\n",
       "      <th></th>\n",
       "      <th>Age</th>\n",
       "      <th>SibSp</th>\n",
       "      <th>Parch</th>\n",
       "      <th>Fare</th>\n",
       "      <th>Name_length</th>\n",
       "      <th>Pclass_1</th>\n",
       "      <th>Pclass_2</th>\n",
       "      <th>Female</th>\n",
       "      <th>C</th>\n",
       "      <th>Q</th>\n",
       "    </tr>\n",
       "  </thead>\n",
       "  <tbody>\n",
       "    <tr>\n",
       "      <th>0</th>\n",
       "      <td>-0.540672</td>\n",
       "      <td>0.537313</td>\n",
       "      <td>-0.497802</td>\n",
       "      <td>-0.637531</td>\n",
       "      <td>-0.427451</td>\n",
       "      <td>0</td>\n",
       "      <td>0</td>\n",
       "      <td>0</td>\n",
       "      <td>0</td>\n",
       "      <td>0</td>\n",
       "    </tr>\n",
       "    <tr>\n",
       "      <th>1</th>\n",
       "      <td>0.581935</td>\n",
       "      <td>0.537313</td>\n",
       "      <td>-0.497802</td>\n",
       "      <td>1.209557</td>\n",
       "      <td>2.590962</td>\n",
       "      <td>1</td>\n",
       "      <td>0</td>\n",
       "      <td>1</td>\n",
       "      <td>1</td>\n",
       "      <td>0</td>\n",
       "    </tr>\n",
       "    <tr>\n",
       "      <th>2</th>\n",
       "      <td>-0.260020</td>\n",
       "      <td>-0.524208</td>\n",
       "      <td>-0.497802</td>\n",
       "      <td>-0.618060</td>\n",
       "      <td>-0.535252</td>\n",
       "      <td>0</td>\n",
       "      <td>0</td>\n",
       "      <td>1</td>\n",
       "      <td>0</td>\n",
       "      <td>0</td>\n",
       "    </tr>\n",
       "    <tr>\n",
       "      <th>3</th>\n",
       "      <td>0.371446</td>\n",
       "      <td>0.537313</td>\n",
       "      <td>-0.497802</td>\n",
       "      <td>0.685046</td>\n",
       "      <td>1.836359</td>\n",
       "      <td>1</td>\n",
       "      <td>0</td>\n",
       "      <td>1</td>\n",
       "      <td>0</td>\n",
       "      <td>0</td>\n",
       "    </tr>\n",
       "    <tr>\n",
       "      <th>4</th>\n",
       "      <td>0.371446</td>\n",
       "      <td>-0.524208</td>\n",
       "      <td>-0.497802</td>\n",
       "      <td>-0.614454</td>\n",
       "      <td>-0.319651</td>\n",
       "      <td>0</td>\n",
       "      <td>0</td>\n",
       "      <td>0</td>\n",
       "      <td>0</td>\n",
       "      <td>0</td>\n",
       "    </tr>\n",
       "  </tbody>\n",
       "</table>\n",
       "</div>"
      ],
      "text/plain": [
       "        Age     SibSp     Parch      Fare  Name_length  Pclass_1  Pclass_2  \\\n",
       "0 -0.540672  0.537313 -0.497802 -0.637531    -0.427451         0         0   \n",
       "1  0.581935  0.537313 -0.497802  1.209557     2.590962         1         0   \n",
       "2 -0.260020 -0.524208 -0.497802 -0.618060    -0.535252         0         0   \n",
       "3  0.371446  0.537313 -0.497802  0.685046     1.836359         1         0   \n",
       "4  0.371446 -0.524208 -0.497802 -0.614454    -0.319651         0         0   \n",
       "\n",
       "   Female  C  Q  \n",
       "0       0  0  0  \n",
       "1       1  1  0  \n",
       "2       1  0  0  \n",
       "3       1  0  0  \n",
       "4       0  0  0  "
      ]
     },
     "execution_count": 9,
     "metadata": {},
     "output_type": "execute_result"
    }
   ],
   "source": [
    "partial = full.copy()\n",
    "partial = partial.drop(columns = ['Family', 'Pclass_3', 'Male', 'S'])\n",
    "\n",
    "partial.head()"
   ]
  },
  {
   "cell_type": "markdown",
   "id": "7d1a4f41",
   "metadata": {
    "papermill": {
     "duration": 0.010876,
     "end_time": "2022-10-13T17:19:37.870323",
     "exception": false,
     "start_time": "2022-10-13T17:19:37.859447",
     "status": "completed"
    },
    "tags": []
   },
   "source": [
    "### M_info\n",
    "Exploring which features are valuable.\n"
   ]
  },
  {
   "cell_type": "code",
   "execution_count": 10,
   "id": "4d1e7428",
   "metadata": {
    "execution": {
     "iopub.execute_input": "2022-10-13T17:19:37.899802Z",
     "iopub.status.busy": "2022-10-13T17:19:37.899486Z",
     "iopub.status.idle": "2022-10-13T17:19:38.192573Z",
     "shell.execute_reply": "2022-10-13T17:19:38.191436Z"
    },
    "papermill": {
     "duration": 0.311652,
     "end_time": "2022-10-13T17:19:38.194820",
     "exception": false,
     "start_time": "2022-10-13T17:19:37.883168",
     "status": "completed"
    },
    "tags": []
   },
   "outputs": [
    {
     "data": {
      "text/plain": [
       "Female         0.173549\n",
       "Male           0.152542\n",
       "Fare           0.138449\n",
       "Name_length    0.082980\n",
       "Family         0.074067\n",
       "Pclass_3       0.056091\n",
       "Pclass_1       0.051071\n",
       "Age            0.038544\n",
       "C              0.019158\n",
       "SibSp          0.015436\n",
       "S              0.015122\n",
       "Pclass_2       0.008798\n",
       "Q              0.001393\n",
       "Parch          0.000000\n",
       "Name: MI scores, dtype: float64"
      ]
     },
     "execution_count": 10,
     "metadata": {},
     "output_type": "execute_result"
    }
   ],
   "source": [
    "from sklearn.feature_selection import mutual_info_regression\n",
    "\n",
    "mi_scores = mutual_info_regression(m_info, y, random_state = 0)\n",
    "mi_scores = pd.Series(mi_scores, name = 'MI scores', index = m_info.columns)\n",
    "mi_scores = mi_scores.sort_values(ascending = False)\n",
    "\n",
    "mi_scores"
   ]
  },
  {
   "cell_type": "markdown",
   "id": "1263ddc7",
   "metadata": {
    "papermill": {
     "duration": 0.011058,
     "end_time": "2022-10-13T17:19:38.217325",
     "exception": false,
     "start_time": "2022-10-13T17:19:38.206267",
     "status": "completed"
    },
    "tags": []
   },
   "source": [
    "Let's drop the last 5 columns (from \"SibSp\" to \"Parch\").\n",
    "\n",
    "Now I'm copying the \"full\" data frame with standardization."
   ]
  },
  {
   "cell_type": "code",
   "execution_count": 11,
   "id": "37b1c288",
   "metadata": {
    "execution": {
     "iopub.execute_input": "2022-10-13T17:19:38.241479Z",
     "iopub.status.busy": "2022-10-13T17:19:38.240890Z",
     "iopub.status.idle": "2022-10-13T17:19:38.255788Z",
     "shell.execute_reply": "2022-10-13T17:19:38.254224Z"
    },
    "papermill": {
     "duration": 0.03011,
     "end_time": "2022-10-13T17:19:38.258689",
     "exception": false,
     "start_time": "2022-10-13T17:19:38.228579",
     "status": "completed"
    },
    "tags": []
   },
   "outputs": [
    {
     "data": {
      "text/html": [
       "<div>\n",
       "<style scoped>\n",
       "    .dataframe tbody tr th:only-of-type {\n",
       "        vertical-align: middle;\n",
       "    }\n",
       "\n",
       "    .dataframe tbody tr th {\n",
       "        vertical-align: top;\n",
       "    }\n",
       "\n",
       "    .dataframe thead th {\n",
       "        text-align: right;\n",
       "    }\n",
       "</style>\n",
       "<table border=\"1\" class=\"dataframe\">\n",
       "  <thead>\n",
       "    <tr style=\"text-align: right;\">\n",
       "      <th></th>\n",
       "      <th>Age</th>\n",
       "      <th>Fare</th>\n",
       "      <th>Family</th>\n",
       "      <th>Name_length</th>\n",
       "      <th>Pclass_1</th>\n",
       "      <th>Pclass_3</th>\n",
       "      <th>Female</th>\n",
       "      <th>Male</th>\n",
       "      <th>C</th>\n",
       "    </tr>\n",
       "  </thead>\n",
       "  <tbody>\n",
       "    <tr>\n",
       "      <th>0</th>\n",
       "      <td>-0.540672</td>\n",
       "      <td>-0.637531</td>\n",
       "      <td>0.095906</td>\n",
       "      <td>-0.427451</td>\n",
       "      <td>0</td>\n",
       "      <td>1</td>\n",
       "      <td>0</td>\n",
       "      <td>1</td>\n",
       "      <td>0</td>\n",
       "    </tr>\n",
       "    <tr>\n",
       "      <th>1</th>\n",
       "      <td>0.581935</td>\n",
       "      <td>1.209557</td>\n",
       "      <td>0.095906</td>\n",
       "      <td>2.590962</td>\n",
       "      <td>1</td>\n",
       "      <td>0</td>\n",
       "      <td>1</td>\n",
       "      <td>0</td>\n",
       "      <td>1</td>\n",
       "    </tr>\n",
       "    <tr>\n",
       "      <th>2</th>\n",
       "      <td>-0.260020</td>\n",
       "      <td>-0.618060</td>\n",
       "      <td>-0.598831</td>\n",
       "      <td>-0.535252</td>\n",
       "      <td>0</td>\n",
       "      <td>1</td>\n",
       "      <td>1</td>\n",
       "      <td>0</td>\n",
       "      <td>0</td>\n",
       "    </tr>\n",
       "    <tr>\n",
       "      <th>3</th>\n",
       "      <td>0.371446</td>\n",
       "      <td>0.685046</td>\n",
       "      <td>0.095906</td>\n",
       "      <td>1.836359</td>\n",
       "      <td>1</td>\n",
       "      <td>0</td>\n",
       "      <td>1</td>\n",
       "      <td>0</td>\n",
       "      <td>0</td>\n",
       "    </tr>\n",
       "    <tr>\n",
       "      <th>4</th>\n",
       "      <td>0.371446</td>\n",
       "      <td>-0.614454</td>\n",
       "      <td>-0.598831</td>\n",
       "      <td>-0.319651</td>\n",
       "      <td>0</td>\n",
       "      <td>1</td>\n",
       "      <td>0</td>\n",
       "      <td>1</td>\n",
       "      <td>0</td>\n",
       "    </tr>\n",
       "  </tbody>\n",
       "</table>\n",
       "</div>"
      ],
      "text/plain": [
       "        Age      Fare    Family  Name_length  Pclass_1  Pclass_3  Female  \\\n",
       "0 -0.540672 -0.637531  0.095906    -0.427451         0         1       0   \n",
       "1  0.581935  1.209557  0.095906     2.590962         1         0       1   \n",
       "2 -0.260020 -0.618060 -0.598831    -0.535252         0         1       1   \n",
       "3  0.371446  0.685046  0.095906     1.836359         1         0       1   \n",
       "4  0.371446 -0.614454 -0.598831    -0.319651         0         1       0   \n",
       "\n",
       "   Male  C  \n",
       "0     1  0  \n",
       "1     0  1  \n",
       "2     0  0  \n",
       "3     0  0  \n",
       "4     1  0  "
      ]
     },
     "execution_count": 11,
     "metadata": {},
     "output_type": "execute_result"
    }
   ],
   "source": [
    "m_info = full.copy()\n",
    "m_info = m_info.drop(columns = ['SibSp', 'S', 'Pclass_2', 'Q', 'Parch'])\n",
    "\n",
    "m_info.head()"
   ]
  },
  {
   "cell_type": "markdown",
   "id": "2e314184",
   "metadata": {
    "papermill": {
     "duration": 0.011655,
     "end_time": "2022-10-13T17:19:38.281752",
     "exception": false,
     "start_time": "2022-10-13T17:19:38.270097",
     "status": "completed"
    },
    "tags": []
   },
   "source": [
    "### Perm_imp\n",
    "I will use a random forest model to get permutation importance scores."
   ]
  },
  {
   "cell_type": "code",
   "execution_count": 12,
   "id": "d58662a1",
   "metadata": {
    "execution": {
     "iopub.execute_input": "2022-10-13T17:19:38.306289Z",
     "iopub.status.busy": "2022-10-13T17:19:38.305799Z",
     "iopub.status.idle": "2022-10-13T17:19:47.982646Z",
     "shell.execute_reply": "2022-10-13T17:19:47.981036Z"
    },
    "papermill": {
     "duration": 9.692165,
     "end_time": "2022-10-13T17:19:47.985709",
     "exception": false,
     "start_time": "2022-10-13T17:19:38.293544",
     "status": "completed"
    },
    "tags": []
   },
   "outputs": [
    {
     "data": {
      "text/html": [
       "<style type='text/css'>\n",
       ".datatable table.frame { margin-bottom: 0; }\n",
       ".datatable table.frame thead { border-bottom: none; }\n",
       ".datatable table.frame tr.coltypes td {  color: #FFFFFF;  line-height: 6px;  padding: 0 0.5em;}\n",
       ".datatable .bool    { background: #DDDD99; }\n",
       ".datatable .object  { background: #565656; }\n",
       ".datatable .int     { background: #5D9E5D; }\n",
       ".datatable .float   { background: #4040CC; }\n",
       ".datatable .str     { background: #CC4040; }\n",
       ".datatable .time    { background: #40CC40; }\n",
       ".datatable .row_index {  background: var(--jp-border-color3);  border-right: 1px solid var(--jp-border-color0);  color: var(--jp-ui-font-color3);  font-size: 9px;}\n",
       ".datatable .frame tbody td { text-align: left; }\n",
       ".datatable .frame tr.coltypes .row_index {  background: var(--jp-border-color0);}\n",
       ".datatable th:nth-child(2) { padding-left: 12px; }\n",
       ".datatable .hellipsis {  color: var(--jp-cell-editor-border-color);}\n",
       ".datatable .vellipsis {  background: var(--jp-layout-color0);  color: var(--jp-cell-editor-border-color);}\n",
       ".datatable .na {  color: var(--jp-cell-editor-border-color);  font-size: 80%;}\n",
       ".datatable .sp {  opacity: 0.25;}\n",
       ".datatable .footer { font-size: 9px; }\n",
       ".datatable .frame_dimensions {  background: var(--jp-border-color3);  border-top: 1px solid var(--jp-border-color0);  color: var(--jp-ui-font-color3);  display: inline-block;  opacity: 0.6;  padding: 1px 10px 1px 5px;}\n",
       "</style>\n"
      ],
      "text/plain": [
       "<IPython.core.display.HTML object>"
      ]
     },
     "metadata": {},
     "output_type": "display_data"
    },
    {
     "data": {
      "text/html": [
       "\n",
       "    <style>\n",
       "    table.eli5-weights tr:hover {\n",
       "        filter: brightness(85%);\n",
       "    }\n",
       "</style>\n",
       "\n",
       "\n",
       "\n",
       "    \n",
       "\n",
       "    \n",
       "\n",
       "    \n",
       "\n",
       "    \n",
       "\n",
       "    \n",
       "\n",
       "    \n",
       "\n",
       "\n",
       "    \n",
       "\n",
       "    \n",
       "\n",
       "    \n",
       "\n",
       "    \n",
       "\n",
       "    \n",
       "\n",
       "    \n",
       "\n",
       "\n",
       "    \n",
       "\n",
       "    \n",
       "\n",
       "    \n",
       "\n",
       "    \n",
       "\n",
       "    \n",
       "        <table class=\"eli5-weights eli5-feature-importances\" style=\"border-collapse: collapse; border: none; margin-top: 0em; table-layout: auto;\">\n",
       "    <thead>\n",
       "    <tr style=\"border: none;\">\n",
       "        <th style=\"padding: 0 1em 0 0.5em; text-align: right; border: none;\">Weight</th>\n",
       "        <th style=\"padding: 0 0.5em 0 0.5em; text-align: left; border: none;\">Feature</th>\n",
       "    </tr>\n",
       "    </thead>\n",
       "    <tbody>\n",
       "    \n",
       "        <tr style=\"background-color: hsl(120, 100.00%, 80.00%); border: none;\">\n",
       "            <td style=\"padding: 0 1em 0 0.5em; text-align: right; border: none;\">\n",
       "                0.0570\n",
       "                \n",
       "                    &plusmn; 0.0449\n",
       "                \n",
       "            </td>\n",
       "            <td style=\"padding: 0 0.5em 0 0.5em; text-align: left; border: none;\">\n",
       "                Male\n",
       "            </td>\n",
       "        </tr>\n",
       "    \n",
       "        <tr style=\"background-color: hsl(120, 100.00%, 86.53%); border: none;\">\n",
       "            <td style=\"padding: 0 1em 0 0.5em; text-align: right; border: none;\">\n",
       "                0.0324\n",
       "                \n",
       "                    &plusmn; 0.0130\n",
       "                \n",
       "            </td>\n",
       "            <td style=\"padding: 0 0.5em 0 0.5em; text-align: left; border: none;\">\n",
       "                Age\n",
       "            </td>\n",
       "        </tr>\n",
       "    \n",
       "        <tr style=\"background-color: hsl(120, 100.00%, 87.19%); border: none;\">\n",
       "            <td style=\"padding: 0 1em 0 0.5em; text-align: right; border: none;\">\n",
       "                0.0302\n",
       "                \n",
       "                    &plusmn; 0.0114\n",
       "                \n",
       "            </td>\n",
       "            <td style=\"padding: 0 0.5em 0 0.5em; text-align: left; border: none;\">\n",
       "                Name_length\n",
       "            </td>\n",
       "        </tr>\n",
       "    \n",
       "        <tr style=\"background-color: hsl(120, 100.00%, 87.52%); border: none;\">\n",
       "            <td style=\"padding: 0 1em 0 0.5em; text-align: right; border: none;\">\n",
       "                0.0291\n",
       "                \n",
       "                    &plusmn; 0.0130\n",
       "                \n",
       "            </td>\n",
       "            <td style=\"padding: 0 0.5em 0 0.5em; text-align: left; border: none;\">\n",
       "                Fare\n",
       "            </td>\n",
       "        </tr>\n",
       "    \n",
       "        <tr style=\"background-color: hsl(120, 100.00%, 88.90%); border: none;\">\n",
       "            <td style=\"padding: 0 1em 0 0.5em; text-align: right; border: none;\">\n",
       "                0.0246\n",
       "                \n",
       "                    &plusmn; 0.0328\n",
       "                \n",
       "            </td>\n",
       "            <td style=\"padding: 0 0.5em 0 0.5em; text-align: left; border: none;\">\n",
       "                Female\n",
       "            </td>\n",
       "        </tr>\n",
       "    \n",
       "        <tr style=\"background-color: hsl(120, 100.00%, 88.90%); border: none;\">\n",
       "            <td style=\"padding: 0 1em 0 0.5em; text-align: right; border: none;\">\n",
       "                0.0246\n",
       "                \n",
       "                    &plusmn; 0.0195\n",
       "                \n",
       "            </td>\n",
       "            <td style=\"padding: 0 0.5em 0 0.5em; text-align: left; border: none;\">\n",
       "                Pclass_3\n",
       "            </td>\n",
       "        </tr>\n",
       "    \n",
       "        <tr style=\"background-color: hsl(120, 100.00%, 91.91%); border: none;\">\n",
       "            <td style=\"padding: 0 1em 0 0.5em; text-align: right; border: none;\">\n",
       "                0.0156\n",
       "                \n",
       "                    &plusmn; 0.0217\n",
       "                \n",
       "            </td>\n",
       "            <td style=\"padding: 0 0.5em 0 0.5em; text-align: left; border: none;\">\n",
       "                Family\n",
       "            </td>\n",
       "        </tr>\n",
       "    \n",
       "        <tr style=\"background-color: hsl(120, 100.00%, 93.61%); border: none;\">\n",
       "            <td style=\"padding: 0 1em 0 0.5em; text-align: right; border: none;\">\n",
       "                0.0112\n",
       "                \n",
       "                    &plusmn; 0.0158\n",
       "                \n",
       "            </td>\n",
       "            <td style=\"padding: 0 0.5em 0 0.5em; text-align: left; border: none;\">\n",
       "                SibSp\n",
       "            </td>\n",
       "        </tr>\n",
       "    \n",
       "        <tr style=\"background-color: hsl(120, 100.00%, 94.06%); border: none;\">\n",
       "            <td style=\"padding: 0 1em 0 0.5em; text-align: right; border: none;\">\n",
       "                0.0101\n",
       "                \n",
       "                    &plusmn; 0.0130\n",
       "                \n",
       "            </td>\n",
       "            <td style=\"padding: 0 0.5em 0 0.5em; text-align: left; border: none;\">\n",
       "                Pclass_1\n",
       "            </td>\n",
       "        </tr>\n",
       "    \n",
       "        <tr style=\"background-color: hsl(120, 100.00%, 97.25%); border: none;\">\n",
       "            <td style=\"padding: 0 1em 0 0.5em; text-align: right; border: none;\">\n",
       "                0.0034\n",
       "                \n",
       "                    &plusmn; 0.0114\n",
       "                \n",
       "            </td>\n",
       "            <td style=\"padding: 0 0.5em 0 0.5em; text-align: left; border: none;\">\n",
       "                Parch\n",
       "            </td>\n",
       "        </tr>\n",
       "    \n",
       "        <tr style=\"background-color: hsl(120, 100.00%, 98.72%); border: none;\">\n",
       "            <td style=\"padding: 0 1em 0 0.5em; text-align: right; border: none;\">\n",
       "                0.0011\n",
       "                \n",
       "                    &plusmn; 0.0045\n",
       "                \n",
       "            </td>\n",
       "            <td style=\"padding: 0 0.5em 0 0.5em; text-align: left; border: none;\">\n",
       "                Q\n",
       "            </td>\n",
       "        </tr>\n",
       "    \n",
       "        <tr style=\"background-color: hsl(120, 100.00%, 98.72%); border: none;\">\n",
       "            <td style=\"padding: 0 1em 0 0.5em; text-align: right; border: none;\">\n",
       "                0.0011\n",
       "                \n",
       "                    &plusmn; 0.0045\n",
       "                \n",
       "            </td>\n",
       "            <td style=\"padding: 0 0.5em 0 0.5em; text-align: left; border: none;\">\n",
       "                Pclass_2\n",
       "            </td>\n",
       "        </tr>\n",
       "    \n",
       "        <tr style=\"background-color: hsl(120, 100.00%, 98.72%); border: none;\">\n",
       "            <td style=\"padding: 0 1em 0 0.5em; text-align: right; border: none;\">\n",
       "                0.0011\n",
       "                \n",
       "                    &plusmn; 0.0130\n",
       "                \n",
       "            </td>\n",
       "            <td style=\"padding: 0 0.5em 0 0.5em; text-align: left; border: none;\">\n",
       "                C\n",
       "            </td>\n",
       "        </tr>\n",
       "    \n",
       "        <tr style=\"background-color: hsl(0, 100.00%, 97.93%); border: none;\">\n",
       "            <td style=\"padding: 0 1em 0 0.5em; text-align: right; border: none;\">\n",
       "                -0.0022\n",
       "                \n",
       "                    &plusmn; 0.0241\n",
       "                \n",
       "            </td>\n",
       "            <td style=\"padding: 0 0.5em 0 0.5em; text-align: left; border: none;\">\n",
       "                S\n",
       "            </td>\n",
       "        </tr>\n",
       "    \n",
       "    \n",
       "    </tbody>\n",
       "</table>\n",
       "    \n",
       "\n",
       "    \n",
       "\n",
       "\n",
       "    \n",
       "\n",
       "    \n",
       "\n",
       "    \n",
       "\n",
       "    \n",
       "\n",
       "    \n",
       "\n",
       "    \n",
       "\n",
       "\n",
       "\n"
      ],
      "text/plain": [
       "<IPython.core.display.HTML object>"
      ]
     },
     "execution_count": 12,
     "metadata": {},
     "output_type": "execute_result"
    }
   ],
   "source": [
    "import eli5\n",
    "from eli5.sklearn import PermutationImportance\n",
    "from sklearn.ensemble import RandomForestClassifier\n",
    "from sklearn.model_selection import train_test_split\n",
    "\n",
    "X_train, X_val, y_train, y_val = train_test_split(full, y, train_size = 0.8, random_state = 0)\n",
    "\n",
    "model = RandomForestClassifier(random_state = 0).fit(X_train, y_train)\n",
    "perm = PermutationImportance(model, random_state = 0).fit(X_val, y_val)\n",
    "\n",
    "eli5.show_weights(perm, feature_names = X_val.columns.to_list())"
   ]
  },
  {
   "cell_type": "markdown",
   "id": "3f2c245c",
   "metadata": {
    "papermill": {
     "duration": 0.011712,
     "end_time": "2022-10-13T17:19:48.010074",
     "exception": false,
     "start_time": "2022-10-13T17:19:47.998362",
     "status": "completed"
    },
    "tags": []
   },
   "source": [
    "As we can see the result is similar to the mutual information.\n",
    "\n",
    "Let's drop the last 5 columns (from \"Parch\" to \"S\")."
   ]
  },
  {
   "cell_type": "code",
   "execution_count": 13,
   "id": "1f2b602a",
   "metadata": {
    "execution": {
     "iopub.execute_input": "2022-10-13T17:19:48.036686Z",
     "iopub.status.busy": "2022-10-13T17:19:48.035670Z",
     "iopub.status.idle": "2022-10-13T17:19:48.051051Z",
     "shell.execute_reply": "2022-10-13T17:19:48.049518Z"
    },
    "papermill": {
     "duration": 0.031008,
     "end_time": "2022-10-13T17:19:48.053217",
     "exception": false,
     "start_time": "2022-10-13T17:19:48.022209",
     "status": "completed"
    },
    "tags": []
   },
   "outputs": [
    {
     "data": {
      "text/html": [
       "<div>\n",
       "<style scoped>\n",
       "    .dataframe tbody tr th:only-of-type {\n",
       "        vertical-align: middle;\n",
       "    }\n",
       "\n",
       "    .dataframe tbody tr th {\n",
       "        vertical-align: top;\n",
       "    }\n",
       "\n",
       "    .dataframe thead th {\n",
       "        text-align: right;\n",
       "    }\n",
       "</style>\n",
       "<table border=\"1\" class=\"dataframe\">\n",
       "  <thead>\n",
       "    <tr style=\"text-align: right;\">\n",
       "      <th></th>\n",
       "      <th>Age</th>\n",
       "      <th>SibSp</th>\n",
       "      <th>Fare</th>\n",
       "      <th>Family</th>\n",
       "      <th>Name_length</th>\n",
       "      <th>Pclass_1</th>\n",
       "      <th>Pclass_3</th>\n",
       "      <th>Female</th>\n",
       "      <th>Male</th>\n",
       "    </tr>\n",
       "  </thead>\n",
       "  <tbody>\n",
       "    <tr>\n",
       "      <th>0</th>\n",
       "      <td>-0.540672</td>\n",
       "      <td>0.537313</td>\n",
       "      <td>-0.637531</td>\n",
       "      <td>0.095906</td>\n",
       "      <td>-0.427451</td>\n",
       "      <td>0</td>\n",
       "      <td>1</td>\n",
       "      <td>0</td>\n",
       "      <td>1</td>\n",
       "    </tr>\n",
       "    <tr>\n",
       "      <th>1</th>\n",
       "      <td>0.581935</td>\n",
       "      <td>0.537313</td>\n",
       "      <td>1.209557</td>\n",
       "      <td>0.095906</td>\n",
       "      <td>2.590962</td>\n",
       "      <td>1</td>\n",
       "      <td>0</td>\n",
       "      <td>1</td>\n",
       "      <td>0</td>\n",
       "    </tr>\n",
       "    <tr>\n",
       "      <th>2</th>\n",
       "      <td>-0.260020</td>\n",
       "      <td>-0.524208</td>\n",
       "      <td>-0.618060</td>\n",
       "      <td>-0.598831</td>\n",
       "      <td>-0.535252</td>\n",
       "      <td>0</td>\n",
       "      <td>1</td>\n",
       "      <td>1</td>\n",
       "      <td>0</td>\n",
       "    </tr>\n",
       "    <tr>\n",
       "      <th>3</th>\n",
       "      <td>0.371446</td>\n",
       "      <td>0.537313</td>\n",
       "      <td>0.685046</td>\n",
       "      <td>0.095906</td>\n",
       "      <td>1.836359</td>\n",
       "      <td>1</td>\n",
       "      <td>0</td>\n",
       "      <td>1</td>\n",
       "      <td>0</td>\n",
       "    </tr>\n",
       "    <tr>\n",
       "      <th>4</th>\n",
       "      <td>0.371446</td>\n",
       "      <td>-0.524208</td>\n",
       "      <td>-0.614454</td>\n",
       "      <td>-0.598831</td>\n",
       "      <td>-0.319651</td>\n",
       "      <td>0</td>\n",
       "      <td>1</td>\n",
       "      <td>0</td>\n",
       "      <td>1</td>\n",
       "    </tr>\n",
       "  </tbody>\n",
       "</table>\n",
       "</div>"
      ],
      "text/plain": [
       "        Age     SibSp      Fare    Family  Name_length  Pclass_1  Pclass_3  \\\n",
       "0 -0.540672  0.537313 -0.637531  0.095906    -0.427451         0         1   \n",
       "1  0.581935  0.537313  1.209557  0.095906     2.590962         1         0   \n",
       "2 -0.260020 -0.524208 -0.618060 -0.598831    -0.535252         0         1   \n",
       "3  0.371446  0.537313  0.685046  0.095906     1.836359         1         0   \n",
       "4  0.371446 -0.524208 -0.614454 -0.598831    -0.319651         0         1   \n",
       "\n",
       "   Female  Male  \n",
       "0       0     1  \n",
       "1       1     0  \n",
       "2       1     0  \n",
       "3       1     0  \n",
       "4       0     1  "
      ]
     },
     "execution_count": 13,
     "metadata": {},
     "output_type": "execute_result"
    }
   ],
   "source": [
    "perm_imp = full.copy()\n",
    "perm_imp = perm_imp.drop(columns = ['Parch', 'Q', 'Pclass_2', 'C', 'S'])\n",
    "\n",
    "perm_imp.head()"
   ]
  },
  {
   "cell_type": "markdown",
   "id": "72543149",
   "metadata": {
    "papermill": {
     "duration": 0.011945,
     "end_time": "2022-10-13T17:19:48.077362",
     "exception": false,
     "start_time": "2022-10-13T17:19:48.065417",
     "status": "completed"
    },
    "tags": []
   },
   "source": [
    "## Hyperparameter optimization\n",
    "### Setting everything we need to train models and save results\n",
    "\n",
    "Enumeration of parameter values."
   ]
  },
  {
   "cell_type": "code",
   "execution_count": 14,
   "id": "b54e160b",
   "metadata": {
    "execution": {
     "iopub.execute_input": "2022-10-13T17:19:48.103487Z",
     "iopub.status.busy": "2022-10-13T17:19:48.103190Z",
     "iopub.status.idle": "2022-10-13T17:19:48.109509Z",
     "shell.execute_reply": "2022-10-13T17:19:48.108224Z"
    },
    "papermill": {
     "duration": 0.022222,
     "end_time": "2022-10-13T17:19:48.111925",
     "exception": false,
     "start_time": "2022-10-13T17:19:48.089703",
     "status": "completed"
    },
    "tags": []
   },
   "outputs": [],
   "source": [
    "# Random Forest Classifier\n",
    "max_depth = [12, 13, 14]\n",
    "min_samples_split_rf = [3, 4, 5]\n",
    "\n",
    "# Gradient Boosting Classifier\n",
    "learning_rate = [0.15, 0.2, 0.25]\n",
    "subsample = [0.5, 0.6, 0.7, 0.8, 0.9, 1.0]\n",
    "min_samples_split_gb = [4, 5, 6, 9]\n",
    "\n",
    "# Logistic Regression\n",
    "# Warning: some penalties may not work with some solvers\n",
    "penalty = ['l1', 'l2']\n",
    "C = [0.5, 0.75, 1.0, 1.25, 1.5]\n",
    "solver = ['liblinear', 'saga', 'lbfgs']\n",
    "\n",
    "# KNN\n",
    "n_neighbors = [2, 3, 4, 5, 6]\n",
    "p = [1, 2]"
   ]
  },
  {
   "cell_type": "markdown",
   "id": "2da9f768",
   "metadata": {
    "papermill": {
     "duration": 0.011541,
     "end_time": "2022-10-13T17:19:48.135539",
     "exception": false,
     "start_time": "2022-10-13T17:19:48.123998",
     "status": "completed"
    },
    "tags": []
   },
   "source": [
    "Data frames that will contain the best parameters and scores."
   ]
  },
  {
   "cell_type": "code",
   "execution_count": 15,
   "id": "0ecaf1d9",
   "metadata": {
    "execution": {
     "iopub.execute_input": "2022-10-13T17:19:48.161382Z",
     "iopub.status.busy": "2022-10-13T17:19:48.160419Z",
     "iopub.status.idle": "2022-10-13T17:19:48.176188Z",
     "shell.execute_reply": "2022-10-13T17:19:48.174710Z"
    },
    "papermill": {
     "duration": 0.031128,
     "end_time": "2022-10-13T17:19:48.178583",
     "exception": false,
     "start_time": "2022-10-13T17:19:48.147455",
     "status": "completed"
    },
    "tags": []
   },
   "outputs": [],
   "source": [
    "general = pd.DataFrame(columns = ['Model', 'Data', 'Score'], index = range(16))\n",
    "\n",
    "rf = pd.DataFrame(columns = ['Data', 'Score', 'Max_depth', 'Min_samples_split'], index = range(4))\n",
    "gb = pd.DataFrame(columns = ['Data', 'Score', 'Learning_rate', 'Subsample', 'Min_samples_split'], index = range(4))\n",
    "lr = pd.DataFrame(columns = ['Data', 'Score', 'Penalty', 'C', 'Solver'], index = range(4))\n",
    "knn = pd.DataFrame(columns = ['Data', 'Score', 'N_neighbors', 'P'], index = range(4))\n",
    "\n",
    "rf['Data'] = ['full', 'partial', 'm_info', 'perm_imp']\n",
    "gb['Data'] = ['full', 'partial', 'm_info', 'perm_imp']\n",
    "lr['Data'] = ['full', 'partial', 'm_info', 'perm_imp']\n",
    "knn['Data'] = ['full', 'partial', 'm_info', 'perm_imp']"
   ]
  },
  {
   "cell_type": "markdown",
   "id": "8d53b15e",
   "metadata": {
    "papermill": {
     "duration": 0.014429,
     "end_time": "2022-10-13T17:19:48.205320",
     "exception": false,
     "start_time": "2022-10-13T17:19:48.190891",
     "status": "completed"
    },
    "tags": []
   },
   "source": [
    "### Random Forest Classifier\n",
    "Define a function to train the model and get results."
   ]
  },
  {
   "cell_type": "code",
   "execution_count": 16,
   "id": "073a4df5",
   "metadata": {
    "execution": {
     "iopub.execute_input": "2022-10-13T17:19:48.232196Z",
     "iopub.status.busy": "2022-10-13T17:19:48.231864Z",
     "iopub.status.idle": "2022-10-13T17:19:48.238948Z",
     "shell.execute_reply": "2022-10-13T17:19:48.237975Z"
    },
    "papermill": {
     "duration": 0.022113,
     "end_time": "2022-10-13T17:19:48.240646",
     "exception": false,
     "start_time": "2022-10-13T17:19:48.218533",
     "status": "completed"
    },
    "tags": []
   },
   "outputs": [],
   "source": [
    "from sklearn.model_selection import cross_val_score\n",
    "\n",
    "def rf_get_parameters_and_scores(data):\n",
    "    score = 1\n",
    "    for depth in max_depth:\n",
    "        for sample in min_samples_split_rf:\n",
    "            model = RandomForestClassifier(max_depth = depth, min_samples_split = sample, random_state = 0)\n",
    "            scores = -1 * cross_val_score(model, data, y, cv = 5, scoring = 'neg_mean_absolute_error')\n",
    "            if scores.mean() < score:\n",
    "                score = scores.mean()\n",
    "                best_depth = depth\n",
    "                best_sample = sample\n",
    "    return [score, best_depth, best_sample]"
   ]
  },
  {
   "cell_type": "markdown",
   "id": "864256d1",
   "metadata": {
    "papermill": {
     "duration": 0.011842,
     "end_time": "2022-10-13T17:19:48.264478",
     "exception": false,
     "start_time": "2022-10-13T17:19:48.252636",
     "status": "completed"
    },
    "tags": []
   },
   "source": [
    "Getting scores."
   ]
  },
  {
   "cell_type": "code",
   "execution_count": 17,
   "id": "79064677",
   "metadata": {
    "execution": {
     "iopub.execute_input": "2022-10-13T17:19:48.289522Z",
     "iopub.status.busy": "2022-10-13T17:19:48.289195Z",
     "iopub.status.idle": "2022-10-13T17:20:17.977521Z",
     "shell.execute_reply": "2022-10-13T17:20:17.976202Z"
    },
    "papermill": {
     "duration": 29.703423,
     "end_time": "2022-10-13T17:20:17.979743",
     "exception": false,
     "start_time": "2022-10-13T17:19:48.276320",
     "status": "completed"
    },
    "tags": []
   },
   "outputs": [
    {
     "data": {
      "text/html": [
       "<div>\n",
       "<style scoped>\n",
       "    .dataframe tbody tr th:only-of-type {\n",
       "        vertical-align: middle;\n",
       "    }\n",
       "\n",
       "    .dataframe tbody tr th {\n",
       "        vertical-align: top;\n",
       "    }\n",
       "\n",
       "    .dataframe thead th {\n",
       "        text-align: right;\n",
       "    }\n",
       "</style>\n",
       "<table border=\"1\" class=\"dataframe\">\n",
       "  <thead>\n",
       "    <tr style=\"text-align: right;\">\n",
       "      <th></th>\n",
       "      <th>Data</th>\n",
       "      <th>Score</th>\n",
       "      <th>Max_depth</th>\n",
       "      <th>Min_samples_split</th>\n",
       "    </tr>\n",
       "  </thead>\n",
       "  <tbody>\n",
       "    <tr>\n",
       "      <th>0</th>\n",
       "      <td>full</td>\n",
       "      <td>0.162733</td>\n",
       "      <td>14</td>\n",
       "      <td>5</td>\n",
       "    </tr>\n",
       "    <tr>\n",
       "      <th>1</th>\n",
       "      <td>partial</td>\n",
       "      <td>0.16498</td>\n",
       "      <td>13</td>\n",
       "      <td>5</td>\n",
       "    </tr>\n",
       "    <tr>\n",
       "      <th>2</th>\n",
       "      <td>m_info</td>\n",
       "      <td>0.163838</td>\n",
       "      <td>12</td>\n",
       "      <td>5</td>\n",
       "    </tr>\n",
       "    <tr>\n",
       "      <th>3</th>\n",
       "      <td>perm_imp</td>\n",
       "      <td>0.167227</td>\n",
       "      <td>12</td>\n",
       "      <td>4</td>\n",
       "    </tr>\n",
       "  </tbody>\n",
       "</table>\n",
       "</div>"
      ],
      "text/plain": [
       "       Data     Score Max_depth Min_samples_split\n",
       "0      full  0.162733        14                 5\n",
       "1   partial   0.16498        13                 5\n",
       "2    m_info  0.163838        12                 5\n",
       "3  perm_imp  0.167227        12                 4"
      ]
     },
     "execution_count": 17,
     "metadata": {},
     "output_type": "execute_result"
    }
   ],
   "source": [
    "dfs = [full, partial, m_info, perm_imp]\n",
    "\n",
    "for i, data in enumerate(dfs):\n",
    "    rf.iloc[i, 1:] = rf_get_parameters_and_scores(data)\n",
    "\n",
    "rf"
   ]
  },
  {
   "cell_type": "markdown",
   "id": "6b026208",
   "metadata": {
    "papermill": {
     "duration": 0.011601,
     "end_time": "2022-10-13T17:20:18.003427",
     "exception": false,
     "start_time": "2022-10-13T17:20:17.991826",
     "status": "completed"
    },
    "tags": []
   },
   "source": [
    "### Gradient Boosting Classifier\n",
    "Define a function to train the model and get results."
   ]
  },
  {
   "cell_type": "code",
   "execution_count": 18,
   "id": "48f1d3ee",
   "metadata": {
    "execution": {
     "iopub.execute_input": "2022-10-13T17:20:18.029878Z",
     "iopub.status.busy": "2022-10-13T17:20:18.029571Z",
     "iopub.status.idle": "2022-10-13T17:20:18.036871Z",
     "shell.execute_reply": "2022-10-13T17:20:18.035714Z"
    },
    "papermill": {
     "duration": 0.024494,
     "end_time": "2022-10-13T17:20:18.039760",
     "exception": false,
     "start_time": "2022-10-13T17:20:18.015266",
     "status": "completed"
    },
    "tags": []
   },
   "outputs": [],
   "source": [
    "from sklearn.ensemble import GradientBoostingClassifier\n",
    "\n",
    "def gb_get_parameters_and_scores(data):\n",
    "    score = 1\n",
    "    for rate in learning_rate:\n",
    "        for samp in subsample:\n",
    "            for sample in min_samples_split_gb:\n",
    "                model = GradientBoostingClassifier(learning_rate = rate, subsample = samp, min_samples_split = sample, random_state = 0)\n",
    "                scores = -1 * cross_val_score(model, data, y, cv = 5, scoring = 'neg_mean_absolute_error')\n",
    "                if scores.mean() < score:\n",
    "                    score = scores.mean()\n",
    "                    best_rate = rate\n",
    "                    best_samp = samp\n",
    "                    best_sample = sample\n",
    "    return [score, best_rate, best_samp, best_sample]"
   ]
  },
  {
   "cell_type": "markdown",
   "id": "f8f97b53",
   "metadata": {
    "papermill": {
     "duration": 0.011759,
     "end_time": "2022-10-13T17:20:18.064009",
     "exception": false,
     "start_time": "2022-10-13T17:20:18.052250",
     "status": "completed"
    },
    "tags": []
   },
   "source": [
    "Getting scores."
   ]
  },
  {
   "cell_type": "code",
   "execution_count": 19,
   "id": "8a89cf94",
   "metadata": {
    "execution": {
     "iopub.execute_input": "2022-10-13T17:20:18.090233Z",
     "iopub.status.busy": "2022-10-13T17:20:18.089907Z",
     "iopub.status.idle": "2022-10-13T17:22:39.165635Z",
     "shell.execute_reply": "2022-10-13T17:22:39.164291Z"
    },
    "papermill": {
     "duration": 141.10377,
     "end_time": "2022-10-13T17:22:39.179846",
     "exception": false,
     "start_time": "2022-10-13T17:20:18.076076",
     "status": "completed"
    },
    "tags": []
   },
   "outputs": [
    {
     "data": {
      "text/html": [
       "<div>\n",
       "<style scoped>\n",
       "    .dataframe tbody tr th:only-of-type {\n",
       "        vertical-align: middle;\n",
       "    }\n",
       "\n",
       "    .dataframe tbody tr th {\n",
       "        vertical-align: top;\n",
       "    }\n",
       "\n",
       "    .dataframe thead th {\n",
       "        text-align: right;\n",
       "    }\n",
       "</style>\n",
       "<table border=\"1\" class=\"dataframe\">\n",
       "  <thead>\n",
       "    <tr style=\"text-align: right;\">\n",
       "      <th></th>\n",
       "      <th>Data</th>\n",
       "      <th>Score</th>\n",
       "      <th>Learning_rate</th>\n",
       "      <th>Subsample</th>\n",
       "      <th>Min_samples_split</th>\n",
       "    </tr>\n",
       "  </thead>\n",
       "  <tbody>\n",
       "    <tr>\n",
       "      <th>0</th>\n",
       "      <td>full</td>\n",
       "      <td>0.170561</td>\n",
       "      <td>0.15</td>\n",
       "      <td>0.5</td>\n",
       "      <td>5</td>\n",
       "    </tr>\n",
       "    <tr>\n",
       "      <th>1</th>\n",
       "      <td>partial</td>\n",
       "      <td>0.168332</td>\n",
       "      <td>0.15</td>\n",
       "      <td>0.6</td>\n",
       "      <td>4</td>\n",
       "    </tr>\n",
       "    <tr>\n",
       "      <th>2</th>\n",
       "      <td>m_info</td>\n",
       "      <td>0.172827</td>\n",
       "      <td>0.2</td>\n",
       "      <td>0.8</td>\n",
       "      <td>9</td>\n",
       "    </tr>\n",
       "    <tr>\n",
       "      <th>3</th>\n",
       "      <td>perm_imp</td>\n",
       "      <td>0.171697</td>\n",
       "      <td>0.25</td>\n",
       "      <td>1.0</td>\n",
       "      <td>6</td>\n",
       "    </tr>\n",
       "  </tbody>\n",
       "</table>\n",
       "</div>"
      ],
      "text/plain": [
       "       Data     Score Learning_rate Subsample Min_samples_split\n",
       "0      full  0.170561          0.15       0.5                 5\n",
       "1   partial  0.168332          0.15       0.6                 4\n",
       "2    m_info  0.172827           0.2       0.8                 9\n",
       "3  perm_imp  0.171697          0.25       1.0                 6"
      ]
     },
     "execution_count": 19,
     "metadata": {},
     "output_type": "execute_result"
    }
   ],
   "source": [
    "for i, data in enumerate(dfs):\n",
    "    gb.iloc[i, 1:] = gb_get_parameters_and_scores(data)\n",
    "\n",
    "gb"
   ]
  },
  {
   "cell_type": "markdown",
   "id": "e68fb2df",
   "metadata": {
    "papermill": {
     "duration": 0.012937,
     "end_time": "2022-10-13T17:22:39.206098",
     "exception": false,
     "start_time": "2022-10-13T17:22:39.193161",
     "status": "completed"
    },
    "tags": []
   },
   "source": [
    "### Logistic Regression\n",
    "Define a function to train the model and get results."
   ]
  },
  {
   "cell_type": "code",
   "execution_count": 20,
   "id": "7d862519",
   "metadata": {
    "execution": {
     "iopub.execute_input": "2022-10-13T17:22:39.234985Z",
     "iopub.status.busy": "2022-10-13T17:22:39.234578Z",
     "iopub.status.idle": "2022-10-13T17:22:39.243246Z",
     "shell.execute_reply": "2022-10-13T17:22:39.241566Z"
    },
    "papermill": {
     "duration": 0.027044,
     "end_time": "2022-10-13T17:22:39.246322",
     "exception": false,
     "start_time": "2022-10-13T17:22:39.219278",
     "status": "completed"
    },
    "tags": []
   },
   "outputs": [],
   "source": [
    "from sklearn.linear_model import LogisticRegression\n",
    "\n",
    "def lr_get_parameters_and_scores(data):\n",
    "    score = 1\n",
    "    for pen in penalty:\n",
    "        for c in C:\n",
    "            for solv in solver:\n",
    "                if (solv in ['saga', 'liblinear'] and pen in ['l1', 'l2']) or (solv == 'lbfgs' and pen == 'l2'):\n",
    "                    model = LogisticRegression(penalty = pen, C = c, solver = solv, max_iter = 200, random_state = 0)\n",
    "                    scores = -1 * cross_val_score(model, data, y, cv = 5, scoring = 'neg_mean_absolute_error')\n",
    "                    if scores.mean() < score:\n",
    "                        score = scores.mean()\n",
    "                        best_pen = pen\n",
    "                        best_c = c\n",
    "                        best_solv = solv\n",
    "    return [score, best_pen, best_c, best_solv]"
   ]
  },
  {
   "cell_type": "markdown",
   "id": "d641de2b",
   "metadata": {
    "papermill": {
     "duration": 0.012741,
     "end_time": "2022-10-13T17:22:39.272566",
     "exception": false,
     "start_time": "2022-10-13T17:22:39.259825",
     "status": "completed"
    },
    "tags": []
   },
   "source": [
    "Getting scores."
   ]
  },
  {
   "cell_type": "code",
   "execution_count": 21,
   "id": "9c1cc296",
   "metadata": {
    "execution": {
     "iopub.execute_input": "2022-10-13T17:22:39.301655Z",
     "iopub.status.busy": "2022-10-13T17:22:39.301300Z",
     "iopub.status.idle": "2022-10-13T17:22:44.411388Z",
     "shell.execute_reply": "2022-10-13T17:22:44.409916Z"
    },
    "papermill": {
     "duration": 5.128732,
     "end_time": "2022-10-13T17:22:44.414918",
     "exception": false,
     "start_time": "2022-10-13T17:22:39.286186",
     "status": "completed"
    },
    "tags": []
   },
   "outputs": [
    {
     "data": {
      "text/html": [
       "<div>\n",
       "<style scoped>\n",
       "    .dataframe tbody tr th:only-of-type {\n",
       "        vertical-align: middle;\n",
       "    }\n",
       "\n",
       "    .dataframe tbody tr th {\n",
       "        vertical-align: top;\n",
       "    }\n",
       "\n",
       "    .dataframe thead th {\n",
       "        text-align: right;\n",
       "    }\n",
       "</style>\n",
       "<table border=\"1\" class=\"dataframe\">\n",
       "  <thead>\n",
       "    <tr style=\"text-align: right;\">\n",
       "      <th></th>\n",
       "      <th>Data</th>\n",
       "      <th>Score</th>\n",
       "      <th>Penalty</th>\n",
       "      <th>C</th>\n",
       "      <th>Solver</th>\n",
       "    </tr>\n",
       "  </thead>\n",
       "  <tbody>\n",
       "    <tr>\n",
       "      <th>0</th>\n",
       "      <td>full</td>\n",
       "      <td>0.205373</td>\n",
       "      <td>l2</td>\n",
       "      <td>1.0</td>\n",
       "      <td>liblinear</td>\n",
       "    </tr>\n",
       "    <tr>\n",
       "      <th>1</th>\n",
       "      <td>partial</td>\n",
       "      <td>0.20762</td>\n",
       "      <td>l2</td>\n",
       "      <td>1.5</td>\n",
       "      <td>saga</td>\n",
       "    </tr>\n",
       "    <tr>\n",
       "      <th>2</th>\n",
       "      <td>m_info</td>\n",
       "      <td>0.207602</td>\n",
       "      <td>l2</td>\n",
       "      <td>0.5</td>\n",
       "      <td>liblinear</td>\n",
       "    </tr>\n",
       "    <tr>\n",
       "      <th>3</th>\n",
       "      <td>perm_imp</td>\n",
       "      <td>0.209861</td>\n",
       "      <td>l1</td>\n",
       "      <td>0.75</td>\n",
       "      <td>liblinear</td>\n",
       "    </tr>\n",
       "  </tbody>\n",
       "</table>\n",
       "</div>"
      ],
      "text/plain": [
       "       Data     Score Penalty     C     Solver\n",
       "0      full  0.205373      l2   1.0  liblinear\n",
       "1   partial   0.20762      l2   1.5       saga\n",
       "2    m_info  0.207602      l2   0.5  liblinear\n",
       "3  perm_imp  0.209861      l1  0.75  liblinear"
      ]
     },
     "execution_count": 21,
     "metadata": {},
     "output_type": "execute_result"
    }
   ],
   "source": [
    "for i, data in enumerate(dfs):\n",
    "    lr.iloc[i, 1:] = lr_get_parameters_and_scores(data)\n",
    "    \n",
    "lr"
   ]
  },
  {
   "cell_type": "markdown",
   "id": "c69dfffe",
   "metadata": {
    "papermill": {
     "duration": 0.012705,
     "end_time": "2022-10-13T17:22:44.440790",
     "exception": false,
     "start_time": "2022-10-13T17:22:44.428085",
     "status": "completed"
    },
    "tags": []
   },
   "source": [
    "### KNN\n",
    "Define a function to train the model and get results."
   ]
  },
  {
   "cell_type": "code",
   "execution_count": 22,
   "id": "436d2faf",
   "metadata": {
    "execution": {
     "iopub.execute_input": "2022-10-13T17:22:44.467623Z",
     "iopub.status.busy": "2022-10-13T17:22:44.467294Z",
     "iopub.status.idle": "2022-10-13T17:22:44.473804Z",
     "shell.execute_reply": "2022-10-13T17:22:44.472323Z"
    },
    "papermill": {
     "duration": 0.022248,
     "end_time": "2022-10-13T17:22:44.475483",
     "exception": false,
     "start_time": "2022-10-13T17:22:44.453235",
     "status": "completed"
    },
    "tags": []
   },
   "outputs": [],
   "source": [
    "from sklearn.neighbors import KNeighborsClassifier\n",
    "\n",
    "def knn_get_parameters_and_scores(data):\n",
    "    score = 1\n",
    "    for n in n_neighbors:\n",
    "        for p_sample in p:\n",
    "            model = KNeighborsClassifier(n_neighbors = n, p = p_sample)\n",
    "            scores = -1 * cross_val_score(model, data, y, cv = 5, scoring = 'neg_mean_absolute_error')\n",
    "            if scores.mean() < score:\n",
    "                score = scores.mean()\n",
    "                best_n = n\n",
    "                best_p = p_sample\n",
    "    return [score, best_n, best_p]"
   ]
  },
  {
   "cell_type": "markdown",
   "id": "e7638b00",
   "metadata": {
    "papermill": {
     "duration": 0.012235,
     "end_time": "2022-10-13T17:22:44.500470",
     "exception": false,
     "start_time": "2022-10-13T17:22:44.488235",
     "status": "completed"
    },
    "tags": []
   },
   "source": [
    "Getting scores."
   ]
  },
  {
   "cell_type": "code",
   "execution_count": 23,
   "id": "eb6803c6",
   "metadata": {
    "execution": {
     "iopub.execute_input": "2022-10-13T17:22:44.526965Z",
     "iopub.status.busy": "2022-10-13T17:22:44.526064Z",
     "iopub.status.idle": "2022-10-13T17:22:46.583561Z",
     "shell.execute_reply": "2022-10-13T17:22:46.582628Z"
    },
    "papermill": {
     "duration": 2.073106,
     "end_time": "2022-10-13T17:22:46.585791",
     "exception": false,
     "start_time": "2022-10-13T17:22:44.512685",
     "status": "completed"
    },
    "tags": []
   },
   "outputs": [
    {
     "data": {
      "text/html": [
       "<div>\n",
       "<style scoped>\n",
       "    .dataframe tbody tr th:only-of-type {\n",
       "        vertical-align: middle;\n",
       "    }\n",
       "\n",
       "    .dataframe tbody tr th {\n",
       "        vertical-align: top;\n",
       "    }\n",
       "\n",
       "    .dataframe thead th {\n",
       "        text-align: right;\n",
       "    }\n",
       "</style>\n",
       "<table border=\"1\" class=\"dataframe\">\n",
       "  <thead>\n",
       "    <tr style=\"text-align: right;\">\n",
       "      <th></th>\n",
       "      <th>Data</th>\n",
       "      <th>Score</th>\n",
       "      <th>N_neighbors</th>\n",
       "      <th>P</th>\n",
       "    </tr>\n",
       "  </thead>\n",
       "  <tbody>\n",
       "    <tr>\n",
       "      <th>0</th>\n",
       "      <td>full</td>\n",
       "      <td>0.181796</td>\n",
       "      <td>5</td>\n",
       "      <td>1</td>\n",
       "    </tr>\n",
       "    <tr>\n",
       "      <th>1</th>\n",
       "      <td>partial</td>\n",
       "      <td>0.186272</td>\n",
       "      <td>5</td>\n",
       "      <td>1</td>\n",
       "    </tr>\n",
       "    <tr>\n",
       "      <th>2</th>\n",
       "      <td>m_info</td>\n",
       "      <td>0.181778</td>\n",
       "      <td>3</td>\n",
       "      <td>1</td>\n",
       "    </tr>\n",
       "    <tr>\n",
       "      <th>3</th>\n",
       "      <td>perm_imp</td>\n",
       "      <td>0.182914</td>\n",
       "      <td>5</td>\n",
       "      <td>1</td>\n",
       "    </tr>\n",
       "  </tbody>\n",
       "</table>\n",
       "</div>"
      ],
      "text/plain": [
       "       Data     Score N_neighbors  P\n",
       "0      full  0.181796           5  1\n",
       "1   partial  0.186272           5  1\n",
       "2    m_info  0.181778           3  1\n",
       "3  perm_imp  0.182914           5  1"
      ]
     },
     "execution_count": 23,
     "metadata": {},
     "output_type": "execute_result"
    }
   ],
   "source": [
    "for i, data in enumerate(dfs):\n",
    "    knn.iloc[i, 1:] = knn_get_parameters_and_scores(data)\n",
    "    \n",
    "knn"
   ]
  },
  {
   "cell_type": "markdown",
   "id": "8b5db12e",
   "metadata": {
    "papermill": {
     "duration": 0.012512,
     "end_time": "2022-10-13T17:22:46.612881",
     "exception": false,
     "start_time": "2022-10-13T17:22:46.600369",
     "status": "completed"
    },
    "tags": []
   },
   "source": [
    "While training this model, I found out that parameters such as the leaf_size and the algorithm do not affect the accuracy of the model."
   ]
  },
  {
   "cell_type": "markdown",
   "id": "97312c40",
   "metadata": {
    "papermill": {
     "duration": 0.012538,
     "end_time": "2022-10-13T17:22:46.638855",
     "exception": false,
     "start_time": "2022-10-13T17:22:46.626317",
     "status": "completed"
    },
    "tags": []
   },
   "source": [
    "## Results overview\n",
    "### Scores across all models and data frames\n",
    "Filling the \"general\" data frame."
   ]
  },
  {
   "cell_type": "code",
   "execution_count": 24,
   "id": "36f0dc26",
   "metadata": {
    "execution": {
     "iopub.execute_input": "2022-10-13T17:22:46.666940Z",
     "iopub.status.busy": "2022-10-13T17:22:46.665861Z",
     "iopub.status.idle": "2022-10-13T17:22:46.682746Z",
     "shell.execute_reply": "2022-10-13T17:22:46.682171Z"
    },
    "papermill": {
     "duration": 0.032635,
     "end_time": "2022-10-13T17:22:46.684335",
     "exception": false,
     "start_time": "2022-10-13T17:22:46.651700",
     "status": "completed"
    },
    "tags": []
   },
   "outputs": [
    {
     "data": {
      "text/html": [
       "<div>\n",
       "<style scoped>\n",
       "    .dataframe tbody tr th:only-of-type {\n",
       "        vertical-align: middle;\n",
       "    }\n",
       "\n",
       "    .dataframe tbody tr th {\n",
       "        vertical-align: top;\n",
       "    }\n",
       "\n",
       "    .dataframe thead th {\n",
       "        text-align: right;\n",
       "    }\n",
       "</style>\n",
       "<table border=\"1\" class=\"dataframe\">\n",
       "  <thead>\n",
       "    <tr style=\"text-align: right;\">\n",
       "      <th></th>\n",
       "      <th>Model</th>\n",
       "      <th>Data</th>\n",
       "      <th>Score</th>\n",
       "    </tr>\n",
       "  </thead>\n",
       "  <tbody>\n",
       "    <tr>\n",
       "      <th>0</th>\n",
       "      <td>Random Forest Classifier</td>\n",
       "      <td>full</td>\n",
       "      <td>0.162733</td>\n",
       "    </tr>\n",
       "    <tr>\n",
       "      <th>2</th>\n",
       "      <td>Random Forest Classifier</td>\n",
       "      <td>m_info</td>\n",
       "      <td>0.163838</td>\n",
       "    </tr>\n",
       "    <tr>\n",
       "      <th>1</th>\n",
       "      <td>Random Forest Classifier</td>\n",
       "      <td>partial</td>\n",
       "      <td>0.164980</td>\n",
       "    </tr>\n",
       "    <tr>\n",
       "      <th>3</th>\n",
       "      <td>Random Forest Classifier</td>\n",
       "      <td>perm_imp</td>\n",
       "      <td>0.167227</td>\n",
       "    </tr>\n",
       "    <tr>\n",
       "      <th>5</th>\n",
       "      <td>Gradient Boosting Classifier</td>\n",
       "      <td>partial</td>\n",
       "      <td>0.168332</td>\n",
       "    </tr>\n",
       "    <tr>\n",
       "      <th>4</th>\n",
       "      <td>Gradient Boosting Classifier</td>\n",
       "      <td>full</td>\n",
       "      <td>0.170561</td>\n",
       "    </tr>\n",
       "    <tr>\n",
       "      <th>7</th>\n",
       "      <td>Gradient Boosting Classifier</td>\n",
       "      <td>perm_imp</td>\n",
       "      <td>0.171697</td>\n",
       "    </tr>\n",
       "    <tr>\n",
       "      <th>6</th>\n",
       "      <td>Gradient Boosting Classifier</td>\n",
       "      <td>m_info</td>\n",
       "      <td>0.172827</td>\n",
       "    </tr>\n",
       "    <tr>\n",
       "      <th>14</th>\n",
       "      <td>KNN</td>\n",
       "      <td>m_info</td>\n",
       "      <td>0.181778</td>\n",
       "    </tr>\n",
       "    <tr>\n",
       "      <th>12</th>\n",
       "      <td>KNN</td>\n",
       "      <td>full</td>\n",
       "      <td>0.181796</td>\n",
       "    </tr>\n",
       "    <tr>\n",
       "      <th>15</th>\n",
       "      <td>KNN</td>\n",
       "      <td>perm_imp</td>\n",
       "      <td>0.182914</td>\n",
       "    </tr>\n",
       "    <tr>\n",
       "      <th>13</th>\n",
       "      <td>KNN</td>\n",
       "      <td>partial</td>\n",
       "      <td>0.186272</td>\n",
       "    </tr>\n",
       "    <tr>\n",
       "      <th>8</th>\n",
       "      <td>Logistic Regression</td>\n",
       "      <td>full</td>\n",
       "      <td>0.205373</td>\n",
       "    </tr>\n",
       "    <tr>\n",
       "      <th>10</th>\n",
       "      <td>Logistic Regression</td>\n",
       "      <td>m_info</td>\n",
       "      <td>0.207602</td>\n",
       "    </tr>\n",
       "    <tr>\n",
       "      <th>9</th>\n",
       "      <td>Logistic Regression</td>\n",
       "      <td>partial</td>\n",
       "      <td>0.207620</td>\n",
       "    </tr>\n",
       "    <tr>\n",
       "      <th>11</th>\n",
       "      <td>Logistic Regression</td>\n",
       "      <td>perm_imp</td>\n",
       "      <td>0.209861</td>\n",
       "    </tr>\n",
       "  </tbody>\n",
       "</table>\n",
       "</div>"
      ],
      "text/plain": [
       "                           Model      Data     Score\n",
       "0       Random Forest Classifier      full  0.162733\n",
       "2       Random Forest Classifier    m_info  0.163838\n",
       "1       Random Forest Classifier   partial  0.164980\n",
       "3       Random Forest Classifier  perm_imp  0.167227\n",
       "5   Gradient Boosting Classifier   partial  0.168332\n",
       "4   Gradient Boosting Classifier      full  0.170561\n",
       "7   Gradient Boosting Classifier  perm_imp  0.171697\n",
       "6   Gradient Boosting Classifier    m_info  0.172827\n",
       "14                           KNN    m_info  0.181778\n",
       "12                           KNN      full  0.181796\n",
       "15                           KNN  perm_imp  0.182914\n",
       "13                           KNN   partial  0.186272\n",
       "8            Logistic Regression      full  0.205373\n",
       "10           Logistic Regression    m_info  0.207602\n",
       "9            Logistic Regression   partial  0.207620\n",
       "11           Logistic Regression  perm_imp  0.209861"
      ]
     },
     "execution_count": 24,
     "metadata": {},
     "output_type": "execute_result"
    }
   ],
   "source": [
    "for i in range(4):\n",
    "    general.iloc[i] = ['Random Forest Classifier', rf.iloc[i, 0], rf.iloc[i, 1]]\n",
    "for i in range(4, 8):\n",
    "    general.iloc[i] = ['Gradient Boosting Classifier', gb.iloc[i - 4, 0], gb.iloc[i - 4, 1]]\n",
    "for i in range(8, 12):\n",
    "    general.iloc[i] = ['Logistic Regression', lr.iloc[i - 8, 0], lr.iloc[i - 8, 1]]\n",
    "for i in range(12, 16):\n",
    "    general.iloc[i] = ['KNN', knn.iloc[i - 12, 0], knn.iloc[i - 12, 1]]\n",
    "\n",
    "general['Score'] = general['Score'].astype('float64')\n",
    "general.sort_values(by = 'Score')"
   ]
  },
  {
   "cell_type": "markdown",
   "id": "9ac74a6d",
   "metadata": {
    "papermill": {
     "duration": 0.012879,
     "end_time": "2022-10-13T17:22:46.710726",
     "exception": false,
     "start_time": "2022-10-13T17:22:46.697847",
     "status": "completed"
    },
    "tags": []
   },
   "source": [
    "Scores across models and data frames."
   ]
  },
  {
   "cell_type": "code",
   "execution_count": 25,
   "id": "ee8903f5",
   "metadata": {
    "execution": {
     "iopub.execute_input": "2022-10-13T17:22:46.739560Z",
     "iopub.status.busy": "2022-10-13T17:22:46.738303Z",
     "iopub.status.idle": "2022-10-13T17:22:46.952069Z",
     "shell.execute_reply": "2022-10-13T17:22:46.951124Z"
    },
    "papermill": {
     "duration": 0.230376,
     "end_time": "2022-10-13T17:22:46.954292",
     "exception": false,
     "start_time": "2022-10-13T17:22:46.723916",
     "status": "completed"
    },
    "tags": []
   },
   "outputs": [
    {
     "data": {
      "image/png": "[encoded data removed]",
      "text/plain": [
       "<Figure size 864x432 with 2 Axes>"
      ]
     },
     "metadata": {
      "needs_background": "light"
     },
     "output_type": "display_data"
    }
   ],
   "source": [
    "general_pivot = general.pivot(index = 'Data', columns = 'Model', values = 'Score')\n",
    "\n",
    "plt.figure(figsize = (12, 6))\n",
    "sns.heatmap(general_pivot, linewidths = 0.5, fmt = '.3g', annot = True).set_title('Scores across models and data frames', pad = 15)\n",
    "plt.show()"
   ]
  },
  {
   "cell_type": "markdown",
   "id": "84ab4b49",
   "metadata": {
    "papermill": {
     "duration": 0.013189,
     "end_time": "2022-10-13T17:22:46.981840",
     "exception": false,
     "start_time": "2022-10-13T17:22:46.968651",
     "status": "completed"
    },
    "tags": []
   },
   "source": [
    "### Public scores in the Titanic competition\n",
    "I will test the top 10 solutions."
   ]
  },
  {
   "cell_type": "code",
   "execution_count": 26,
   "id": "d985b410",
   "metadata": {
    "execution": {
     "iopub.execute_input": "2022-10-13T17:22:47.011638Z",
     "iopub.status.busy": "2022-10-13T17:22:47.011300Z",
     "iopub.status.idle": "2022-10-13T17:22:47.025313Z",
     "shell.execute_reply": "2022-10-13T17:22:47.023585Z"
    },
    "papermill": {
     "duration": 0.032334,
     "end_time": "2022-10-13T17:22:47.028094",
     "exception": false,
     "start_time": "2022-10-13T17:22:46.995760",
     "status": "completed"
    },
    "tags": []
   },
   "outputs": [
    {
     "data": {
      "text/html": [
       "<div>\n",
       "<style scoped>\n",
       "    .dataframe tbody tr th:only-of-type {\n",
       "        vertical-align: middle;\n",
       "    }\n",
       "\n",
       "    .dataframe tbody tr th {\n",
       "        vertical-align: top;\n",
       "    }\n",
       "\n",
       "    .dataframe thead th {\n",
       "        text-align: right;\n",
       "    }\n",
       "</style>\n",
       "<table border=\"1\" class=\"dataframe\">\n",
       "  <thead>\n",
       "    <tr style=\"text-align: right;\">\n",
       "      <th></th>\n",
       "      <th>Model</th>\n",
       "      <th>Data</th>\n",
       "      <th>Score</th>\n",
       "    </tr>\n",
       "  </thead>\n",
       "  <tbody>\n",
       "    <tr>\n",
       "      <th>0</th>\n",
       "      <td>Random Forest Classifier</td>\n",
       "      <td>full</td>\n",
       "      <td>0.162733</td>\n",
       "    </tr>\n",
       "    <tr>\n",
       "      <th>2</th>\n",
       "      <td>Random Forest Classifier</td>\n",
       "      <td>m_info</td>\n",
       "      <td>0.163838</td>\n",
       "    </tr>\n",
       "    <tr>\n",
       "      <th>1</th>\n",
       "      <td>Random Forest Classifier</td>\n",
       "      <td>partial</td>\n",
       "      <td>0.164980</td>\n",
       "    </tr>\n",
       "    <tr>\n",
       "      <th>3</th>\n",
       "      <td>Random Forest Classifier</td>\n",
       "      <td>perm_imp</td>\n",
       "      <td>0.167227</td>\n",
       "    </tr>\n",
       "    <tr>\n",
       "      <th>5</th>\n",
       "      <td>Gradient Boosting Classifier</td>\n",
       "      <td>partial</td>\n",
       "      <td>0.168332</td>\n",
       "    </tr>\n",
       "    <tr>\n",
       "      <th>4</th>\n",
       "      <td>Gradient Boosting Classifier</td>\n",
       "      <td>full</td>\n",
       "      <td>0.170561</td>\n",
       "    </tr>\n",
       "    <tr>\n",
       "      <th>7</th>\n",
       "      <td>Gradient Boosting Classifier</td>\n",
       "      <td>perm_imp</td>\n",
       "      <td>0.171697</td>\n",
       "    </tr>\n",
       "    <tr>\n",
       "      <th>6</th>\n",
       "      <td>Gradient Boosting Classifier</td>\n",
       "      <td>m_info</td>\n",
       "      <td>0.172827</td>\n",
       "    </tr>\n",
       "    <tr>\n",
       "      <th>14</th>\n",
       "      <td>KNN</td>\n",
       "      <td>m_info</td>\n",
       "      <td>0.181778</td>\n",
       "    </tr>\n",
       "    <tr>\n",
       "      <th>12</th>\n",
       "      <td>KNN</td>\n",
       "      <td>full</td>\n",
       "      <td>0.181796</td>\n",
       "    </tr>\n",
       "  </tbody>\n",
       "</table>\n",
       "</div>"
      ],
      "text/plain": [
       "                           Model      Data     Score\n",
       "0       Random Forest Classifier      full  0.162733\n",
       "2       Random Forest Classifier    m_info  0.163838\n",
       "1       Random Forest Classifier   partial  0.164980\n",
       "3       Random Forest Classifier  perm_imp  0.167227\n",
       "5   Gradient Boosting Classifier   partial  0.168332\n",
       "4   Gradient Boosting Classifier      full  0.170561\n",
       "7   Gradient Boosting Classifier  perm_imp  0.171697\n",
       "6   Gradient Boosting Classifier    m_info  0.172827\n",
       "14                           KNN    m_info  0.181778\n",
       "12                           KNN      full  0.181796"
      ]
     },
     "execution_count": 26,
     "metadata": {},
     "output_type": "execute_result"
    }
   ],
   "source": [
    "general.sort_values(by = 'Score')[:10]"
   ]
  },
  {
   "cell_type": "markdown",
   "id": "3fd7b839",
   "metadata": {
    "papermill": {
     "duration": 0.015727,
     "end_time": "2022-10-13T17:22:47.058187",
     "exception": false,
     "start_time": "2022-10-13T17:22:47.042460",
     "status": "completed"
    },
    "tags": []
   },
   "source": [
    "Public scores:\n",
    "- 0 - 0.72488\n",
    "- 2 - 0.74641\n",
    "- 1 - 0.74401\n",
    "- 3 - 0.73444\n",
    "- 5 - 0.72488\n",
    "- 4 - 0.74401\n",
    "- 7 - 0.71770\n",
    "- 6 - 0.72248\n",
    "- 14 - 0.70334\n",
    "- 12 - 0.72488"
   ]
  },
  {
   "cell_type": "markdown",
   "id": "2418abed",
   "metadata": {
    "papermill": {
     "duration": 0.017203,
     "end_time": "2022-10-13T17:22:47.092861",
     "exception": false,
     "start_time": "2022-10-13T17:22:47.075658",
     "status": "completed"
    },
    "tags": []
   },
   "source": [
    "### Comparison of training and test scores\n",
    "Create a data frame containing the scores."
   ]
  },
  {
   "cell_type": "code",
   "execution_count": 27,
   "id": "10b12ef4",
   "metadata": {
    "execution": {
     "iopub.execute_input": "2022-10-13T17:22:47.123847Z",
     "iopub.status.busy": "2022-10-13T17:22:47.122753Z",
     "iopub.status.idle": "2022-10-13T17:22:47.138495Z",
     "shell.execute_reply": "2022-10-13T17:22:47.137296Z"
    },
    "papermill": {
     "duration": 0.032757,
     "end_time": "2022-10-13T17:22:47.140973",
     "exception": false,
     "start_time": "2022-10-13T17:22:47.108216",
     "status": "completed"
    },
    "tags": []
   },
   "outputs": [
    {
     "data": {
      "text/html": [
       "<div>\n",
       "<style scoped>\n",
       "    .dataframe tbody tr th:only-of-type {\n",
       "        vertical-align: middle;\n",
       "    }\n",
       "\n",
       "    .dataframe tbody tr th {\n",
       "        vertical-align: top;\n",
       "    }\n",
       "\n",
       "    .dataframe thead th {\n",
       "        text-align: right;\n",
       "    }\n",
       "</style>\n",
       "<table border=\"1\" class=\"dataframe\">\n",
       "  <thead>\n",
       "    <tr style=\"text-align: right;\">\n",
       "      <th></th>\n",
       "      <th>Model</th>\n",
       "      <th>Data</th>\n",
       "      <th>Train_score</th>\n",
       "      <th>Test_score</th>\n",
       "    </tr>\n",
       "  </thead>\n",
       "  <tbody>\n",
       "    <tr>\n",
       "      <th>0</th>\n",
       "      <td>Random Forest Classifier</td>\n",
       "      <td>full</td>\n",
       "      <td>0.837267</td>\n",
       "      <td>0.72488</td>\n",
       "    </tr>\n",
       "    <tr>\n",
       "      <th>2</th>\n",
       "      <td>Random Forest Classifier</td>\n",
       "      <td>m_info</td>\n",
       "      <td>0.836162</td>\n",
       "      <td>0.74641</td>\n",
       "    </tr>\n",
       "    <tr>\n",
       "      <th>1</th>\n",
       "      <td>Random Forest Classifier</td>\n",
       "      <td>partial</td>\n",
       "      <td>0.835020</td>\n",
       "      <td>0.74401</td>\n",
       "    </tr>\n",
       "    <tr>\n",
       "      <th>3</th>\n",
       "      <td>Random Forest Classifier</td>\n",
       "      <td>perm_imp</td>\n",
       "      <td>0.832773</td>\n",
       "      <td>0.73444</td>\n",
       "    </tr>\n",
       "    <tr>\n",
       "      <th>5</th>\n",
       "      <td>Gradient Boosting Classifier</td>\n",
       "      <td>partial</td>\n",
       "      <td>0.831668</td>\n",
       "      <td>0.72488</td>\n",
       "    </tr>\n",
       "    <tr>\n",
       "      <th>4</th>\n",
       "      <td>Gradient Boosting Classifier</td>\n",
       "      <td>full</td>\n",
       "      <td>0.829439</td>\n",
       "      <td>0.74401</td>\n",
       "    </tr>\n",
       "    <tr>\n",
       "      <th>7</th>\n",
       "      <td>Gradient Boosting Classifier</td>\n",
       "      <td>perm_imp</td>\n",
       "      <td>0.828303</td>\n",
       "      <td>0.71770</td>\n",
       "    </tr>\n",
       "    <tr>\n",
       "      <th>6</th>\n",
       "      <td>Gradient Boosting Classifier</td>\n",
       "      <td>m_info</td>\n",
       "      <td>0.827173</td>\n",
       "      <td>0.72248</td>\n",
       "    </tr>\n",
       "    <tr>\n",
       "      <th>14</th>\n",
       "      <td>KNN</td>\n",
       "      <td>m_info</td>\n",
       "      <td>0.818222</td>\n",
       "      <td>0.70334</td>\n",
       "    </tr>\n",
       "    <tr>\n",
       "      <th>12</th>\n",
       "      <td>KNN</td>\n",
       "      <td>full</td>\n",
       "      <td>0.818204</td>\n",
       "      <td>0.72488</td>\n",
       "    </tr>\n",
       "  </tbody>\n",
       "</table>\n",
       "</div>"
      ],
      "text/plain": [
       "                           Model      Data  Train_score  Test_score\n",
       "0       Random Forest Classifier      full     0.837267     0.72488\n",
       "2       Random Forest Classifier    m_info     0.836162     0.74641\n",
       "1       Random Forest Classifier   partial     0.835020     0.74401\n",
       "3       Random Forest Classifier  perm_imp     0.832773     0.73444\n",
       "5   Gradient Boosting Classifier   partial     0.831668     0.72488\n",
       "4   Gradient Boosting Classifier      full     0.829439     0.74401\n",
       "7   Gradient Boosting Classifier  perm_imp     0.828303     0.71770\n",
       "6   Gradient Boosting Classifier    m_info     0.827173     0.72248\n",
       "14                           KNN    m_info     0.818222     0.70334\n",
       "12                           KNN      full     0.818204     0.72488"
      ]
     },
     "execution_count": 27,
     "metadata": {},
     "output_type": "execute_result"
    }
   ],
   "source": [
    "scores_df = general.sort_values(by = 'Score')[:10].copy()\n",
    "scores_df['Train_score'] = 1 - scores_df['Score']\n",
    "scores_df = scores_df.drop(columns = ['Score'])\n",
    "scores_df['Test_score'] = [0.72488, 0.74641, 0.74401, 0.73444, 0.72488, 0.74401, 0.71770, 0.72248, 0.70334, 0.72488]\n",
    "scores_df"
   ]
  },
  {
   "cell_type": "markdown",
   "id": "2f68330b",
   "metadata": {
    "papermill": {
     "duration": 0.013098,
     "end_time": "2022-10-13T17:22:47.168689",
     "exception": false,
     "start_time": "2022-10-13T17:22:47.155591",
     "status": "completed"
    },
    "tags": []
   },
   "source": [
    "Plotting the scores."
   ]
  },
  {
   "cell_type": "code",
   "execution_count": 28,
   "id": "aa5c04cf",
   "metadata": {
    "execution": {
     "iopub.execute_input": "2022-10-13T17:22:47.198044Z",
     "iopub.status.busy": "2022-10-13T17:22:47.197730Z",
     "iopub.status.idle": "2022-10-13T17:22:47.610055Z",
     "shell.execute_reply": "2022-10-13T17:22:47.609460Z"
    },
    "papermill": {
     "duration": 0.429433,
     "end_time": "2022-10-13T17:22:47.611822",
     "exception": false,
     "start_time": "2022-10-13T17:22:47.182389",
     "status": "completed"
    },
    "tags": []
   },
   "outputs": [
    {
     "data": {
      "image/png": "[encoded data removed]",
      "text/plain": [
       "<Figure size 1440x432 with 2 Axes>"
      ]
     },
     "metadata": {
      "needs_background": "light"
     },
     "output_type": "display_data"
    }
   ],
   "source": [
    "fig, ax = plt.subplots(1, 2, figsize = (20, 6))\n",
    "sns.scatterplot(x = 'Train_score', y = 'Test_score', hue = 'Model', ax = ax[0], data = scores_df)\n",
    "ax[0].set_title('Test scores depending on train scores and models', pad = 12)\n",
    "sns.scatterplot(x = 'Train_score', y = 'Test_score', hue = 'Data', ax = ax[1], data = scores_df)\n",
    "ax[1].set_title('Test scores depending on train scores and data', pad = 12)\n",
    "plt.show()"
   ]
  }
 ],
 "metadata": {
  "kernelspec": {
   "display_name": "Python 3",
   "language": "python",
   "name": "python3"
  },
  "language_info": {
   "codemirror_mode": {
    "name": "ipython",
    "version": 3
   },
   "file_extension": ".py",
   "mimetype": "text/x-python",
   "name": "python",
   "nbconvert_exporter": "python",
   "pygments_lexer": "ipython3",
   "version": "3.7.12"
  },
  "papermill": {
   "default_parameters": {},
   "duration": 203.121952,
   "end_time": "2022-10-13T17:22:50.595990",
   "environment_variables": {},
   "exception": null,
   "input_path": "__notebook__.ipynb",
   "output_path": "__notebook__.ipynb",
   "parameters": {},
   "start_time": "2022-10-13T17:19:27.474038",
   "version": "2.3.4"
  }
 },
 "nbformat": 4,
 "nbformat_minor": 5
}
