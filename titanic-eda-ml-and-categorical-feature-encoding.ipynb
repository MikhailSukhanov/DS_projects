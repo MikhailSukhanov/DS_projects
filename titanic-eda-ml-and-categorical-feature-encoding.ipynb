{
 "cells": [
  {
   "cell_type": "code",
   "execution_count": 1,
   "id": "8f45864d",
   "metadata": {
    "_cell_guid": "b1076dfc-b9ad-4769-8c92-a6c4dae69d19",
    "_uuid": "8f2839f25d086af736a60e9eeb907d3b93b6e0e5",
    "execution": {
     "iopub.execute_input": "2022-09-18T07:58:11.932289Z",
     "iopub.status.busy": "2022-09-18T07:58:11.931839Z",
     "iopub.status.idle": "2022-09-18T07:58:13.111175Z",
     "shell.execute_reply": "2022-09-18T07:58:13.110005Z"
    },
    "papermill": {
     "duration": 1.192577,
     "end_time": "2022-09-18T07:58:13.114802",
     "exception": false,
     "start_time": "2022-09-18T07:58:11.922225",
     "status": "completed"
    },
    "tags": []
   },
   "outputs": [],
   "source": [
    "import numpy as np\n",
    "import pandas as pd\n",
    "import matplotlib.pyplot as plt\n",
    "import seaborn as sns"
   ]
  },
  {
   "cell_type": "code",
   "execution_count": 2,
   "id": "2e3c5e1b",
   "metadata": {
    "execution": {
     "iopub.execute_input": "2022-09-18T07:58:13.129711Z",
     "iopub.status.busy": "2022-09-18T07:58:13.129314Z",
     "iopub.status.idle": "2022-09-18T07:58:13.170051Z",
     "shell.execute_reply": "2022-09-18T07:58:13.168774Z"
    },
    "papermill": {
     "duration": 0.051686,
     "end_time": "2022-09-18T07:58:13.173255",
     "exception": false,
     "start_time": "2022-09-18T07:58:13.121569",
     "status": "completed"
    },
    "tags": []
   },
   "outputs": [
    {
     "data": {
      "text/html": [
       "<div>\n",
       "<style scoped>\n",
       "    .dataframe tbody tr th:only-of-type {\n",
       "        vertical-align: middle;\n",
       "    }\n",
       "\n",
       "    .dataframe tbody tr th {\n",
       "        vertical-align: top;\n",
       "    }\n",
       "\n",
       "    .dataframe thead th {\n",
       "        text-align: right;\n",
       "    }\n",
       "</style>\n",
       "<table border=\"1\" class=\"dataframe\">\n",
       "  <thead>\n",
       "    <tr style=\"text-align: right;\">\n",
       "      <th></th>\n",
       "      <th>PassengerId</th>\n",
       "      <th>Survived</th>\n",
       "      <th>Pclass</th>\n",
       "      <th>Name</th>\n",
       "      <th>Sex</th>\n",
       "      <th>Age</th>\n",
       "      <th>SibSp</th>\n",
       "      <th>Parch</th>\n",
       "      <th>Ticket</th>\n",
       "      <th>Fare</th>\n",
       "      <th>Cabin</th>\n",
       "      <th>Embarked</th>\n",
       "    </tr>\n",
       "  </thead>\n",
       "  <tbody>\n",
       "    <tr>\n",
       "      <th>0</th>\n",
       "      <td>1</td>\n",
       "      <td>0</td>\n",
       "      <td>3</td>\n",
       "      <td>Braund, Mr. Owen Harris</td>\n",
       "      <td>male</td>\n",
       "      <td>22.0</td>\n",
       "      <td>1</td>\n",
       "      <td>0</td>\n",
       "      <td>A/5 21171</td>\n",
       "      <td>7.2500</td>\n",
       "      <td>NaN</td>\n",
       "      <td>S</td>\n",
       "    </tr>\n",
       "    <tr>\n",
       "      <th>1</th>\n",
       "      <td>2</td>\n",
       "      <td>1</td>\n",
       "      <td>1</td>\n",
       "      <td>Cumings, Mrs. John Bradley (Florence Briggs Th...</td>\n",
       "      <td>female</td>\n",
       "      <td>38.0</td>\n",
       "      <td>1</td>\n",
       "      <td>0</td>\n",
       "      <td>PC 17599</td>\n",
       "      <td>71.2833</td>\n",
       "      <td>C85</td>\n",
       "      <td>C</td>\n",
       "    </tr>\n",
       "    <tr>\n",
       "      <th>2</th>\n",
       "      <td>3</td>\n",
       "      <td>1</td>\n",
       "      <td>3</td>\n",
       "      <td>Heikkinen, Miss. Laina</td>\n",
       "      <td>female</td>\n",
       "      <td>26.0</td>\n",
       "      <td>0</td>\n",
       "      <td>0</td>\n",
       "      <td>STON/O2. 3101282</td>\n",
       "      <td>7.9250</td>\n",
       "      <td>NaN</td>\n",
       "      <td>S</td>\n",
       "    </tr>\n",
       "    <tr>\n",
       "      <th>3</th>\n",
       "      <td>4</td>\n",
       "      <td>1</td>\n",
       "      <td>1</td>\n",
       "      <td>Futrelle, Mrs. Jacques Heath (Lily May Peel)</td>\n",
       "      <td>female</td>\n",
       "      <td>35.0</td>\n",
       "      <td>1</td>\n",
       "      <td>0</td>\n",
       "      <td>113803</td>\n",
       "      <td>53.1000</td>\n",
       "      <td>C123</td>\n",
       "      <td>S</td>\n",
       "    </tr>\n",
       "    <tr>\n",
       "      <th>4</th>\n",
       "      <td>5</td>\n",
       "      <td>0</td>\n",
       "      <td>3</td>\n",
       "      <td>Allen, Mr. William Henry</td>\n",
       "      <td>male</td>\n",
       "      <td>35.0</td>\n",
       "      <td>0</td>\n",
       "      <td>0</td>\n",
       "      <td>373450</td>\n",
       "      <td>8.0500</td>\n",
       "      <td>NaN</td>\n",
       "      <td>S</td>\n",
       "    </tr>\n",
       "  </tbody>\n",
       "</table>\n",
       "</div>"
      ],
      "text/plain": [
       "   PassengerId  Survived  Pclass  \\\n",
       "0            1         0       3   \n",
       "1            2         1       1   \n",
       "2            3         1       3   \n",
       "3            4         1       1   \n",
       "4            5         0       3   \n",
       "\n",
       "                                                Name     Sex   Age  SibSp  \\\n",
       "0                            Braund, Mr. Owen Harris    male  22.0      1   \n",
       "1  Cumings, Mrs. John Bradley (Florence Briggs Th...  female  38.0      1   \n",
       "2                             Heikkinen, Miss. Laina  female  26.0      0   \n",
       "3       Futrelle, Mrs. Jacques Heath (Lily May Peel)  female  35.0      1   \n",
       "4                           Allen, Mr. William Henry    male  35.0      0   \n",
       "\n",
       "   Parch            Ticket     Fare Cabin Embarked  \n",
       "0      0         A/5 21171   7.2500   NaN        S  \n",
       "1      0          PC 17599  71.2833   C85        C  \n",
       "2      0  STON/O2. 3101282   7.9250   NaN        S  \n",
       "3      0            113803  53.1000  C123        S  \n",
       "4      0            373450   8.0500   NaN        S  "
      ]
     },
     "execution_count": 2,
     "metadata": {},
     "output_type": "execute_result"
    }
   ],
   "source": [
    "train_data = pd.read_csv('../input/titanic/train.csv')\n",
    "train_data.head()"
   ]
  },
  {
   "cell_type": "code",
   "execution_count": 3,
   "id": "75594f8a",
   "metadata": {
    "execution": {
     "iopub.execute_input": "2022-09-18T07:58:13.188933Z",
     "iopub.status.busy": "2022-09-18T07:58:13.188501Z",
     "iopub.status.idle": "2022-09-18T07:58:13.235767Z",
     "shell.execute_reply": "2022-09-18T07:58:13.234711Z"
    },
    "papermill": {
     "duration": 0.059157,
     "end_time": "2022-09-18T07:58:13.239303",
     "exception": false,
     "start_time": "2022-09-18T07:58:13.180146",
     "status": "completed"
    },
    "tags": []
   },
   "outputs": [
    {
     "data": {
      "text/html": [
       "<div>\n",
       "<style scoped>\n",
       "    .dataframe tbody tr th:only-of-type {\n",
       "        vertical-align: middle;\n",
       "    }\n",
       "\n",
       "    .dataframe tbody tr th {\n",
       "        vertical-align: top;\n",
       "    }\n",
       "\n",
       "    .dataframe thead th {\n",
       "        text-align: right;\n",
       "    }\n",
       "</style>\n",
       "<table border=\"1\" class=\"dataframe\">\n",
       "  <thead>\n",
       "    <tr style=\"text-align: right;\">\n",
       "      <th></th>\n",
       "      <th>PassengerId</th>\n",
       "      <th>Survived</th>\n",
       "      <th>Pclass</th>\n",
       "      <th>Age</th>\n",
       "      <th>SibSp</th>\n",
       "      <th>Parch</th>\n",
       "      <th>Fare</th>\n",
       "    </tr>\n",
       "  </thead>\n",
       "  <tbody>\n",
       "    <tr>\n",
       "      <th>count</th>\n",
       "      <td>891.000000</td>\n",
       "      <td>891.000000</td>\n",
       "      <td>891.000000</td>\n",
       "      <td>714.000000</td>\n",
       "      <td>891.000000</td>\n",
       "      <td>891.000000</td>\n",
       "      <td>891.000000</td>\n",
       "    </tr>\n",
       "    <tr>\n",
       "      <th>mean</th>\n",
       "      <td>446.000000</td>\n",
       "      <td>0.383838</td>\n",
       "      <td>2.308642</td>\n",
       "      <td>29.699118</td>\n",
       "      <td>0.523008</td>\n",
       "      <td>0.381594</td>\n",
       "      <td>32.204208</td>\n",
       "    </tr>\n",
       "    <tr>\n",
       "      <th>std</th>\n",
       "      <td>257.353842</td>\n",
       "      <td>0.486592</td>\n",
       "      <td>0.836071</td>\n",
       "      <td>14.526497</td>\n",
       "      <td>1.102743</td>\n",
       "      <td>0.806057</td>\n",
       "      <td>49.693429</td>\n",
       "    </tr>\n",
       "    <tr>\n",
       "      <th>min</th>\n",
       "      <td>1.000000</td>\n",
       "      <td>0.000000</td>\n",
       "      <td>1.000000</td>\n",
       "      <td>0.420000</td>\n",
       "      <td>0.000000</td>\n",
       "      <td>0.000000</td>\n",
       "      <td>0.000000</td>\n",
       "    </tr>\n",
       "    <tr>\n",
       "      <th>25%</th>\n",
       "      <td>223.500000</td>\n",
       "      <td>0.000000</td>\n",
       "      <td>2.000000</td>\n",
       "      <td>20.125000</td>\n",
       "      <td>0.000000</td>\n",
       "      <td>0.000000</td>\n",
       "      <td>7.910400</td>\n",
       "    </tr>\n",
       "    <tr>\n",
       "      <th>50%</th>\n",
       "      <td>446.000000</td>\n",
       "      <td>0.000000</td>\n",
       "      <td>3.000000</td>\n",
       "      <td>28.000000</td>\n",
       "      <td>0.000000</td>\n",
       "      <td>0.000000</td>\n",
       "      <td>14.454200</td>\n",
       "    </tr>\n",
       "    <tr>\n",
       "      <th>75%</th>\n",
       "      <td>668.500000</td>\n",
       "      <td>1.000000</td>\n",
       "      <td>3.000000</td>\n",
       "      <td>38.000000</td>\n",
       "      <td>1.000000</td>\n",
       "      <td>0.000000</td>\n",
       "      <td>31.000000</td>\n",
       "    </tr>\n",
       "    <tr>\n",
       "      <th>max</th>\n",
       "      <td>891.000000</td>\n",
       "      <td>1.000000</td>\n",
       "      <td>3.000000</td>\n",
       "      <td>80.000000</td>\n",
       "      <td>8.000000</td>\n",
       "      <td>6.000000</td>\n",
       "      <td>512.329200</td>\n",
       "    </tr>\n",
       "  </tbody>\n",
       "</table>\n",
       "</div>"
      ],
      "text/plain": [
       "       PassengerId    Survived      Pclass         Age       SibSp  \\\n",
       "count   891.000000  891.000000  891.000000  714.000000  891.000000   \n",
       "mean    446.000000    0.383838    2.308642   29.699118    0.523008   \n",
       "std     257.353842    0.486592    0.836071   14.526497    1.102743   \n",
       "min       1.000000    0.000000    1.000000    0.420000    0.000000   \n",
       "25%     223.500000    0.000000    2.000000   20.125000    0.000000   \n",
       "50%     446.000000    0.000000    3.000000   28.000000    0.000000   \n",
       "75%     668.500000    1.000000    3.000000   38.000000    1.000000   \n",
       "max     891.000000    1.000000    3.000000   80.000000    8.000000   \n",
       "\n",
       "            Parch        Fare  \n",
       "count  891.000000  891.000000  \n",
       "mean     0.381594   32.204208  \n",
       "std      0.806057   49.693429  \n",
       "min      0.000000    0.000000  \n",
       "25%      0.000000    7.910400  \n",
       "50%      0.000000   14.454200  \n",
       "75%      0.000000   31.000000  \n",
       "max      6.000000  512.329200  "
      ]
     },
     "execution_count": 3,
     "metadata": {},
     "output_type": "execute_result"
    }
   ],
   "source": [
    "train_data.describe()"
   ]
  },
  {
   "cell_type": "code",
   "execution_count": 4,
   "id": "36bef0a7",
   "metadata": {
    "execution": {
     "iopub.execute_input": "2022-09-18T07:58:13.255234Z",
     "iopub.status.busy": "2022-09-18T07:58:13.254283Z",
     "iopub.status.idle": "2022-09-18T07:58:13.265225Z",
     "shell.execute_reply": "2022-09-18T07:58:13.263938Z"
    },
    "papermill": {
     "duration": 0.021429,
     "end_time": "2022-09-18T07:58:13.267864",
     "exception": false,
     "start_time": "2022-09-18T07:58:13.246435",
     "status": "completed"
    },
    "tags": []
   },
   "outputs": [
    {
     "data": {
      "text/plain": [
       "PassengerId      0\n",
       "Survived         0\n",
       "Pclass           0\n",
       "Name             0\n",
       "Sex              0\n",
       "Age            177\n",
       "SibSp            0\n",
       "Parch            0\n",
       "Ticket           0\n",
       "Fare             0\n",
       "Cabin          687\n",
       "Embarked         2\n",
       "dtype: int64"
      ]
     },
     "execution_count": 4,
     "metadata": {},
     "output_type": "execute_result"
    }
   ],
   "source": [
    "train_data.isnull().sum()"
   ]
  },
  {
   "cell_type": "markdown",
   "id": "9c5712a2",
   "metadata": {
    "papermill": {
     "duration": 0.006643,
     "end_time": "2022-09-18T07:58:13.281605",
     "exception": false,
     "start_time": "2022-09-18T07:58:13.274962",
     "status": "completed"
    },
    "tags": []
   },
   "source": [
    "## Visualization"
   ]
  },
  {
   "cell_type": "code",
   "execution_count": 5,
   "id": "ccda6dad",
   "metadata": {
    "execution": {
     "iopub.execute_input": "2022-09-18T07:58:13.298223Z",
     "iopub.status.busy": "2022-09-18T07:58:13.297818Z",
     "iopub.status.idle": "2022-09-18T07:58:14.377959Z",
     "shell.execute_reply": "2022-09-18T07:58:14.376782Z"
    },
    "papermill": {
     "duration": 1.091313,
     "end_time": "2022-09-18T07:58:14.380490",
     "exception": false,
     "start_time": "2022-09-18T07:58:13.289177",
     "status": "completed"
    },
    "tags": []
   },
   "outputs": [
    {
     "data": {
      "image/png": "[encoded data removed]",
      "text/plain": [
       "<Figure size 1080x792 with 4 Axes>"
      ]
     },
     "metadata": {
      "needs_background": "light"
     },
     "output_type": "display_data"
    }
   ],
   "source": [
    "import matplotlib.pyplot as plt\n",
    "import seaborn as sns\n",
    "\n",
    "cols = ['Age', 'SibSp', 'Parch', 'Fare']\n",
    "fig, ax = plt.subplots(2, 2, figsize = (15, 11))\n",
    "c = 0\n",
    "for i in range(2):\n",
    "    for j in range(2):\n",
    "        sns.histplot(train_data[cols[c]], ax = ax[i, j])\n",
    "        ax[i, j].set_title(f'Passenger {cols[c]} distribution')\n",
    "        c += 1"
   ]
  },
  {
   "cell_type": "code",
   "execution_count": 6,
   "id": "5f5c105f",
   "metadata": {
    "execution": {
     "iopub.execute_input": "2022-09-18T07:58:14.397747Z",
     "iopub.status.busy": "2022-09-18T07:58:14.396748Z",
     "iopub.status.idle": "2022-09-18T07:58:15.515018Z",
     "shell.execute_reply": "2022-09-18T07:58:15.513770Z"
    },
    "papermill": {
     "duration": 1.131381,
     "end_time": "2022-09-18T07:58:15.519317",
     "exception": false,
     "start_time": "2022-09-18T07:58:14.387936",
     "status": "completed"
    },
    "tags": []
   },
   "outputs": [
    {
     "data": {
      "image/png": "[encoded data removed]",
      "text/plain": [
       "<Figure size 1224x504 with 2 Axes>"
      ]
     },
     "metadata": {
      "needs_background": "light"
     },
     "output_type": "display_data"
    }
   ],
   "source": [
    "fig, ax = plt.subplots(1, 2, figsize = (17, 7))\n",
    "\n",
    "sns.swarmplot(x = train_data['Pclass'], y = train_data['Age'], hue = train_data['Embarked'], ax = ax[0])\n",
    "ax[0].set_title('Age of passengers depending on class and the place of embarkation')\n",
    "\n",
    "sns.swarmplot(x = train_data['Sex'], y = train_data['Age'], hue = train_data['Survived'], ax = ax[1])\n",
    "ax[1].set_title('Age of passengers depending on sex and survival')\n",
    "\n",
    "plt.show()"
   ]
  },
  {
   "cell_type": "markdown",
   "id": "37134f80",
   "metadata": {
    "papermill": {
     "duration": 0.009212,
     "end_time": "2022-09-18T07:58:15.537895",
     "exception": false,
     "start_time": "2022-09-18T07:58:15.528683",
     "status": "completed"
    },
    "tags": []
   },
   "source": [
    "## Drop useless columns and handle missing values"
   ]
  },
  {
   "cell_type": "code",
   "execution_count": 7,
   "id": "fcdfbfcd",
   "metadata": {
    "execution": {
     "iopub.execute_input": "2022-09-18T07:58:15.559798Z",
     "iopub.status.busy": "2022-09-18T07:58:15.558958Z",
     "iopub.status.idle": "2022-09-18T07:58:15.569753Z",
     "shell.execute_reply": "2022-09-18T07:58:15.568390Z"
    },
    "papermill": {
     "duration": 0.025155,
     "end_time": "2022-09-18T07:58:15.572464",
     "exception": false,
     "start_time": "2022-09-18T07:58:15.547309",
     "status": "completed"
    },
    "tags": []
   },
   "outputs": [],
   "source": [
    "df = train_data.copy().drop(['PassengerId', 'Ticket', 'Cabin', 'Name'], axis = 1)\n",
    "df.Age = df.Age.fillna(df.Age.mean())\n",
    "df.Embarked = df.Embarked.fillna(df.Embarked.mode()[0])"
   ]
  },
  {
   "cell_type": "markdown",
   "id": "cac9824b",
   "metadata": {
    "papermill": {
     "duration": 0.009494,
     "end_time": "2022-09-18T07:58:15.591441",
     "exception": false,
     "start_time": "2022-09-18T07:58:15.581947",
     "status": "completed"
    },
    "tags": []
   },
   "source": [
    "## Case 1: ordinal encoding\n",
    "### Data preprocessing"
   ]
  },
  {
   "cell_type": "code",
   "execution_count": 8,
   "id": "8892818f",
   "metadata": {
    "execution": {
     "iopub.execute_input": "2022-09-18T07:58:15.612897Z",
     "iopub.status.busy": "2022-09-18T07:58:15.612475Z",
     "iopub.status.idle": "2022-09-18T07:58:16.068861Z",
     "shell.execute_reply": "2022-09-18T07:58:16.067776Z"
    },
    "papermill": {
     "duration": 0.470469,
     "end_time": "2022-09-18T07:58:16.071639",
     "exception": false,
     "start_time": "2022-09-18T07:58:15.601170",
     "status": "completed"
    },
    "tags": []
   },
   "outputs": [
    {
     "data": {
      "text/html": [
       "<div>\n",
       "<style scoped>\n",
       "    .dataframe tbody tr th:only-of-type {\n",
       "        vertical-align: middle;\n",
       "    }\n",
       "\n",
       "    .dataframe tbody tr th {\n",
       "        vertical-align: top;\n",
       "    }\n",
       "\n",
       "    .dataframe thead th {\n",
       "        text-align: right;\n",
       "    }\n",
       "</style>\n",
       "<table border=\"1\" class=\"dataframe\">\n",
       "  <thead>\n",
       "    <tr style=\"text-align: right;\">\n",
       "      <th></th>\n",
       "      <th>Pclass</th>\n",
       "      <th>Sex</th>\n",
       "      <th>Age</th>\n",
       "      <th>SibSp</th>\n",
       "      <th>Parch</th>\n",
       "      <th>Fare</th>\n",
       "      <th>Embarked</th>\n",
       "    </tr>\n",
       "  </thead>\n",
       "  <tbody>\n",
       "    <tr>\n",
       "      <th>0</th>\n",
       "      <td>3</td>\n",
       "      <td>1.0</td>\n",
       "      <td>22.0</td>\n",
       "      <td>1</td>\n",
       "      <td>0</td>\n",
       "      <td>7.2500</td>\n",
       "      <td>2.0</td>\n",
       "    </tr>\n",
       "    <tr>\n",
       "      <th>1</th>\n",
       "      <td>1</td>\n",
       "      <td>0.0</td>\n",
       "      <td>38.0</td>\n",
       "      <td>1</td>\n",
       "      <td>0</td>\n",
       "      <td>71.2833</td>\n",
       "      <td>0.0</td>\n",
       "    </tr>\n",
       "    <tr>\n",
       "      <th>2</th>\n",
       "      <td>3</td>\n",
       "      <td>0.0</td>\n",
       "      <td>26.0</td>\n",
       "      <td>0</td>\n",
       "      <td>0</td>\n",
       "      <td>7.9250</td>\n",
       "      <td>2.0</td>\n",
       "    </tr>\n",
       "    <tr>\n",
       "      <th>3</th>\n",
       "      <td>1</td>\n",
       "      <td>0.0</td>\n",
       "      <td>35.0</td>\n",
       "      <td>1</td>\n",
       "      <td>0</td>\n",
       "      <td>53.1000</td>\n",
       "      <td>2.0</td>\n",
       "    </tr>\n",
       "    <tr>\n",
       "      <th>4</th>\n",
       "      <td>3</td>\n",
       "      <td>1.0</td>\n",
       "      <td>35.0</td>\n",
       "      <td>0</td>\n",
       "      <td>0</td>\n",
       "      <td>8.0500</td>\n",
       "      <td>2.0</td>\n",
       "    </tr>\n",
       "  </tbody>\n",
       "</table>\n",
       "</div>"
      ],
      "text/plain": [
       "   Pclass  Sex   Age  SibSp  Parch     Fare  Embarked\n",
       "0       3  1.0  22.0      1      0   7.2500       2.0\n",
       "1       1  0.0  38.0      1      0  71.2833       0.0\n",
       "2       3  0.0  26.0      0      0   7.9250       2.0\n",
       "3       1  0.0  35.0      1      0  53.1000       2.0\n",
       "4       3  1.0  35.0      0      0   8.0500       2.0"
      ]
     },
     "execution_count": 8,
     "metadata": {},
     "output_type": "execute_result"
    }
   ],
   "source": [
    "from sklearn.model_selection import cross_val_score\n",
    "from sklearn.ensemble import RandomForestClassifier\n",
    "from sklearn.preprocessing import OrdinalEncoder\n",
    "\n",
    "X1 = df.copy()\n",
    "y1 = X1.pop('Survived')\n",
    "\n",
    "ordinal_encoder = OrdinalEncoder()\n",
    "X1[['Sex', 'Embarked']] = ordinal_encoder.fit_transform(X1[['Sex', 'Embarked']])\n",
    "\n",
    "est = [100, 150, 200]\n",
    "min_samp = [3, 4, 5, 6, 7, 8]\n",
    "\n",
    "X1.head()"
   ]
  },
  {
   "cell_type": "markdown",
   "id": "09deafde",
   "metadata": {
    "papermill": {
     "duration": 0.009491,
     "end_time": "2022-09-18T07:58:16.090654",
     "exception": false,
     "start_time": "2022-09-18T07:58:16.081163",
     "status": "completed"
    },
    "tags": []
   },
   "source": [
    "### Training the model and getting scores"
   ]
  },
  {
   "cell_type": "code",
   "execution_count": 9,
   "id": "4cd5abbd",
   "metadata": {
    "execution": {
     "iopub.execute_input": "2022-09-18T07:58:16.112535Z",
     "iopub.status.busy": "2022-09-18T07:58:16.111622Z",
     "iopub.status.idle": "2022-09-18T07:58:42.838960Z",
     "shell.execute_reply": "2022-09-18T07:58:42.837732Z"
    },
    "papermill": {
     "duration": 26.741727,
     "end_time": "2022-09-18T07:58:42.841901",
     "exception": false,
     "start_time": "2022-09-18T07:58:16.100174",
     "status": "completed"
    },
    "tags": []
   },
   "outputs": [],
   "source": [
    "est_result1 = []\n",
    "min_samp_result1 = []\n",
    "score_result1 = []\n",
    "\n",
    "for i in est:\n",
    "    for j in min_samp:\n",
    "        score = -1 * cross_val_score(RandomForestClassifier(n_estimators = i, min_samples_split = j, random_state = 1),\n",
    "                                     X1, y1, cv = 5, scoring = 'neg_mean_absolute_error')\n",
    "        est_result1.append(i)\n",
    "        min_samp_result1.append(j)\n",
    "        score_result1.append(score.mean())\n",
    "        \n",
    "result1 = pd.DataFrame({'n_estimators': est_result1, 'min_samples_split': min_samp_result1, 'score': score_result1})"
   ]
  },
  {
   "cell_type": "markdown",
   "id": "ca7cc7ab",
   "metadata": {
    "papermill": {
     "duration": 0.00921,
     "end_time": "2022-09-18T07:58:42.860659",
     "exception": false,
     "start_time": "2022-09-18T07:58:42.851449",
     "status": "completed"
    },
    "tags": []
   },
   "source": [
    "### Results"
   ]
  },
  {
   "cell_type": "code",
   "execution_count": 10,
   "id": "50d15cf0",
   "metadata": {
    "execution": {
     "iopub.execute_input": "2022-09-18T07:58:42.883559Z",
     "iopub.status.busy": "2022-09-18T07:58:42.882863Z",
     "iopub.status.idle": "2022-09-18T07:58:42.893631Z",
     "shell.execute_reply": "2022-09-18T07:58:42.892872Z"
    },
    "papermill": {
     "duration": 0.02392,
     "end_time": "2022-09-18T07:58:42.895755",
     "exception": false,
     "start_time": "2022-09-18T07:58:42.871835",
     "status": "completed"
    },
    "tags": []
   },
   "outputs": [
    {
     "data": {
      "text/html": [
       "<div>\n",
       "<style scoped>\n",
       "    .dataframe tbody tr th:only-of-type {\n",
       "        vertical-align: middle;\n",
       "    }\n",
       "\n",
       "    .dataframe tbody tr th {\n",
       "        vertical-align: top;\n",
       "    }\n",
       "\n",
       "    .dataframe thead th {\n",
       "        text-align: right;\n",
       "    }\n",
       "</style>\n",
       "<table border=\"1\" class=\"dataframe\">\n",
       "  <thead>\n",
       "    <tr style=\"text-align: right;\">\n",
       "      <th></th>\n",
       "      <th>n_estimators</th>\n",
       "      <th>min_samples_split</th>\n",
       "      <th>score</th>\n",
       "    </tr>\n",
       "  </thead>\n",
       "  <tbody>\n",
       "    <tr>\n",
       "      <th>17</th>\n",
       "      <td>200</td>\n",
       "      <td>8</td>\n",
       "      <td>0.164961</td>\n",
       "    </tr>\n",
       "    <tr>\n",
       "      <th>5</th>\n",
       "      <td>100</td>\n",
       "      <td>8</td>\n",
       "      <td>0.164974</td>\n",
       "    </tr>\n",
       "    <tr>\n",
       "      <th>4</th>\n",
       "      <td>100</td>\n",
       "      <td>7</td>\n",
       "      <td>0.166079</td>\n",
       "    </tr>\n",
       "    <tr>\n",
       "      <th>14</th>\n",
       "      <td>200</td>\n",
       "      <td>5</td>\n",
       "      <td>0.167202</td>\n",
       "    </tr>\n",
       "    <tr>\n",
       "      <th>8</th>\n",
       "      <td>150</td>\n",
       "      <td>5</td>\n",
       "      <td>0.167202</td>\n",
       "    </tr>\n",
       "    <tr>\n",
       "      <th>2</th>\n",
       "      <td>100</td>\n",
       "      <td>5</td>\n",
       "      <td>0.167202</td>\n",
       "    </tr>\n",
       "    <tr>\n",
       "      <th>16</th>\n",
       "      <td>200</td>\n",
       "      <td>7</td>\n",
       "      <td>0.168320</td>\n",
       "    </tr>\n",
       "    <tr>\n",
       "      <th>10</th>\n",
       "      <td>150</td>\n",
       "      <td>7</td>\n",
       "      <td>0.168326</td>\n",
       "    </tr>\n",
       "    <tr>\n",
       "      <th>11</th>\n",
       "      <td>150</td>\n",
       "      <td>8</td>\n",
       "      <td>0.169443</td>\n",
       "    </tr>\n",
       "    <tr>\n",
       "      <th>9</th>\n",
       "      <td>150</td>\n",
       "      <td>6</td>\n",
       "      <td>0.169450</td>\n",
       "    </tr>\n",
       "  </tbody>\n",
       "</table>\n",
       "</div>"
      ],
      "text/plain": [
       "    n_estimators  min_samples_split     score\n",
       "17           200                  8  0.164961\n",
       "5            100                  8  0.164974\n",
       "4            100                  7  0.166079\n",
       "14           200                  5  0.167202\n",
       "8            150                  5  0.167202\n",
       "2            100                  5  0.167202\n",
       "16           200                  7  0.168320\n",
       "10           150                  7  0.168326\n",
       "11           150                  8  0.169443\n",
       "9            150                  6  0.169450"
      ]
     },
     "execution_count": 10,
     "metadata": {},
     "output_type": "execute_result"
    }
   ],
   "source": [
    "result1.sort_values(by = ['score']).head(10)"
   ]
  },
  {
   "cell_type": "markdown",
   "id": "86e27243",
   "metadata": {
    "papermill": {
     "duration": 0.009677,
     "end_time": "2022-09-18T07:58:42.915097",
     "exception": false,
     "start_time": "2022-09-18T07:58:42.905420",
     "status": "completed"
    },
    "tags": []
   },
   "source": [
    "## Case 2: one-hot encoding\n",
    "### Data preprocessing"
   ]
  },
  {
   "cell_type": "code",
   "execution_count": 11,
   "id": "356de7a0",
   "metadata": {
    "execution": {
     "iopub.execute_input": "2022-09-18T07:58:42.936648Z",
     "iopub.status.busy": "2022-09-18T07:58:42.936055Z",
     "iopub.status.idle": "2022-09-18T07:58:42.969068Z",
     "shell.execute_reply": "2022-09-18T07:58:42.968175Z"
    },
    "papermill": {
     "duration": 0.046619,
     "end_time": "2022-09-18T07:58:42.971538",
     "exception": false,
     "start_time": "2022-09-18T07:58:42.924919",
     "status": "completed"
    },
    "tags": []
   },
   "outputs": [
    {
     "data": {
      "text/html": [
       "<div>\n",
       "<style scoped>\n",
       "    .dataframe tbody tr th:only-of-type {\n",
       "        vertical-align: middle;\n",
       "    }\n",
       "\n",
       "    .dataframe tbody tr th {\n",
       "        vertical-align: top;\n",
       "    }\n",
       "\n",
       "    .dataframe thead th {\n",
       "        text-align: right;\n",
       "    }\n",
       "</style>\n",
       "<table border=\"1\" class=\"dataframe\">\n",
       "  <thead>\n",
       "    <tr style=\"text-align: right;\">\n",
       "      <th></th>\n",
       "      <th>Age</th>\n",
       "      <th>SibSp</th>\n",
       "      <th>Parch</th>\n",
       "      <th>Fare</th>\n",
       "      <th>0</th>\n",
       "      <th>1</th>\n",
       "      <th>2</th>\n",
       "      <th>3</th>\n",
       "      <th>4</th>\n",
       "      <th>5</th>\n",
       "      <th>6</th>\n",
       "      <th>7</th>\n",
       "    </tr>\n",
       "  </thead>\n",
       "  <tbody>\n",
       "    <tr>\n",
       "      <th>0</th>\n",
       "      <td>22.0</td>\n",
       "      <td>1</td>\n",
       "      <td>0</td>\n",
       "      <td>7.2500</td>\n",
       "      <td>0.0</td>\n",
       "      <td>0.0</td>\n",
       "      <td>1.0</td>\n",
       "      <td>0.0</td>\n",
       "      <td>1.0</td>\n",
       "      <td>0.0</td>\n",
       "      <td>0.0</td>\n",
       "      <td>1.0</td>\n",
       "    </tr>\n",
       "    <tr>\n",
       "      <th>1</th>\n",
       "      <td>38.0</td>\n",
       "      <td>1</td>\n",
       "      <td>0</td>\n",
       "      <td>71.2833</td>\n",
       "      <td>1.0</td>\n",
       "      <td>0.0</td>\n",
       "      <td>0.0</td>\n",
       "      <td>1.0</td>\n",
       "      <td>0.0</td>\n",
       "      <td>1.0</td>\n",
       "      <td>0.0</td>\n",
       "      <td>0.0</td>\n",
       "    </tr>\n",
       "    <tr>\n",
       "      <th>2</th>\n",
       "      <td>26.0</td>\n",
       "      <td>0</td>\n",
       "      <td>0</td>\n",
       "      <td>7.9250</td>\n",
       "      <td>0.0</td>\n",
       "      <td>0.0</td>\n",
       "      <td>1.0</td>\n",
       "      <td>1.0</td>\n",
       "      <td>0.0</td>\n",
       "      <td>0.0</td>\n",
       "      <td>0.0</td>\n",
       "      <td>1.0</td>\n",
       "    </tr>\n",
       "    <tr>\n",
       "      <th>3</th>\n",
       "      <td>35.0</td>\n",
       "      <td>1</td>\n",
       "      <td>0</td>\n",
       "      <td>53.1000</td>\n",
       "      <td>1.0</td>\n",
       "      <td>0.0</td>\n",
       "      <td>0.0</td>\n",
       "      <td>1.0</td>\n",
       "      <td>0.0</td>\n",
       "      <td>0.0</td>\n",
       "      <td>0.0</td>\n",
       "      <td>1.0</td>\n",
       "    </tr>\n",
       "    <tr>\n",
       "      <th>4</th>\n",
       "      <td>35.0</td>\n",
       "      <td>0</td>\n",
       "      <td>0</td>\n",
       "      <td>8.0500</td>\n",
       "      <td>0.0</td>\n",
       "      <td>0.0</td>\n",
       "      <td>1.0</td>\n",
       "      <td>0.0</td>\n",
       "      <td>1.0</td>\n",
       "      <td>0.0</td>\n",
       "      <td>0.0</td>\n",
       "      <td>1.0</td>\n",
       "    </tr>\n",
       "  </tbody>\n",
       "</table>\n",
       "</div>"
      ],
      "text/plain": [
       "    Age  SibSp  Parch     Fare    0    1    2    3    4    5    6    7\n",
       "0  22.0      1      0   7.2500  0.0  0.0  1.0  0.0  1.0  0.0  0.0  1.0\n",
       "1  38.0      1      0  71.2833  1.0  0.0  0.0  1.0  0.0  1.0  0.0  0.0\n",
       "2  26.0      0      0   7.9250  0.0  0.0  1.0  1.0  0.0  0.0  0.0  1.0\n",
       "3  35.0      1      0  53.1000  1.0  0.0  0.0  1.0  0.0  0.0  0.0  1.0\n",
       "4  35.0      0      0   8.0500  0.0  0.0  1.0  0.0  1.0  0.0  0.0  1.0"
      ]
     },
     "execution_count": 11,
     "metadata": {},
     "output_type": "execute_result"
    }
   ],
   "source": [
    "from sklearn.preprocessing import OneHotEncoder\n",
    "\n",
    "X2 = df.copy()\n",
    "y2 = X2.pop('Survived')\n",
    "\n",
    "OH_encoder = OneHotEncoder(handle_unknown = 'ignore', sparse = False)\n",
    "OH_cols = pd.DataFrame(OH_encoder.fit_transform(X2[['Pclass', 'Sex', 'Embarked']]))\n",
    "\n",
    "num_X2 = X2.drop(['Pclass', 'Sex', 'Embarked'], axis = 1)\n",
    "OH_X2 = pd.concat([num_X2, OH_cols], axis = 1)\n",
    "\n",
    "for i in range(8):\n",
    "    OH_X2 = OH_X2.rename(columns = {i: str(i)})\n",
    "\n",
    "OH_X2.head()"
   ]
  },
  {
   "cell_type": "markdown",
   "id": "617aba60",
   "metadata": {
    "papermill": {
     "duration": 0.009708,
     "end_time": "2022-09-18T07:58:42.991375",
     "exception": false,
     "start_time": "2022-09-18T07:58:42.981667",
     "status": "completed"
    },
    "tags": []
   },
   "source": [
    "### Training the model and getting scores"
   ]
  },
  {
   "cell_type": "code",
   "execution_count": 12,
   "id": "f11a9f56",
   "metadata": {
    "execution": {
     "iopub.execute_input": "2022-09-18T07:58:43.013609Z",
     "iopub.status.busy": "2022-09-18T07:58:43.013008Z",
     "iopub.status.idle": "2022-09-18T07:59:10.021512Z",
     "shell.execute_reply": "2022-09-18T07:59:10.018794Z"
    },
    "papermill": {
     "duration": 27.023033,
     "end_time": "2022-09-18T07:59:10.024352",
     "exception": false,
     "start_time": "2022-09-18T07:58:43.001319",
     "status": "completed"
    },
    "tags": []
   },
   "outputs": [],
   "source": [
    "est_result2 = []\n",
    "min_samp_result2 = []\n",
    "score_result2 = []\n",
    "\n",
    "for i in est:\n",
    "    for j in min_samp:\n",
    "        score = -1 * cross_val_score(RandomForestClassifier(n_estimators = i, min_samples_split = j, random_state = 1),\n",
    "                                     OH_X2, y2, cv = 5, scoring = 'neg_mean_absolute_error')\n",
    "        est_result2.append(i)\n",
    "        min_samp_result2.append(j)\n",
    "        score_result2.append(score.mean())\n",
    "        \n",
    "result2 = pd.DataFrame({'n_estimators': est_result2, 'min_samples_split': min_samp_result2, 'score': score_result2})"
   ]
  },
  {
   "cell_type": "markdown",
   "id": "7645f266",
   "metadata": {
    "papermill": {
     "duration": 0.010142,
     "end_time": "2022-09-18T07:59:10.045117",
     "exception": false,
     "start_time": "2022-09-18T07:59:10.034975",
     "status": "completed"
    },
    "tags": []
   },
   "source": [
    "### Results"
   ]
  },
  {
   "cell_type": "code",
   "execution_count": 13,
   "id": "a46e1022",
   "metadata": {
    "execution": {
     "iopub.execute_input": "2022-09-18T07:59:10.067410Z",
     "iopub.status.busy": "2022-09-18T07:59:10.067020Z",
     "iopub.status.idle": "2022-09-18T07:59:10.079596Z",
     "shell.execute_reply": "2022-09-18T07:59:10.078327Z"
    },
    "papermill": {
     "duration": 0.026757,
     "end_time": "2022-09-18T07:59:10.082268",
     "exception": false,
     "start_time": "2022-09-18T07:59:10.055511",
     "status": "completed"
    },
    "tags": []
   },
   "outputs": [
    {
     "data": {
      "text/html": [
       "<div>\n",
       "<style scoped>\n",
       "    .dataframe tbody tr th:only-of-type {\n",
       "        vertical-align: middle;\n",
       "    }\n",
       "\n",
       "    .dataframe tbody tr th {\n",
       "        vertical-align: top;\n",
       "    }\n",
       "\n",
       "    .dataframe thead th {\n",
       "        text-align: right;\n",
       "    }\n",
       "</style>\n",
       "<table border=\"1\" class=\"dataframe\">\n",
       "  <thead>\n",
       "    <tr style=\"text-align: right;\">\n",
       "      <th></th>\n",
       "      <th>n_estimators</th>\n",
       "      <th>min_samples_split</th>\n",
       "      <th>score</th>\n",
       "    </tr>\n",
       "  </thead>\n",
       "  <tbody>\n",
       "    <tr>\n",
       "      <th>16</th>\n",
       "      <td>200</td>\n",
       "      <td>7</td>\n",
       "      <td>0.168320</td>\n",
       "    </tr>\n",
       "    <tr>\n",
       "      <th>3</th>\n",
       "      <td>100</td>\n",
       "      <td>6</td>\n",
       "      <td>0.170561</td>\n",
       "    </tr>\n",
       "    <tr>\n",
       "      <th>10</th>\n",
       "      <td>150</td>\n",
       "      <td>7</td>\n",
       "      <td>0.171665</td>\n",
       "    </tr>\n",
       "    <tr>\n",
       "      <th>15</th>\n",
       "      <td>200</td>\n",
       "      <td>6</td>\n",
       "      <td>0.171684</td>\n",
       "    </tr>\n",
       "    <tr>\n",
       "      <th>7</th>\n",
       "      <td>150</td>\n",
       "      <td>4</td>\n",
       "      <td>0.171690</td>\n",
       "    </tr>\n",
       "    <tr>\n",
       "      <th>4</th>\n",
       "      <td>100</td>\n",
       "      <td>7</td>\n",
       "      <td>0.172795</td>\n",
       "    </tr>\n",
       "    <tr>\n",
       "      <th>17</th>\n",
       "      <td>200</td>\n",
       "      <td>8</td>\n",
       "      <td>0.173931</td>\n",
       "    </tr>\n",
       "    <tr>\n",
       "      <th>1</th>\n",
       "      <td>100</td>\n",
       "      <td>4</td>\n",
       "      <td>0.173931</td>\n",
       "    </tr>\n",
       "    <tr>\n",
       "      <th>11</th>\n",
       "      <td>150</td>\n",
       "      <td>8</td>\n",
       "      <td>0.173931</td>\n",
       "    </tr>\n",
       "    <tr>\n",
       "      <th>14</th>\n",
       "      <td>200</td>\n",
       "      <td>5</td>\n",
       "      <td>0.173938</td>\n",
       "    </tr>\n",
       "  </tbody>\n",
       "</table>\n",
       "</div>"
      ],
      "text/plain": [
       "    n_estimators  min_samples_split     score\n",
       "16           200                  7  0.168320\n",
       "3            100                  6  0.170561\n",
       "10           150                  7  0.171665\n",
       "15           200                  6  0.171684\n",
       "7            150                  4  0.171690\n",
       "4            100                  7  0.172795\n",
       "17           200                  8  0.173931\n",
       "1            100                  4  0.173931\n",
       "11           150                  8  0.173931\n",
       "14           200                  5  0.173938"
      ]
     },
     "execution_count": 13,
     "metadata": {},
     "output_type": "execute_result"
    }
   ],
   "source": [
    "result2.sort_values(by = ['score']).head(10)"
   ]
  },
  {
   "cell_type": "markdown",
   "id": "ef7416e0",
   "metadata": {
    "papermill": {
     "duration": 0.010973,
     "end_time": "2022-09-18T07:59:10.104293",
     "exception": false,
     "start_time": "2022-09-18T07:59:10.093320",
     "status": "completed"
    },
    "tags": []
   },
   "source": [
    "## Case 3: 2nd case + standartization\n",
    "### Data preprocessing"
   ]
  },
  {
   "cell_type": "code",
   "execution_count": 14,
   "id": "ca2eed30",
   "metadata": {
    "execution": {
     "iopub.execute_input": "2022-09-18T07:59:10.128050Z",
     "iopub.status.busy": "2022-09-18T07:59:10.127605Z",
     "iopub.status.idle": "2022-09-18T07:59:10.155891Z",
     "shell.execute_reply": "2022-09-18T07:59:10.154584Z"
    },
    "papermill": {
     "duration": 0.043559,
     "end_time": "2022-09-18T07:59:10.158508",
     "exception": false,
     "start_time": "2022-09-18T07:59:10.114949",
     "status": "completed"
    },
    "tags": []
   },
   "outputs": [
    {
     "data": {
      "text/html": [
       "<div>\n",
       "<style scoped>\n",
       "    .dataframe tbody tr th:only-of-type {\n",
       "        vertical-align: middle;\n",
       "    }\n",
       "\n",
       "    .dataframe tbody tr th {\n",
       "        vertical-align: top;\n",
       "    }\n",
       "\n",
       "    .dataframe thead th {\n",
       "        text-align: right;\n",
       "    }\n",
       "</style>\n",
       "<table border=\"1\" class=\"dataframe\">\n",
       "  <thead>\n",
       "    <tr style=\"text-align: right;\">\n",
       "      <th></th>\n",
       "      <th>Age</th>\n",
       "      <th>SibSp</th>\n",
       "      <th>Parch</th>\n",
       "      <th>Fare</th>\n",
       "      <th>0</th>\n",
       "      <th>1</th>\n",
       "      <th>2</th>\n",
       "      <th>3</th>\n",
       "      <th>4</th>\n",
       "      <th>5</th>\n",
       "      <th>6</th>\n",
       "      <th>7</th>\n",
       "    </tr>\n",
       "  </thead>\n",
       "  <tbody>\n",
       "    <tr>\n",
       "      <th>0</th>\n",
       "      <td>-0.592481</td>\n",
       "      <td>0.432793</td>\n",
       "      <td>-0.473674</td>\n",
       "      <td>-0.502445</td>\n",
       "      <td>-0.565685</td>\n",
       "      <td>-0.510152</td>\n",
       "      <td>0.902587</td>\n",
       "      <td>-0.737695</td>\n",
       "      <td>0.737695</td>\n",
       "      <td>-0.482043</td>\n",
       "      <td>-0.307562</td>\n",
       "      <td>0.615838</td>\n",
       "    </tr>\n",
       "    <tr>\n",
       "      <th>1</th>\n",
       "      <td>0.638789</td>\n",
       "      <td>0.432793</td>\n",
       "      <td>-0.473674</td>\n",
       "      <td>0.786845</td>\n",
       "      <td>1.767767</td>\n",
       "      <td>-0.510152</td>\n",
       "      <td>-1.107926</td>\n",
       "      <td>1.355574</td>\n",
       "      <td>-1.355574</td>\n",
       "      <td>2.074505</td>\n",
       "      <td>-0.307562</td>\n",
       "      <td>-1.623803</td>\n",
       "    </tr>\n",
       "    <tr>\n",
       "      <th>2</th>\n",
       "      <td>-0.284663</td>\n",
       "      <td>-0.474545</td>\n",
       "      <td>-0.473674</td>\n",
       "      <td>-0.488854</td>\n",
       "      <td>-0.565685</td>\n",
       "      <td>-0.510152</td>\n",
       "      <td>0.902587</td>\n",
       "      <td>1.355574</td>\n",
       "      <td>-1.355574</td>\n",
       "      <td>-0.482043</td>\n",
       "      <td>-0.307562</td>\n",
       "      <td>0.615838</td>\n",
       "    </tr>\n",
       "    <tr>\n",
       "      <th>3</th>\n",
       "      <td>0.407926</td>\n",
       "      <td>0.432793</td>\n",
       "      <td>-0.473674</td>\n",
       "      <td>0.420730</td>\n",
       "      <td>1.767767</td>\n",
       "      <td>-0.510152</td>\n",
       "      <td>-1.107926</td>\n",
       "      <td>1.355574</td>\n",
       "      <td>-1.355574</td>\n",
       "      <td>-0.482043</td>\n",
       "      <td>-0.307562</td>\n",
       "      <td>0.615838</td>\n",
       "    </tr>\n",
       "    <tr>\n",
       "      <th>4</th>\n",
       "      <td>0.407926</td>\n",
       "      <td>-0.474545</td>\n",
       "      <td>-0.473674</td>\n",
       "      <td>-0.486337</td>\n",
       "      <td>-0.565685</td>\n",
       "      <td>-0.510152</td>\n",
       "      <td>0.902587</td>\n",
       "      <td>-0.737695</td>\n",
       "      <td>0.737695</td>\n",
       "      <td>-0.482043</td>\n",
       "      <td>-0.307562</td>\n",
       "      <td>0.615838</td>\n",
       "    </tr>\n",
       "  </tbody>\n",
       "</table>\n",
       "</div>"
      ],
      "text/plain": [
       "        Age     SibSp     Parch      Fare         0         1         2  \\\n",
       "0 -0.592481  0.432793 -0.473674 -0.502445 -0.565685 -0.510152  0.902587   \n",
       "1  0.638789  0.432793 -0.473674  0.786845  1.767767 -0.510152 -1.107926   \n",
       "2 -0.284663 -0.474545 -0.473674 -0.488854 -0.565685 -0.510152  0.902587   \n",
       "3  0.407926  0.432793 -0.473674  0.420730  1.767767 -0.510152 -1.107926   \n",
       "4  0.407926 -0.474545 -0.473674 -0.486337 -0.565685 -0.510152  0.902587   \n",
       "\n",
       "          3         4         5         6         7  \n",
       "0 -0.737695  0.737695 -0.482043 -0.307562  0.615838  \n",
       "1  1.355574 -1.355574  2.074505 -0.307562 -1.623803  \n",
       "2  1.355574 -1.355574 -0.482043 -0.307562  0.615838  \n",
       "3  1.355574 -1.355574 -0.482043 -0.307562  0.615838  \n",
       "4 -0.737695  0.737695 -0.482043 -0.307562  0.615838  "
      ]
     },
     "execution_count": 14,
     "metadata": {},
     "output_type": "execute_result"
    }
   ],
   "source": [
    "from sklearn.preprocessing import StandardScaler\n",
    "\n",
    "X3 = OH_X2.copy()\n",
    "y3 = df['Survived'].copy()\n",
    "\n",
    "scaler = StandardScaler()\n",
    "scaler.fit(X3)\n",
    "X3_std = pd.DataFrame(scaler.transform(X3))\n",
    "X3_std.columns = X3.columns\n",
    "\n",
    "X3_std.head()"
   ]
  },
  {
   "cell_type": "markdown",
   "id": "7e2d9393",
   "metadata": {
    "papermill": {
     "duration": 0.011317,
     "end_time": "2022-09-18T07:59:10.180619",
     "exception": false,
     "start_time": "2022-09-18T07:59:10.169302",
     "status": "completed"
    },
    "tags": []
   },
   "source": [
    "### Training the model and getting scores"
   ]
  },
  {
   "cell_type": "code",
   "execution_count": 15,
   "id": "a569802c",
   "metadata": {
    "execution": {
     "iopub.execute_input": "2022-09-18T07:59:10.204597Z",
     "iopub.status.busy": "2022-09-18T07:59:10.204221Z",
     "iopub.status.idle": "2022-09-18T07:59:37.349628Z",
     "shell.execute_reply": "2022-09-18T07:59:37.348416Z"
    },
    "papermill": {
     "duration": 27.160414,
     "end_time": "2022-09-18T07:59:37.352607",
     "exception": false,
     "start_time": "2022-09-18T07:59:10.192193",
     "status": "completed"
    },
    "tags": []
   },
   "outputs": [],
   "source": [
    "est_result3 = []\n",
    "min_samp_result3 = []\n",
    "score_result3 = []\n",
    "\n",
    "for i in est:\n",
    "    for j in min_samp:\n",
    "        score = -1 * cross_val_score(RandomForestClassifier(n_estimators = i, min_samples_split = j, random_state = 1),\n",
    "                                     X3_std, y3, cv = 5, scoring = 'neg_mean_absolute_error')\n",
    "        est_result3.append(i)\n",
    "        min_samp_result3.append(j)\n",
    "        score_result3.append(score.mean())\n",
    "        \n",
    "result3 = pd.DataFrame({'n_estimators': est_result3, 'min_samples_split': min_samp_result3, 'score': score_result3})"
   ]
  },
  {
   "cell_type": "markdown",
   "id": "c1075915",
   "metadata": {
    "papermill": {
     "duration": 0.010757,
     "end_time": "2022-09-18T07:59:37.374863",
     "exception": false,
     "start_time": "2022-09-18T07:59:37.364106",
     "status": "completed"
    },
    "tags": []
   },
   "source": [
    "### Results"
   ]
  },
  {
   "cell_type": "code",
   "execution_count": 16,
   "id": "bdefd11b",
   "metadata": {
    "execution": {
     "iopub.execute_input": "2022-09-18T07:59:37.397333Z",
     "iopub.status.busy": "2022-09-18T07:59:37.396895Z",
     "iopub.status.idle": "2022-09-18T07:59:37.410000Z",
     "shell.execute_reply": "2022-09-18T07:59:37.408716Z"
    },
    "papermill": {
     "duration": 0.02708,
     "end_time": "2022-09-18T07:59:37.412436",
     "exception": false,
     "start_time": "2022-09-18T07:59:37.385356",
     "status": "completed"
    },
    "tags": []
   },
   "outputs": [
    {
     "data": {
      "text/html": [
       "<div>\n",
       "<style scoped>\n",
       "    .dataframe tbody tr th:only-of-type {\n",
       "        vertical-align: middle;\n",
       "    }\n",
       "\n",
       "    .dataframe tbody tr th {\n",
       "        vertical-align: top;\n",
       "    }\n",
       "\n",
       "    .dataframe thead th {\n",
       "        text-align: right;\n",
       "    }\n",
       "</style>\n",
       "<table border=\"1\" class=\"dataframe\">\n",
       "  <thead>\n",
       "    <tr style=\"text-align: right;\">\n",
       "      <th></th>\n",
       "      <th>n_estimators</th>\n",
       "      <th>min_samples_split</th>\n",
       "      <th>score</th>\n",
       "    </tr>\n",
       "  </thead>\n",
       "  <tbody>\n",
       "    <tr>\n",
       "      <th>16</th>\n",
       "      <td>200</td>\n",
       "      <td>7</td>\n",
       "      <td>0.168320</td>\n",
       "    </tr>\n",
       "    <tr>\n",
       "      <th>15</th>\n",
       "      <td>200</td>\n",
       "      <td>6</td>\n",
       "      <td>0.170567</td>\n",
       "    </tr>\n",
       "    <tr>\n",
       "      <th>10</th>\n",
       "      <td>150</td>\n",
       "      <td>7</td>\n",
       "      <td>0.171665</td>\n",
       "    </tr>\n",
       "    <tr>\n",
       "      <th>7</th>\n",
       "      <td>150</td>\n",
       "      <td>4</td>\n",
       "      <td>0.171684</td>\n",
       "    </tr>\n",
       "    <tr>\n",
       "      <th>3</th>\n",
       "      <td>100</td>\n",
       "      <td>6</td>\n",
       "      <td>0.171690</td>\n",
       "    </tr>\n",
       "    <tr>\n",
       "      <th>4</th>\n",
       "      <td>100</td>\n",
       "      <td>7</td>\n",
       "      <td>0.172801</td>\n",
       "    </tr>\n",
       "    <tr>\n",
       "      <th>11</th>\n",
       "      <td>150</td>\n",
       "      <td>8</td>\n",
       "      <td>0.172808</td>\n",
       "    </tr>\n",
       "    <tr>\n",
       "      <th>14</th>\n",
       "      <td>200</td>\n",
       "      <td>5</td>\n",
       "      <td>0.172814</td>\n",
       "    </tr>\n",
       "    <tr>\n",
       "      <th>8</th>\n",
       "      <td>150</td>\n",
       "      <td>5</td>\n",
       "      <td>0.173931</td>\n",
       "    </tr>\n",
       "    <tr>\n",
       "      <th>17</th>\n",
       "      <td>200</td>\n",
       "      <td>8</td>\n",
       "      <td>0.173931</td>\n",
       "    </tr>\n",
       "  </tbody>\n",
       "</table>\n",
       "</div>"
      ],
      "text/plain": [
       "    n_estimators  min_samples_split     score\n",
       "16           200                  7  0.168320\n",
       "15           200                  6  0.170567\n",
       "10           150                  7  0.171665\n",
       "7            150                  4  0.171684\n",
       "3            100                  6  0.171690\n",
       "4            100                  7  0.172801\n",
       "11           150                  8  0.172808\n",
       "14           200                  5  0.172814\n",
       "8            150                  5  0.173931\n",
       "17           200                  8  0.173931"
      ]
     },
     "execution_count": 16,
     "metadata": {},
     "output_type": "execute_result"
    }
   ],
   "source": [
    "result3.sort_values(by = ['score']).head(10)"
   ]
  },
  {
   "cell_type": "markdown",
   "id": "94d99c81",
   "metadata": {
    "papermill": {
     "duration": 0.010212,
     "end_time": "2022-09-18T07:59:37.433755",
     "exception": false,
     "start_time": "2022-09-18T07:59:37.423543",
     "status": "completed"
    },
    "tags": []
   },
   "source": [
    "## Public scores in the Titanic competition\n",
    "Here are the scores i got using the best performance parameters in each case:\n",
    "- Case 1 - 0.76315\n",
    "- Case 2 - 0.77751\n",
    "- Case 3 - 0.78947"
   ]
  }
 ],
 "metadata": {
  "kernelspec": {
   "display_name": "Python 3",
   "language": "python",
   "name": "python3"
  },
  "language_info": {
   "codemirror_mode": {
    "name": "ipython",
    "version": 3
   },
   "file_extension": ".py",
   "mimetype": "text/x-python",
   "name": "python",
   "nbconvert_exporter": "python",
   "pygments_lexer": "ipython3",
   "version": "3.7.12"
  },
  "papermill": {
   "default_parameters": {},
   "duration": 95.961177,
   "end_time": "2022-09-18T07:59:38.267325",
   "environment_variables": {},
   "exception": null,
   "input_path": "__notebook__.ipynb",
   "output_path": "__notebook__.ipynb",
   "parameters": {},
   "start_time": "2022-09-18T07:58:02.306148",
   "version": "2.3.4"
  }
 },
 "nbformat": 4,
 "nbformat_minor": 5
}
