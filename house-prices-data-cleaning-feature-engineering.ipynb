{
 "cells": [
  {
   "cell_type": "markdown",
   "id": "3c6f67c1",
   "metadata": {
    "papermill": {
     "duration": 0.013175,
     "end_time": "2022-10-19T18:31:52.977606",
     "exception": false,
     "start_time": "2022-10-19T18:31:52.964431",
     "status": "completed"
    },
    "tags": []
   },
   "source": [
    "# Introduction\n",
    "The Housing Prices data seemed interesting to me because of the large number of features, so in this work I focused on data cleaning and feature engineering. Then i tested different feature sets on several models.\n",
    "\n",
    "I would like to know your opinion on how I can improve my future works. Enjoy reading!"
   ]
  },
  {
   "cell_type": "code",
   "execution_count": 1,
   "id": "de25beea",
   "metadata": {
    "execution": {
     "iopub.execute_input": "2022-10-19T18:31:53.004489Z",
     "iopub.status.busy": "2022-10-19T18:31:53.003899Z",
     "iopub.status.idle": "2022-10-19T18:31:53.101554Z",
     "shell.execute_reply": "2022-10-19T18:31:53.100257Z"
    },
    "papermill": {
     "duration": 0.114158,
     "end_time": "2022-10-19T18:31:53.104575",
     "exception": false,
     "start_time": "2022-10-19T18:31:52.990417",
     "status": "completed"
    },
    "tags": []
   },
   "outputs": [
    {
     "data": {
      "text/html": [
       "<div>\n",
       "<style scoped>\n",
       "    .dataframe tbody tr th:only-of-type {\n",
       "        vertical-align: middle;\n",
       "    }\n",
       "\n",
       "    .dataframe tbody tr th {\n",
       "        vertical-align: top;\n",
       "    }\n",
       "\n",
       "    .dataframe thead th {\n",
       "        text-align: right;\n",
       "    }\n",
       "</style>\n",
       "<table border=\"1\" class=\"dataframe\">\n",
       "  <thead>\n",
       "    <tr style=\"text-align: right;\">\n",
       "      <th></th>\n",
       "      <th>Id</th>\n",
       "      <th>MSSubClass</th>\n",
       "      <th>MSZoning</th>\n",
       "      <th>LotFrontage</th>\n",
       "      <th>LotArea</th>\n",
       "      <th>Street</th>\n",
       "      <th>Alley</th>\n",
       "      <th>LotShape</th>\n",
       "      <th>LandContour</th>\n",
       "      <th>Utilities</th>\n",
       "      <th>...</th>\n",
       "      <th>PoolArea</th>\n",
       "      <th>PoolQC</th>\n",
       "      <th>Fence</th>\n",
       "      <th>MiscFeature</th>\n",
       "      <th>MiscVal</th>\n",
       "      <th>MoSold</th>\n",
       "      <th>YrSold</th>\n",
       "      <th>SaleType</th>\n",
       "      <th>SaleCondition</th>\n",
       "      <th>SalePrice</th>\n",
       "    </tr>\n",
       "  </thead>\n",
       "  <tbody>\n",
       "    <tr>\n",
       "      <th>0</th>\n",
       "      <td>1</td>\n",
       "      <td>60</td>\n",
       "      <td>RL</td>\n",
       "      <td>65.0</td>\n",
       "      <td>8450</td>\n",
       "      <td>Pave</td>\n",
       "      <td>NaN</td>\n",
       "      <td>Reg</td>\n",
       "      <td>Lvl</td>\n",
       "      <td>AllPub</td>\n",
       "      <td>...</td>\n",
       "      <td>0</td>\n",
       "      <td>NaN</td>\n",
       "      <td>NaN</td>\n",
       "      <td>NaN</td>\n",
       "      <td>0</td>\n",
       "      <td>2</td>\n",
       "      <td>2008</td>\n",
       "      <td>WD</td>\n",
       "      <td>Normal</td>\n",
       "      <td>208500</td>\n",
       "    </tr>\n",
       "    <tr>\n",
       "      <th>1</th>\n",
       "      <td>2</td>\n",
       "      <td>20</td>\n",
       "      <td>RL</td>\n",
       "      <td>80.0</td>\n",
       "      <td>9600</td>\n",
       "      <td>Pave</td>\n",
       "      <td>NaN</td>\n",
       "      <td>Reg</td>\n",
       "      <td>Lvl</td>\n",
       "      <td>AllPub</td>\n",
       "      <td>...</td>\n",
       "      <td>0</td>\n",
       "      <td>NaN</td>\n",
       "      <td>NaN</td>\n",
       "      <td>NaN</td>\n",
       "      <td>0</td>\n",
       "      <td>5</td>\n",
       "      <td>2007</td>\n",
       "      <td>WD</td>\n",
       "      <td>Normal</td>\n",
       "      <td>181500</td>\n",
       "    </tr>\n",
       "    <tr>\n",
       "      <th>2</th>\n",
       "      <td>3</td>\n",
       "      <td>60</td>\n",
       "      <td>RL</td>\n",
       "      <td>68.0</td>\n",
       "      <td>11250</td>\n",
       "      <td>Pave</td>\n",
       "      <td>NaN</td>\n",
       "      <td>IR1</td>\n",
       "      <td>Lvl</td>\n",
       "      <td>AllPub</td>\n",
       "      <td>...</td>\n",
       "      <td>0</td>\n",
       "      <td>NaN</td>\n",
       "      <td>NaN</td>\n",
       "      <td>NaN</td>\n",
       "      <td>0</td>\n",
       "      <td>9</td>\n",
       "      <td>2008</td>\n",
       "      <td>WD</td>\n",
       "      <td>Normal</td>\n",
       "      <td>223500</td>\n",
       "    </tr>\n",
       "    <tr>\n",
       "      <th>3</th>\n",
       "      <td>4</td>\n",
       "      <td>70</td>\n",
       "      <td>RL</td>\n",
       "      <td>60.0</td>\n",
       "      <td>9550</td>\n",
       "      <td>Pave</td>\n",
       "      <td>NaN</td>\n",
       "      <td>IR1</td>\n",
       "      <td>Lvl</td>\n",
       "      <td>AllPub</td>\n",
       "      <td>...</td>\n",
       "      <td>0</td>\n",
       "      <td>NaN</td>\n",
       "      <td>NaN</td>\n",
       "      <td>NaN</td>\n",
       "      <td>0</td>\n",
       "      <td>2</td>\n",
       "      <td>2006</td>\n",
       "      <td>WD</td>\n",
       "      <td>Abnorml</td>\n",
       "      <td>140000</td>\n",
       "    </tr>\n",
       "    <tr>\n",
       "      <th>4</th>\n",
       "      <td>5</td>\n",
       "      <td>60</td>\n",
       "      <td>RL</td>\n",
       "      <td>84.0</td>\n",
       "      <td>14260</td>\n",
       "      <td>Pave</td>\n",
       "      <td>NaN</td>\n",
       "      <td>IR1</td>\n",
       "      <td>Lvl</td>\n",
       "      <td>AllPub</td>\n",
       "      <td>...</td>\n",
       "      <td>0</td>\n",
       "      <td>NaN</td>\n",
       "      <td>NaN</td>\n",
       "      <td>NaN</td>\n",
       "      <td>0</td>\n",
       "      <td>12</td>\n",
       "      <td>2008</td>\n",
       "      <td>WD</td>\n",
       "      <td>Normal</td>\n",
       "      <td>250000</td>\n",
       "    </tr>\n",
       "    <tr>\n",
       "      <th>...</th>\n",
       "      <td>...</td>\n",
       "      <td>...</td>\n",
       "      <td>...</td>\n",
       "      <td>...</td>\n",
       "      <td>...</td>\n",
       "      <td>...</td>\n",
       "      <td>...</td>\n",
       "      <td>...</td>\n",
       "      <td>...</td>\n",
       "      <td>...</td>\n",
       "      <td>...</td>\n",
       "      <td>...</td>\n",
       "      <td>...</td>\n",
       "      <td>...</td>\n",
       "      <td>...</td>\n",
       "      <td>...</td>\n",
       "      <td>...</td>\n",
       "      <td>...</td>\n",
       "      <td>...</td>\n",
       "      <td>...</td>\n",
       "      <td>...</td>\n",
       "    </tr>\n",
       "    <tr>\n",
       "      <th>1455</th>\n",
       "      <td>1456</td>\n",
       "      <td>60</td>\n",
       "      <td>RL</td>\n",
       "      <td>62.0</td>\n",
       "      <td>7917</td>\n",
       "      <td>Pave</td>\n",
       "      <td>NaN</td>\n",
       "      <td>Reg</td>\n",
       "      <td>Lvl</td>\n",
       "      <td>AllPub</td>\n",
       "      <td>...</td>\n",
       "      <td>0</td>\n",
       "      <td>NaN</td>\n",
       "      <td>NaN</td>\n",
       "      <td>NaN</td>\n",
       "      <td>0</td>\n",
       "      <td>8</td>\n",
       "      <td>2007</td>\n",
       "      <td>WD</td>\n",
       "      <td>Normal</td>\n",
       "      <td>175000</td>\n",
       "    </tr>\n",
       "    <tr>\n",
       "      <th>1456</th>\n",
       "      <td>1457</td>\n",
       "      <td>20</td>\n",
       "      <td>RL</td>\n",
       "      <td>85.0</td>\n",
       "      <td>13175</td>\n",
       "      <td>Pave</td>\n",
       "      <td>NaN</td>\n",
       "      <td>Reg</td>\n",
       "      <td>Lvl</td>\n",
       "      <td>AllPub</td>\n",
       "      <td>...</td>\n",
       "      <td>0</td>\n",
       "      <td>NaN</td>\n",
       "      <td>MnPrv</td>\n",
       "      <td>NaN</td>\n",
       "      <td>0</td>\n",
       "      <td>2</td>\n",
       "      <td>2010</td>\n",
       "      <td>WD</td>\n",
       "      <td>Normal</td>\n",
       "      <td>210000</td>\n",
       "    </tr>\n",
       "    <tr>\n",
       "      <th>1457</th>\n",
       "      <td>1458</td>\n",
       "      <td>70</td>\n",
       "      <td>RL</td>\n",
       "      <td>66.0</td>\n",
       "      <td>9042</td>\n",
       "      <td>Pave</td>\n",
       "      <td>NaN</td>\n",
       "      <td>Reg</td>\n",
       "      <td>Lvl</td>\n",
       "      <td>AllPub</td>\n",
       "      <td>...</td>\n",
       "      <td>0</td>\n",
       "      <td>NaN</td>\n",
       "      <td>GdPrv</td>\n",
       "      <td>Shed</td>\n",
       "      <td>2500</td>\n",
       "      <td>5</td>\n",
       "      <td>2010</td>\n",
       "      <td>WD</td>\n",
       "      <td>Normal</td>\n",
       "      <td>266500</td>\n",
       "    </tr>\n",
       "    <tr>\n",
       "      <th>1458</th>\n",
       "      <td>1459</td>\n",
       "      <td>20</td>\n",
       "      <td>RL</td>\n",
       "      <td>68.0</td>\n",
       "      <td>9717</td>\n",
       "      <td>Pave</td>\n",
       "      <td>NaN</td>\n",
       "      <td>Reg</td>\n",
       "      <td>Lvl</td>\n",
       "      <td>AllPub</td>\n",
       "      <td>...</td>\n",
       "      <td>0</td>\n",
       "      <td>NaN</td>\n",
       "      <td>NaN</td>\n",
       "      <td>NaN</td>\n",
       "      <td>0</td>\n",
       "      <td>4</td>\n",
       "      <td>2010</td>\n",
       "      <td>WD</td>\n",
       "      <td>Normal</td>\n",
       "      <td>142125</td>\n",
       "    </tr>\n",
       "    <tr>\n",
       "      <th>1459</th>\n",
       "      <td>1460</td>\n",
       "      <td>20</td>\n",
       "      <td>RL</td>\n",
       "      <td>75.0</td>\n",
       "      <td>9937</td>\n",
       "      <td>Pave</td>\n",
       "      <td>NaN</td>\n",
       "      <td>Reg</td>\n",
       "      <td>Lvl</td>\n",
       "      <td>AllPub</td>\n",
       "      <td>...</td>\n",
       "      <td>0</td>\n",
       "      <td>NaN</td>\n",
       "      <td>NaN</td>\n",
       "      <td>NaN</td>\n",
       "      <td>0</td>\n",
       "      <td>6</td>\n",
       "      <td>2008</td>\n",
       "      <td>WD</td>\n",
       "      <td>Normal</td>\n",
       "      <td>147500</td>\n",
       "    </tr>\n",
       "  </tbody>\n",
       "</table>\n",
       "<p>1460 rows × 81 columns</p>\n",
       "</div>"
      ],
      "text/plain": [
       "        Id  MSSubClass MSZoning  LotFrontage  LotArea Street Alley LotShape  \\\n",
       "0        1          60       RL         65.0     8450   Pave   NaN      Reg   \n",
       "1        2          20       RL         80.0     9600   Pave   NaN      Reg   \n",
       "2        3          60       RL         68.0    11250   Pave   NaN      IR1   \n",
       "3        4          70       RL         60.0     9550   Pave   NaN      IR1   \n",
       "4        5          60       RL         84.0    14260   Pave   NaN      IR1   \n",
       "...    ...         ...      ...          ...      ...    ...   ...      ...   \n",
       "1455  1456          60       RL         62.0     7917   Pave   NaN      Reg   \n",
       "1456  1457          20       RL         85.0    13175   Pave   NaN      Reg   \n",
       "1457  1458          70       RL         66.0     9042   Pave   NaN      Reg   \n",
       "1458  1459          20       RL         68.0     9717   Pave   NaN      Reg   \n",
       "1459  1460          20       RL         75.0     9937   Pave   NaN      Reg   \n",
       "\n",
       "     LandContour Utilities  ... PoolArea PoolQC  Fence MiscFeature MiscVal  \\\n",
       "0            Lvl    AllPub  ...        0    NaN    NaN         NaN       0   \n",
       "1            Lvl    AllPub  ...        0    NaN    NaN         NaN       0   \n",
       "2            Lvl    AllPub  ...        0    NaN    NaN         NaN       0   \n",
       "3            Lvl    AllPub  ...        0    NaN    NaN         NaN       0   \n",
       "4            Lvl    AllPub  ...        0    NaN    NaN         NaN       0   \n",
       "...          ...       ...  ...      ...    ...    ...         ...     ...   \n",
       "1455         Lvl    AllPub  ...        0    NaN    NaN         NaN       0   \n",
       "1456         Lvl    AllPub  ...        0    NaN  MnPrv         NaN       0   \n",
       "1457         Lvl    AllPub  ...        0    NaN  GdPrv        Shed    2500   \n",
       "1458         Lvl    AllPub  ...        0    NaN    NaN         NaN       0   \n",
       "1459         Lvl    AllPub  ...        0    NaN    NaN         NaN       0   \n",
       "\n",
       "     MoSold YrSold  SaleType  SaleCondition  SalePrice  \n",
       "0         2   2008        WD         Normal     208500  \n",
       "1         5   2007        WD         Normal     181500  \n",
       "2         9   2008        WD         Normal     223500  \n",
       "3         2   2006        WD        Abnorml     140000  \n",
       "4        12   2008        WD         Normal     250000  \n",
       "...     ...    ...       ...            ...        ...  \n",
       "1455      8   2007        WD         Normal     175000  \n",
       "1456      2   2010        WD         Normal     210000  \n",
       "1457      5   2010        WD         Normal     266500  \n",
       "1458      4   2010        WD         Normal     142125  \n",
       "1459      6   2008        WD         Normal     147500  \n",
       "\n",
       "[1460 rows x 81 columns]"
      ]
     },
     "execution_count": 1,
     "metadata": {},
     "output_type": "execute_result"
    }
   ],
   "source": [
    "import numpy as np\n",
    "import pandas as pd\n",
    "\n",
    "train = pd.read_csv('../input/house-prices-advanced-regression-techniques/train.csv')\n",
    "train_df = train.copy()\n",
    "\n",
    "train"
   ]
  },
  {
   "cell_type": "markdown",
   "id": "f21057eb",
   "metadata": {
    "papermill": {
     "duration": 0.012233,
     "end_time": "2022-10-19T18:31:53.130941",
     "exception": false,
     "start_time": "2022-10-19T18:31:53.118708",
     "status": "completed"
    },
    "tags": []
   },
   "source": [
    "# Data cleaning\n",
    "## Missing values"
   ]
  },
  {
   "cell_type": "markdown",
   "id": "099c5aa1",
   "metadata": {
    "papermill": {
     "duration": 0.012182,
     "end_time": "2022-10-19T18:31:53.155510",
     "exception": false,
     "start_time": "2022-10-19T18:31:53.143328",
     "status": "completed"
    },
    "tags": []
   },
   "source": [
    "Explore columns that have missing values."
   ]
  },
  {
   "cell_type": "code",
   "execution_count": 2,
   "id": "917f8181",
   "metadata": {
    "execution": {
     "iopub.execute_input": "2022-10-19T18:31:53.182289Z",
     "iopub.status.busy": "2022-10-19T18:31:53.181878Z",
     "iopub.status.idle": "2022-10-19T18:31:53.209287Z",
     "shell.execute_reply": "2022-10-19T18:31:53.208180Z"
    },
    "papermill": {
     "duration": 0.043731,
     "end_time": "2022-10-19T18:31:53.211571",
     "exception": false,
     "start_time": "2022-10-19T18:31:53.167840",
     "status": "completed"
    },
    "tags": []
   },
   "outputs": [
    {
     "data": {
      "text/html": [
       "<div>\n",
       "<style scoped>\n",
       "    .dataframe tbody tr th:only-of-type {\n",
       "        vertical-align: middle;\n",
       "    }\n",
       "\n",
       "    .dataframe tbody tr th {\n",
       "        vertical-align: top;\n",
       "    }\n",
       "\n",
       "    .dataframe thead th {\n",
       "        text-align: right;\n",
       "    }\n",
       "</style>\n",
       "<table border=\"1\" class=\"dataframe\">\n",
       "  <thead>\n",
       "    <tr style=\"text-align: right;\">\n",
       "      <th></th>\n",
       "      <th>NaN_count</th>\n",
       "      <th>NaN_percentage</th>\n",
       "    </tr>\n",
       "  </thead>\n",
       "  <tbody>\n",
       "    <tr>\n",
       "      <th>PoolQC</th>\n",
       "      <td>1453</td>\n",
       "      <td>0.995205</td>\n",
       "    </tr>\n",
       "    <tr>\n",
       "      <th>MiscFeature</th>\n",
       "      <td>1406</td>\n",
       "      <td>0.963014</td>\n",
       "    </tr>\n",
       "    <tr>\n",
       "      <th>Alley</th>\n",
       "      <td>1369</td>\n",
       "      <td>0.937671</td>\n",
       "    </tr>\n",
       "    <tr>\n",
       "      <th>Fence</th>\n",
       "      <td>1179</td>\n",
       "      <td>0.807534</td>\n",
       "    </tr>\n",
       "    <tr>\n",
       "      <th>FireplaceQu</th>\n",
       "      <td>690</td>\n",
       "      <td>0.472603</td>\n",
       "    </tr>\n",
       "    <tr>\n",
       "      <th>LotFrontage</th>\n",
       "      <td>259</td>\n",
       "      <td>0.177397</td>\n",
       "    </tr>\n",
       "    <tr>\n",
       "      <th>GarageType</th>\n",
       "      <td>81</td>\n",
       "      <td>0.055479</td>\n",
       "    </tr>\n",
       "    <tr>\n",
       "      <th>GarageYrBlt</th>\n",
       "      <td>81</td>\n",
       "      <td>0.055479</td>\n",
       "    </tr>\n",
       "    <tr>\n",
       "      <th>GarageFinish</th>\n",
       "      <td>81</td>\n",
       "      <td>0.055479</td>\n",
       "    </tr>\n",
       "    <tr>\n",
       "      <th>GarageQual</th>\n",
       "      <td>81</td>\n",
       "      <td>0.055479</td>\n",
       "    </tr>\n",
       "    <tr>\n",
       "      <th>GarageCond</th>\n",
       "      <td>81</td>\n",
       "      <td>0.055479</td>\n",
       "    </tr>\n",
       "    <tr>\n",
       "      <th>BsmtExposure</th>\n",
       "      <td>38</td>\n",
       "      <td>0.026027</td>\n",
       "    </tr>\n",
       "    <tr>\n",
       "      <th>BsmtFinType2</th>\n",
       "      <td>38</td>\n",
       "      <td>0.026027</td>\n",
       "    </tr>\n",
       "    <tr>\n",
       "      <th>BsmtFinType1</th>\n",
       "      <td>37</td>\n",
       "      <td>0.025342</td>\n",
       "    </tr>\n",
       "    <tr>\n",
       "      <th>BsmtCond</th>\n",
       "      <td>37</td>\n",
       "      <td>0.025342</td>\n",
       "    </tr>\n",
       "    <tr>\n",
       "      <th>BsmtQual</th>\n",
       "      <td>37</td>\n",
       "      <td>0.025342</td>\n",
       "    </tr>\n",
       "    <tr>\n",
       "      <th>MasVnrArea</th>\n",
       "      <td>8</td>\n",
       "      <td>0.005479</td>\n",
       "    </tr>\n",
       "    <tr>\n",
       "      <th>MasVnrType</th>\n",
       "      <td>8</td>\n",
       "      <td>0.005479</td>\n",
       "    </tr>\n",
       "    <tr>\n",
       "      <th>Electrical</th>\n",
       "      <td>1</td>\n",
       "      <td>0.000685</td>\n",
       "    </tr>\n",
       "  </tbody>\n",
       "</table>\n",
       "</div>"
      ],
      "text/plain": [
       "              NaN_count  NaN_percentage\n",
       "PoolQC             1453        0.995205\n",
       "MiscFeature        1406        0.963014\n",
       "Alley              1369        0.937671\n",
       "Fence              1179        0.807534\n",
       "FireplaceQu         690        0.472603\n",
       "LotFrontage         259        0.177397\n",
       "GarageType           81        0.055479\n",
       "GarageYrBlt          81        0.055479\n",
       "GarageFinish         81        0.055479\n",
       "GarageQual           81        0.055479\n",
       "GarageCond           81        0.055479\n",
       "BsmtExposure         38        0.026027\n",
       "BsmtFinType2         38        0.026027\n",
       "BsmtFinType1         37        0.025342\n",
       "BsmtCond             37        0.025342\n",
       "BsmtQual             37        0.025342\n",
       "MasVnrArea            8        0.005479\n",
       "MasVnrType            8        0.005479\n",
       "Electrical            1        0.000685"
      ]
     },
     "execution_count": 2,
     "metadata": {},
     "output_type": "execute_result"
    }
   ],
   "source": [
    "missing = train_df.isnull().sum()[train_df.isnull().sum() > 0]\n",
    "missing_df = pd.DataFrame({'NaN_count': missing, 'NaN_percentage': missing / len(train_df)}).sort_values(by = 'NaN_percentage', ascending = False)\n",
    "missing_df"
   ]
  },
  {
   "cell_type": "markdown",
   "id": "19c44e6c",
   "metadata": {
    "papermill": {
     "duration": 0.012073,
     "end_time": "2022-10-19T18:31:53.236330",
     "exception": false,
     "start_time": "2022-10-19T18:31:53.224257",
     "status": "completed"
    },
    "tags": []
   },
   "source": [
    "Drop **Id** and columns that are missing too many values."
   ]
  },
  {
   "cell_type": "code",
   "execution_count": 3,
   "id": "8fdb580d",
   "metadata": {
    "execution": {
     "iopub.execute_input": "2022-10-19T18:31:53.263101Z",
     "iopub.status.busy": "2022-10-19T18:31:53.262387Z",
     "iopub.status.idle": "2022-10-19T18:31:53.271691Z",
     "shell.execute_reply": "2022-10-19T18:31:53.270577Z"
    },
    "papermill": {
     "duration": 0.025353,
     "end_time": "2022-10-19T18:31:53.274035",
     "exception": false,
     "start_time": "2022-10-19T18:31:53.248682",
     "status": "completed"
    },
    "tags": []
   },
   "outputs": [],
   "source": [
    "train_df = train_df.drop(columns = ['Id', 'PoolQC', 'MiscFeature', 'Alley', 'Fence', 'FireplaceQu'])"
   ]
  },
  {
   "cell_type": "markdown",
   "id": "2c8914c7",
   "metadata": {
    "papermill": {
     "duration": 0.012162,
     "end_time": "2022-10-19T18:31:53.298693",
     "exception": false,
     "start_time": "2022-10-19T18:31:53.286531",
     "status": "completed"
    },
    "tags": []
   },
   "source": [
    "Fill in the missing values of the remaining numerical columns."
   ]
  },
  {
   "cell_type": "code",
   "execution_count": 4,
   "id": "7ca27620",
   "metadata": {
    "execution": {
     "iopub.execute_input": "2022-10-19T18:31:53.325371Z",
     "iopub.status.busy": "2022-10-19T18:31:53.324922Z",
     "iopub.status.idle": "2022-10-19T18:31:53.337951Z",
     "shell.execute_reply": "2022-10-19T18:31:53.336730Z"
    },
    "papermill": {
     "duration": 0.029705,
     "end_time": "2022-10-19T18:31:53.340861",
     "exception": false,
     "start_time": "2022-10-19T18:31:53.311156",
     "status": "completed"
    },
    "tags": []
   },
   "outputs": [],
   "source": [
    "train_df['LotFrontage'] = train_df['LotFrontage'].fillna(train_df['LotFrontage'].mean())\n",
    "train_df['MasVnrArea'] = train_df['MasVnrArea'].fillna(train_df['MasVnrArea'].mean())\n",
    "train_df['GarageYrBlt'] = train_df['GarageYrBlt'].fillna(train_df['GarageYrBlt'].mode()[0])"
   ]
  },
  {
   "cell_type": "markdown",
   "id": "52f1a6d7",
   "metadata": {
    "papermill": {
     "duration": 0.015316,
     "end_time": "2022-10-19T18:31:53.374419",
     "exception": false,
     "start_time": "2022-10-19T18:31:53.359103",
     "status": "completed"
    },
    "tags": []
   },
   "source": [
    "Fill in the missing values of the remaining categorical columns."
   ]
  },
  {
   "cell_type": "code",
   "execution_count": 5,
   "id": "acf2e765",
   "metadata": {
    "execution": {
     "iopub.execute_input": "2022-10-19T18:31:53.407431Z",
     "iopub.status.busy": "2022-10-19T18:31:53.406640Z",
     "iopub.status.idle": "2022-10-19T18:31:53.424375Z",
     "shell.execute_reply": "2022-10-19T18:31:53.423027Z"
    },
    "papermill": {
     "duration": 0.038597,
     "end_time": "2022-10-19T18:31:53.426878",
     "exception": false,
     "start_time": "2022-10-19T18:31:53.388281",
     "status": "completed"
    },
    "tags": []
   },
   "outputs": [],
   "source": [
    "missing_useless = ['PoolQC', 'MiscFeature', 'Alley', 'Fence', 'FireplaceQu', 'LotFrontage', 'MasVnrArea', 'GarageYrBlt']\n",
    "missing_df = missing_df.drop(missing_useless)\n",
    "\n",
    "for feature in missing_df.index:\n",
    "    train_df[feature] = train_df[feature].fillna(train_df[feature].mode()[0])"
   ]
  },
  {
   "cell_type": "markdown",
   "id": "ba006ae3",
   "metadata": {
    "papermill": {
     "duration": 0.012825,
     "end_time": "2022-10-19T18:31:53.452403",
     "exception": false,
     "start_time": "2022-10-19T18:31:53.439578",
     "status": "completed"
    },
    "tags": []
   },
   "source": [
    "## Outliers\n",
    "Separate numerical and categorical features."
   ]
  },
  {
   "cell_type": "code",
   "execution_count": 6,
   "id": "788b20c9",
   "metadata": {
    "execution": {
     "iopub.execute_input": "2022-10-19T18:31:53.478826Z",
     "iopub.status.busy": "2022-10-19T18:31:53.478360Z",
     "iopub.status.idle": "2022-10-19T18:31:53.494476Z",
     "shell.execute_reply": "2022-10-19T18:31:53.492974Z"
    },
    "papermill": {
     "duration": 0.032613,
     "end_time": "2022-10-19T18:31:53.497462",
     "exception": false,
     "start_time": "2022-10-19T18:31:53.464849",
     "status": "completed"
    },
    "tags": []
   },
   "outputs": [
    {
     "name": "stdout",
     "output_type": "stream",
     "text": [
      "Number of numerical columns: 36\n",
      "Number of categorical columns: 38\n"
     ]
    }
   ],
   "source": [
    "y = train_df['SalePrice'].copy()\n",
    "train_df = train_df.drop(columns = 'SalePrice')\n",
    "\n",
    "num_cols = [i for i in train_df.columns if train_df[i].dtype in ['int', 'float']]\n",
    "cat_cols = [i for i in train_df.columns if train_df[i].dtype == 'object']\n",
    "\n",
    "print('Number of numerical columns:', len(num_cols))\n",
    "print('Number of categorical columns:', len(cat_cols))"
   ]
  },
  {
   "cell_type": "markdown",
   "id": "d725958c",
   "metadata": {
    "papermill": {
     "duration": 0.012089,
     "end_time": "2022-10-19T18:31:53.522134",
     "exception": false,
     "start_time": "2022-10-19T18:31:53.510045",
     "status": "completed"
    },
    "tags": []
   },
   "source": [
    "Plot the numerical features."
   ]
  },
  {
   "cell_type": "code",
   "execution_count": 7,
   "id": "d9d7bb79",
   "metadata": {
    "execution": {
     "iopub.execute_input": "2022-10-19T18:31:53.548540Z",
     "iopub.status.busy": "2022-10-19T18:31:53.548122Z",
     "iopub.status.idle": "2022-10-19T18:32:02.080232Z",
     "shell.execute_reply": "2022-10-19T18:32:02.078863Z"
    },
    "papermill": {
     "duration": 8.550614,
     "end_time": "2022-10-19T18:32:02.085058",
     "exception": false,
     "start_time": "2022-10-19T18:31:53.534444",
     "status": "completed"
    },
    "tags": []
   },
   "outputs": [
    {
     "data": {
      "image/png": "[encoded data removed]",
      "text/plain": [
       "<Figure size 1440x3600 with 36 Axes>"
      ]
     },
     "metadata": {
      "needs_background": "light"
     },
     "output_type": "display_data"
    }
   ],
   "source": [
    "import matplotlib.pyplot as plt\n",
    "import seaborn as sns\n",
    " \n",
    "fig, ax = plt.subplots(12, 3, figsize = (20, 50))\n",
    "c = 0\n",
    "for i in range(12):\n",
    "    for j in range(3):\n",
    "        if c == 36:\n",
    "            break\n",
    "        sns.histplot(x = train_df[num_cols[c]], ax = ax[i, j])\n",
    "        c += 1\n",
    "plt.show()"
   ]
  },
  {
   "cell_type": "markdown",
   "id": "5a974b4c",
   "metadata": {
    "papermill": {
     "duration": 0.015164,
     "end_time": "2022-10-19T18:32:02.116006",
     "exception": false,
     "start_time": "2022-10-19T18:32:02.100842",
     "status": "completed"
    },
    "tags": []
   },
   "source": [
    "Explore the features."
   ]
  },
  {
   "cell_type": "code",
   "execution_count": 8,
   "id": "1d3893c6",
   "metadata": {
    "execution": {
     "iopub.execute_input": "2022-10-19T18:32:02.149567Z",
     "iopub.status.busy": "2022-10-19T18:32:02.148448Z",
     "iopub.status.idle": "2022-10-19T18:32:02.315001Z",
     "shell.execute_reply": "2022-10-19T18:32:02.313703Z"
    },
    "papermill": {
     "duration": 0.186166,
     "end_time": "2022-10-19T18:32:02.317699",
     "exception": false,
     "start_time": "2022-10-19T18:32:02.131533",
     "status": "completed"
    },
    "tags": []
   },
   "outputs": [
    {
     "data": {
      "text/html": [
       "<div>\n",
       "<style scoped>\n",
       "    .dataframe tbody tr th:only-of-type {\n",
       "        vertical-align: middle;\n",
       "    }\n",
       "\n",
       "    .dataframe tbody tr th {\n",
       "        vertical-align: top;\n",
       "    }\n",
       "\n",
       "    .dataframe thead th {\n",
       "        text-align: right;\n",
       "    }\n",
       "</style>\n",
       "<table border=\"1\" class=\"dataframe\">\n",
       "  <thead>\n",
       "    <tr style=\"text-align: right;\">\n",
       "      <th></th>\n",
       "      <th>Max/0.99</th>\n",
       "      <th>N_unique</th>\n",
       "      <th>Has_outlier</th>\n",
       "    </tr>\n",
       "  </thead>\n",
       "  <tbody>\n",
       "    <tr>\n",
       "      <th>MiscVal</th>\n",
       "      <td>22.142857</td>\n",
       "      <td>21</td>\n",
       "      <td>True</td>\n",
       "    </tr>\n",
       "    <tr>\n",
       "      <th>LotArea</th>\n",
       "      <td>5.729532</td>\n",
       "      <td>1073</td>\n",
       "      <td>True</td>\n",
       "    </tr>\n",
       "    <tr>\n",
       "      <th>BsmtFinSF1</th>\n",
       "      <td>3.589395</td>\n",
       "      <td>637</td>\n",
       "      <td>True</td>\n",
       "    </tr>\n",
       "    <tr>\n",
       "      <th>3SsnPorch</th>\n",
       "      <td>3.023810</td>\n",
       "      <td>20</td>\n",
       "      <td>True</td>\n",
       "    </tr>\n",
       "    <tr>\n",
       "      <th>TotalBsmtSF</th>\n",
       "      <td>2.835201</td>\n",
       "      <td>721</td>\n",
       "      <td>True</td>\n",
       "    </tr>\n",
       "    <tr>\n",
       "      <th>LotFrontage</th>\n",
       "      <td>2.277855</td>\n",
       "      <td>111</td>\n",
       "      <td>True</td>\n",
       "    </tr>\n",
       "    <tr>\n",
       "      <th>EnclosedPorch</th>\n",
       "      <td>2.114537</td>\n",
       "      <td>120</td>\n",
       "      <td>True</td>\n",
       "    </tr>\n",
       "    <tr>\n",
       "      <th>1stFlrSF</th>\n",
       "      <td>2.114028</td>\n",
       "      <td>753</td>\n",
       "      <td>True</td>\n",
       "    </tr>\n",
       "    <tr>\n",
       "      <th>MasVnrArea</th>\n",
       "      <td>2.022040</td>\n",
       "      <td>328</td>\n",
       "      <td>True</td>\n",
       "    </tr>\n",
       "    <tr>\n",
       "      <th>HalfBath</th>\n",
       "      <td>2.000000</td>\n",
       "      <td>3</td>\n",
       "      <td>False</td>\n",
       "    </tr>\n",
       "    <tr>\n",
       "      <th>BsmtHalfBath</th>\n",
       "      <td>2.000000</td>\n",
       "      <td>3</td>\n",
       "      <td>True</td>\n",
       "    </tr>\n",
       "    <tr>\n",
       "      <th>OpenPorchSF</th>\n",
       "      <td>1.913792</td>\n",
       "      <td>202</td>\n",
       "      <td>True</td>\n",
       "    </tr>\n",
       "    <tr>\n",
       "      <th>GrLivArea</th>\n",
       "      <td>1.806319</td>\n",
       "      <td>861</td>\n",
       "      <td>True</td>\n",
       "    </tr>\n",
       "    <tr>\n",
       "      <th>ScreenPorch</th>\n",
       "      <td>1.790711</td>\n",
       "      <td>76</td>\n",
       "      <td>True</td>\n",
       "    </tr>\n",
       "    <tr>\n",
       "      <th>BsmtFinSF2</th>\n",
       "      <td>1.775091</td>\n",
       "      <td>144</td>\n",
       "      <td>True</td>\n",
       "    </tr>\n",
       "    <tr>\n",
       "      <th>WoodDeckSF</th>\n",
       "      <td>1.695485</td>\n",
       "      <td>274</td>\n",
       "      <td>True</td>\n",
       "    </tr>\n",
       "    <tr>\n",
       "      <th>BedroomAbvGr</th>\n",
       "      <td>1.600000</td>\n",
       "      <td>8</td>\n",
       "      <td>True</td>\n",
       "    </tr>\n",
       "    <tr>\n",
       "      <th>LowQualFinSF</th>\n",
       "      <td>1.588889</td>\n",
       "      <td>24</td>\n",
       "      <td>True</td>\n",
       "    </tr>\n",
       "    <tr>\n",
       "      <th>BsmtFullBath</th>\n",
       "      <td>1.500000</td>\n",
       "      <td>4</td>\n",
       "      <td>True</td>\n",
       "    </tr>\n",
       "    <tr>\n",
       "      <th>KitchenAbvGr</th>\n",
       "      <td>1.500000</td>\n",
       "      <td>4</td>\n",
       "      <td>True</td>\n",
       "    </tr>\n",
       "    <tr>\n",
       "      <th>Fireplaces</th>\n",
       "      <td>1.500000</td>\n",
       "      <td>4</td>\n",
       "      <td>True</td>\n",
       "    </tr>\n",
       "    <tr>\n",
       "      <th>2ndFlrSF</th>\n",
       "      <td>1.455332</td>\n",
       "      <td>417</td>\n",
       "      <td>True</td>\n",
       "    </tr>\n",
       "    <tr>\n",
       "      <th>GarageArea</th>\n",
       "      <td>1.414055</td>\n",
       "      <td>441</td>\n",
       "      <td>True</td>\n",
       "    </tr>\n",
       "    <tr>\n",
       "      <th>GarageCars</th>\n",
       "      <td>1.333333</td>\n",
       "      <td>5</td>\n",
       "      <td>True</td>\n",
       "    </tr>\n",
       "    <tr>\n",
       "      <th>BsmtUnfSF</th>\n",
       "      <td>1.299908</td>\n",
       "      <td>780</td>\n",
       "      <td>True</td>\n",
       "    </tr>\n",
       "    <tr>\n",
       "      <th>TotRmsAbvGrd</th>\n",
       "      <td>1.272727</td>\n",
       "      <td>12</td>\n",
       "      <td>True</td>\n",
       "    </tr>\n",
       "    <tr>\n",
       "      <th>YearBuilt</th>\n",
       "      <td>1.000498</td>\n",
       "      <td>112</td>\n",
       "      <td>False</td>\n",
       "    </tr>\n",
       "    <tr>\n",
       "      <th>YearRemodAdd</th>\n",
       "      <td>1.000498</td>\n",
       "      <td>61</td>\n",
       "      <td>False</td>\n",
       "    </tr>\n",
       "    <tr>\n",
       "      <th>GarageYrBlt</th>\n",
       "      <td>1.000498</td>\n",
       "      <td>97</td>\n",
       "      <td>False</td>\n",
       "    </tr>\n",
       "    <tr>\n",
       "      <th>MoSold</th>\n",
       "      <td>1.000000</td>\n",
       "      <td>12</td>\n",
       "      <td>False</td>\n",
       "    </tr>\n",
       "    <tr>\n",
       "      <th>MSSubClass</th>\n",
       "      <td>1.000000</td>\n",
       "      <td>15</td>\n",
       "      <td>True</td>\n",
       "    </tr>\n",
       "    <tr>\n",
       "      <th>FullBath</th>\n",
       "      <td>1.000000</td>\n",
       "      <td>4</td>\n",
       "      <td>False</td>\n",
       "    </tr>\n",
       "    <tr>\n",
       "      <th>OverallCond</th>\n",
       "      <td>1.000000</td>\n",
       "      <td>9</td>\n",
       "      <td>True</td>\n",
       "    </tr>\n",
       "    <tr>\n",
       "      <th>OverallQual</th>\n",
       "      <td>1.000000</td>\n",
       "      <td>10</td>\n",
       "      <td>False</td>\n",
       "    </tr>\n",
       "    <tr>\n",
       "      <th>YrSold</th>\n",
       "      <td>1.000000</td>\n",
       "      <td>5</td>\n",
       "      <td>False</td>\n",
       "    </tr>\n",
       "  </tbody>\n",
       "</table>\n",
       "</div>"
      ],
      "text/plain": [
       "                Max/0.99  N_unique  Has_outlier\n",
       "MiscVal        22.142857        21         True\n",
       "LotArea         5.729532      1073         True\n",
       "BsmtFinSF1      3.589395       637         True\n",
       "3SsnPorch       3.023810        20         True\n",
       "TotalBsmtSF     2.835201       721         True\n",
       "LotFrontage     2.277855       111         True\n",
       "EnclosedPorch   2.114537       120         True\n",
       "1stFlrSF        2.114028       753         True\n",
       "MasVnrArea      2.022040       328         True\n",
       "HalfBath        2.000000         3        False\n",
       "BsmtHalfBath    2.000000         3         True\n",
       "OpenPorchSF     1.913792       202         True\n",
       "GrLivArea       1.806319       861         True\n",
       "ScreenPorch     1.790711        76         True\n",
       "BsmtFinSF2      1.775091       144         True\n",
       "WoodDeckSF      1.695485       274         True\n",
       "BedroomAbvGr    1.600000         8         True\n",
       "LowQualFinSF    1.588889        24         True\n",
       "BsmtFullBath    1.500000         4         True\n",
       "KitchenAbvGr    1.500000         4         True\n",
       "Fireplaces      1.500000         4         True\n",
       "2ndFlrSF        1.455332       417         True\n",
       "GarageArea      1.414055       441         True\n",
       "GarageCars      1.333333         5         True\n",
       "BsmtUnfSF       1.299908       780         True\n",
       "TotRmsAbvGrd    1.272727        12         True\n",
       "YearBuilt       1.000498       112        False\n",
       "YearRemodAdd    1.000498        61        False\n",
       "GarageYrBlt     1.000498        97        False\n",
       "MoSold          1.000000        12        False\n",
       "MSSubClass      1.000000        15         True\n",
       "FullBath        1.000000         4        False\n",
       "OverallCond     1.000000         9         True\n",
       "OverallQual     1.000000        10        False\n",
       "YrSold          1.000000         5        False"
      ]
     },
     "execution_count": 8,
     "metadata": {},
     "output_type": "execute_result"
    }
   ],
   "source": [
    "cls_outlier = [i for i in num_cols if train_df[i].quantile(0.99) != 0]\n",
    "vls_outlier = [train_df[i].max() / train_df[i].quantile(0.99) for i in cls_outlier]\n",
    "unq_outlier = [train_df[i].nunique() for i in cls_outlier]\n",
    "has_outlier = [train_df[i].max() - train_df[i].quantile(0.75) > 1.5 * (train_df[i].quantile(0.75) - train_df[i].quantile(0.25)) for i in cls_outlier]\n",
    "\n",
    "df_outlier = pd.DataFrame({'Max/0.99': vls_outlier, 'N_unique': unq_outlier, 'Has_outlier': has_outlier}, index = cls_outlier)\n",
    "df_outlier.sort_values(by = 'Max/0.99', ascending = False)"
   ]
  },
  {
   "cell_type": "markdown",
   "id": "270bf306",
   "metadata": {
    "papermill": {
     "duration": 0.015579,
     "end_time": "2022-10-19T18:32:02.349317",
     "exception": false,
     "start_time": "2022-10-19T18:32:02.333738",
     "status": "completed"
    },
    "tags": []
   },
   "source": [
    "Change the values of features that have outliers."
   ]
  },
  {
   "cell_type": "code",
   "execution_count": 9,
   "id": "59713ac1",
   "metadata": {
    "execution": {
     "iopub.execute_input": "2022-10-19T18:32:02.383859Z",
     "iopub.status.busy": "2022-10-19T18:32:02.382810Z",
     "iopub.status.idle": "2022-10-19T18:32:02.416384Z",
     "shell.execute_reply": "2022-10-19T18:32:02.415055Z"
    },
    "papermill": {
     "duration": 0.053589,
     "end_time": "2022-10-19T18:32:02.419186",
     "exception": false,
     "start_time": "2022-10-19T18:32:02.365597",
     "status": "completed"
    },
    "tags": []
   },
   "outputs": [],
   "source": [
    "outlier_cols = [i for i in df_outlier.index if df_outlier.loc[i, 'N_unique'] > 350 and df_outlier.loc[i, 'Has_outlier']]\n",
    "\n",
    "for col in outlier_cols:\n",
    "    up_ext = train_df[col].quantile(0.75) + 1.5 * (train_df[col].quantile(0.75) - train_df[col].quantile(0.25))\n",
    "    train_df[col] *= up_ext / train_df[col].max()"
   ]
  },
  {
   "cell_type": "markdown",
   "id": "d26ff155",
   "metadata": {
    "papermill": {
     "duration": 0.01588,
     "end_time": "2022-10-19T18:32:02.451577",
     "exception": false,
     "start_time": "2022-10-19T18:32:02.435697",
     "status": "completed"
    },
    "tags": []
   },
   "source": [
    "## Uninformative features\n",
    "Plot the number of unique values for each categorical feature."
   ]
  },
  {
   "cell_type": "code",
   "execution_count": 10,
   "id": "399732e5",
   "metadata": {
    "execution": {
     "iopub.execute_input": "2022-10-19T18:32:02.485632Z",
     "iopub.status.busy": "2022-10-19T18:32:02.485193Z",
     "iopub.status.idle": "2022-10-19T18:32:02.963149Z",
     "shell.execute_reply": "2022-10-19T18:32:02.961865Z"
    },
    "papermill": {
     "duration": 0.497561,
     "end_time": "2022-10-19T18:32:02.965390",
     "exception": false,
     "start_time": "2022-10-19T18:32:02.467829",
     "status": "completed"
    },
    "tags": []
   },
   "outputs": [
    {
     "data": {
      "image/png": "[encoded data removed]",
      "text/plain": [
       "<Figure size 720x720 with 1 Axes>"
      ]
     },
     "metadata": {
      "needs_background": "light"
     },
     "output_type": "display_data"
    }
   ],
   "source": [
    "plt.figure(figsize = (10, 10))\n",
    "sns.barplot(x = train_df[cat_cols].nunique(), y = cat_cols)\n",
    "plt.xlabel('Number of unique values')\n",
    "plt.show()"
   ]
  },
  {
   "cell_type": "markdown",
   "id": "6bbf2d36",
   "metadata": {
    "papermill": {
     "duration": 0.015925,
     "end_time": "2022-10-19T18:32:02.997917",
     "exception": false,
     "start_time": "2022-10-19T18:32:02.981992",
     "status": "completed"
    },
    "tags": []
   },
   "source": [
    "Find out which features consist mainly of the same value."
   ]
  },
  {
   "cell_type": "code",
   "execution_count": 11,
   "id": "41051064",
   "metadata": {
    "execution": {
     "iopub.execute_input": "2022-10-19T18:32:03.032686Z",
     "iopub.status.busy": "2022-10-19T18:32:03.031796Z",
     "iopub.status.idle": "2022-10-19T18:32:03.088615Z",
     "shell.execute_reply": "2022-10-19T18:32:03.087549Z"
    },
    "papermill": {
     "duration": 0.077038,
     "end_time": "2022-10-19T18:32:03.091199",
     "exception": false,
     "start_time": "2022-10-19T18:32:03.014161",
     "status": "completed"
    },
    "tags": []
   },
   "outputs": [
    {
     "data": {
      "text/html": [
       "<div>\n",
       "<style scoped>\n",
       "    .dataframe tbody tr th:only-of-type {\n",
       "        vertical-align: middle;\n",
       "    }\n",
       "\n",
       "    .dataframe tbody tr th {\n",
       "        vertical-align: top;\n",
       "    }\n",
       "\n",
       "    .dataframe thead th {\n",
       "        text-align: right;\n",
       "    }\n",
       "</style>\n",
       "<table border=\"1\" class=\"dataframe\">\n",
       "  <thead>\n",
       "    <tr style=\"text-align: right;\">\n",
       "      <th></th>\n",
       "      <th>Most_frequent_%</th>\n",
       "      <th>Second_frequent_%</th>\n",
       "    </tr>\n",
       "  </thead>\n",
       "  <tbody>\n",
       "    <tr>\n",
       "      <th>Utilities</th>\n",
       "      <td>99.931507</td>\n",
       "      <td>0.068493</td>\n",
       "    </tr>\n",
       "    <tr>\n",
       "      <th>Street</th>\n",
       "      <td>99.589041</td>\n",
       "      <td>0.410959</td>\n",
       "    </tr>\n",
       "    <tr>\n",
       "      <th>Condition2</th>\n",
       "      <td>98.972603</td>\n",
       "      <td>0.410959</td>\n",
       "    </tr>\n",
       "    <tr>\n",
       "      <th>RoofMatl</th>\n",
       "      <td>98.219178</td>\n",
       "      <td>0.753425</td>\n",
       "    </tr>\n",
       "    <tr>\n",
       "      <th>Heating</th>\n",
       "      <td>97.808219</td>\n",
       "      <td>1.232877</td>\n",
       "    </tr>\n",
       "    <tr>\n",
       "      <th>GarageCond</th>\n",
       "      <td>96.369863</td>\n",
       "      <td>2.39726</td>\n",
       "    </tr>\n",
       "    <tr>\n",
       "      <th>GarageQual</th>\n",
       "      <td>95.342466</td>\n",
       "      <td>3.287671</td>\n",
       "    </tr>\n",
       "    <tr>\n",
       "      <th>LandSlope</th>\n",
       "      <td>94.657534</td>\n",
       "      <td>4.452055</td>\n",
       "    </tr>\n",
       "    <tr>\n",
       "      <th>CentralAir</th>\n",
       "      <td>93.493151</td>\n",
       "      <td>6.506849</td>\n",
       "    </tr>\n",
       "    <tr>\n",
       "      <th>Functional</th>\n",
       "      <td>93.150685</td>\n",
       "      <td>2.328767</td>\n",
       "    </tr>\n",
       "    <tr>\n",
       "      <th>BsmtCond</th>\n",
       "      <td>92.328767</td>\n",
       "      <td>4.452055</td>\n",
       "    </tr>\n",
       "    <tr>\n",
       "      <th>PavedDrive</th>\n",
       "      <td>91.780822</td>\n",
       "      <td>6.164384</td>\n",
       "    </tr>\n",
       "    <tr>\n",
       "      <th>Electrical</th>\n",
       "      <td>91.438356</td>\n",
       "      <td>6.438356</td>\n",
       "    </tr>\n",
       "    <tr>\n",
       "      <th>LandContour</th>\n",
       "      <td>89.794521</td>\n",
       "      <td>4.315068</td>\n",
       "    </tr>\n",
       "    <tr>\n",
       "      <th>BsmtFinType2</th>\n",
       "      <td>88.630137</td>\n",
       "      <td>3.69863</td>\n",
       "    </tr>\n",
       "  </tbody>\n",
       "</table>\n",
       "</div>"
      ],
      "text/plain": [
       "             Most_frequent_% Second_frequent_%\n",
       "Utilities          99.931507          0.068493\n",
       "Street             99.589041          0.410959\n",
       "Condition2         98.972603          0.410959\n",
       "RoofMatl           98.219178          0.753425\n",
       "Heating            97.808219          1.232877\n",
       "GarageCond         96.369863           2.39726\n",
       "GarageQual         95.342466          3.287671\n",
       "LandSlope          94.657534          4.452055\n",
       "CentralAir         93.493151          6.506849\n",
       "Functional         93.150685          2.328767\n",
       "BsmtCond           92.328767          4.452055\n",
       "PavedDrive         91.780822          6.164384\n",
       "Electrical         91.438356          6.438356\n",
       "LandContour        89.794521          4.315068\n",
       "BsmtFinType2       88.630137           3.69863"
      ]
     },
     "execution_count": 11,
     "metadata": {},
     "output_type": "execute_result"
    }
   ],
   "source": [
    "cat_frequency = pd.DataFrame(columns = ['Most_frequent_%', 'Second_frequent_%'], index = cat_cols)\n",
    "\n",
    "for i, col in enumerate(cat_cols):\n",
    "    count = train_df[col].value_counts()\n",
    "    count_percent = count / len(train_df) * 100\n",
    "    cat_frequency.iloc[i, 0] = count_percent[0]\n",
    "    cat_frequency.iloc[i, 1] = count_percent[1]\n",
    "    \n",
    "cat_frequency.sort_values(by = 'Most_frequent_%', ascending = False)[:15]"
   ]
  },
  {
   "cell_type": "markdown",
   "id": "6c5004e9",
   "metadata": {
    "papermill": {
     "duration": 0.016299,
     "end_time": "2022-10-19T18:32:03.124091",
     "exception": false,
     "start_time": "2022-10-19T18:32:03.107792",
     "status": "completed"
    },
    "tags": []
   },
   "source": [
    "Drop features that consist of more than 95% of the same value."
   ]
  },
  {
   "cell_type": "code",
   "execution_count": 12,
   "id": "5ab1dc2c",
   "metadata": {
    "execution": {
     "iopub.execute_input": "2022-10-19T18:32:03.158933Z",
     "iopub.status.busy": "2022-10-19T18:32:03.158480Z",
     "iopub.status.idle": "2022-10-19T18:32:03.166774Z",
     "shell.execute_reply": "2022-10-19T18:32:03.165651Z"
    },
    "papermill": {
     "duration": 0.028332,
     "end_time": "2022-10-19T18:32:03.169046",
     "exception": false,
     "start_time": "2022-10-19T18:32:03.140714",
     "status": "completed"
    },
    "tags": []
   },
   "outputs": [],
   "source": [
    "cat_useless = ['Utilities', 'Street', 'Condition2', 'RoofMatl', 'Heating', 'GarageCond', 'GarageQual']\n",
    "train_df = train_df.drop(columns = cat_useless)\n",
    "\n",
    "for col in cat_useless:\n",
    "    cat_cols.remove(col)"
   ]
  },
  {
   "cell_type": "markdown",
   "id": "2010edaf",
   "metadata": {
    "papermill": {
     "duration": 0.016221,
     "end_time": "2022-10-19T18:32:03.201797",
     "exception": false,
     "start_time": "2022-10-19T18:32:03.185576",
     "status": "completed"
    },
    "tags": []
   },
   "source": [
    "# Feature engineering\n",
    "I will use target encoding in cases where the standard deviation of the encoded categorical feature is greater than the standard deviation of the target feature. To the remaining categorical features, I will apply one hot encoding.\n",
    "## Target encoding\n",
    "Create a function that will encode the features."
   ]
  },
  {
   "cell_type": "code",
   "execution_count": 13,
   "id": "0c53b042",
   "metadata": {
    "execution": {
     "iopub.execute_input": "2022-10-19T18:32:03.236478Z",
     "iopub.status.busy": "2022-10-19T18:32:03.236048Z",
     "iopub.status.idle": "2022-10-19T18:32:03.243247Z",
     "shell.execute_reply": "2022-10-19T18:32:03.242015Z"
    },
    "papermill": {
     "duration": 0.02709,
     "end_time": "2022-10-19T18:32:03.245372",
     "exception": false,
     "start_time": "2022-10-19T18:32:03.218282",
     "status": "completed"
    },
    "tags": []
   },
   "outputs": [],
   "source": [
    "def target_encoding(target_feature):\n",
    "    if len(cat_cols) == 0:\n",
    "        return 'All features are encoded'\n",
    "    target_std = train_df[target_feature].std()\n",
    "    for col in cat_cols:\n",
    "        encoded_std = train_df.groupby(col)[target_feature].mean().std()\n",
    "        if target_std < encoded_std:\n",
    "            train_df[col] = train_df.groupby(col)[target_feature].transform('mean')\n",
    "            cat_cols.remove(col)\n",
    "            te_cols.append(col)"
   ]
  },
  {
   "cell_type": "markdown",
   "id": "10fb56f9",
   "metadata": {
    "papermill": {
     "duration": 0.016309,
     "end_time": "2022-10-19T18:32:03.278415",
     "exception": false,
     "start_time": "2022-10-19T18:32:03.262106",
     "status": "completed"
    },
    "tags": []
   },
   "source": [
    "Encoding."
   ]
  },
  {
   "cell_type": "code",
   "execution_count": 14,
   "id": "add59e5e",
   "metadata": {
    "execution": {
     "iopub.execute_input": "2022-10-19T18:32:03.313358Z",
     "iopub.status.busy": "2022-10-19T18:32:03.312942Z",
     "iopub.status.idle": "2022-10-19T18:32:03.841996Z",
     "shell.execute_reply": "2022-10-19T18:32:03.840850Z"
    },
    "papermill": {
     "duration": 0.54935,
     "end_time": "2022-10-19T18:32:03.844339",
     "exception": false,
     "start_time": "2022-10-19T18:32:03.294989",
     "status": "completed"
    },
    "tags": []
   },
   "outputs": [
    {
     "data": {
      "text/plain": [
       "['BldgType',\n",
       " 'LotShape',\n",
       " 'LandContour',\n",
       " 'LandSlope',\n",
       " 'ExterQual',\n",
       " 'BsmtQual',\n",
       " 'KitchenQual',\n",
       " 'ExterCond',\n",
       " 'BsmtCond',\n",
       " 'Electrical',\n",
       " 'MSZoning',\n",
       " 'Foundation',\n",
       " 'CentralAir',\n",
       " 'BsmtFinType2',\n",
       " 'Functional',\n",
       " 'HouseStyle',\n",
       " 'RoofStyle',\n",
       " 'Exterior1st',\n",
       " 'GarageType',\n",
       " 'SaleCondition',\n",
       " 'HeatingQC',\n",
       " 'Condition1']"
      ]
     },
     "execution_count": 14,
     "metadata": {},
     "output_type": "execute_result"
    }
   ],
   "source": [
    "te_cols = []\n",
    "for col in num_cols:\n",
    "    target_encoding(col)\n",
    "    \n",
    "te_cols"
   ]
  },
  {
   "cell_type": "markdown",
   "id": "f1e3e011",
   "metadata": {
    "papermill": {
     "duration": 0.021198,
     "end_time": "2022-10-19T18:32:03.882439",
     "exception": false,
     "start_time": "2022-10-19T18:32:03.861241",
     "status": "completed"
    },
    "tags": []
   },
   "source": [
    "If everything is done correctly, the number of categorical features should not change and will be equal to 31."
   ]
  },
  {
   "cell_type": "code",
   "execution_count": 15,
   "id": "396565e8",
   "metadata": {
    "execution": {
     "iopub.execute_input": "2022-10-19T18:32:03.922954Z",
     "iopub.status.busy": "2022-10-19T18:32:03.922107Z",
     "iopub.status.idle": "2022-10-19T18:32:03.928522Z",
     "shell.execute_reply": "2022-10-19T18:32:03.927463Z"
    },
    "papermill": {
     "duration": 0.031857,
     "end_time": "2022-10-19T18:32:03.931392",
     "exception": false,
     "start_time": "2022-10-19T18:32:03.899535",
     "status": "completed"
    },
    "tags": []
   },
   "outputs": [
    {
     "name": "stdout",
     "output_type": "stream",
     "text": [
      "Number of target encoded columns: 22\n",
      "Number of categorical columns: 9\n"
     ]
    }
   ],
   "source": [
    "print('Number of target encoded columns:', len(te_cols))\n",
    "print('Number of categorical columns:', len(cat_cols))"
   ]
  },
  {
   "cell_type": "markdown",
   "id": "25f9a68b",
   "metadata": {
    "papermill": {
     "duration": 0.020713,
     "end_time": "2022-10-19T18:32:03.977669",
     "exception": false,
     "start_time": "2022-10-19T18:32:03.956956",
     "status": "completed"
    },
    "tags": []
   },
   "source": [
    "## One hot encoding"
   ]
  },
  {
   "cell_type": "markdown",
   "id": "924ef51d",
   "metadata": {
    "papermill": {
     "duration": 0.016668,
     "end_time": "2022-10-19T18:32:04.011280",
     "exception": false,
     "start_time": "2022-10-19T18:32:03.994612",
     "status": "completed"
    },
    "tags": []
   },
   "source": [
    "Create new features."
   ]
  },
  {
   "cell_type": "code",
   "execution_count": 16,
   "id": "210b67f8",
   "metadata": {
    "execution": {
     "iopub.execute_input": "2022-10-19T18:32:04.048362Z",
     "iopub.status.busy": "2022-10-19T18:32:04.047441Z",
     "iopub.status.idle": "2022-10-19T18:32:04.085170Z",
     "shell.execute_reply": "2022-10-19T18:32:04.084263Z"
    },
    "papermill": {
     "duration": 0.059304,
     "end_time": "2022-10-19T18:32:04.087749",
     "exception": false,
     "start_time": "2022-10-19T18:32:04.028445",
     "status": "completed"
    },
    "tags": []
   },
   "outputs": [],
   "source": [
    "for col in cat_cols:\n",
    "    dummies = pd.get_dummies(train_df[col], prefix = col).astype('int32')\n",
    "    train_df = pd.concat([train_df, dummies], axis = 1)"
   ]
  },
  {
   "cell_type": "markdown",
   "id": "a65870dd",
   "metadata": {
    "papermill": {
     "duration": 0.016569,
     "end_time": "2022-10-19T18:32:04.121409",
     "exception": false,
     "start_time": "2022-10-19T18:32:04.104840",
     "status": "completed"
    },
    "tags": []
   },
   "source": [
    "Drop the original features we just encoded."
   ]
  },
  {
   "cell_type": "code",
   "execution_count": 17,
   "id": "0fdf9390",
   "metadata": {
    "execution": {
     "iopub.execute_input": "2022-10-19T18:32:04.157573Z",
     "iopub.status.busy": "2022-10-19T18:32:04.157190Z",
     "iopub.status.idle": "2022-10-19T18:32:04.168565Z",
     "shell.execute_reply": "2022-10-19T18:32:04.167053Z"
    },
    "papermill": {
     "duration": 0.032714,
     "end_time": "2022-10-19T18:32:04.171196",
     "exception": false,
     "start_time": "2022-10-19T18:32:04.138482",
     "status": "completed"
    },
    "tags": []
   },
   "outputs": [],
   "source": [
    "train_df = train_df.drop(columns = cat_cols)"
   ]
  },
  {
   "cell_type": "markdown",
   "id": "2528141d",
   "metadata": {
    "papermill": {
     "duration": 0.020116,
     "end_time": "2022-10-19T18:32:04.208645",
     "exception": false,
     "start_time": "2022-10-19T18:32:04.188529",
     "status": "completed"
    },
    "tags": []
   },
   "source": [
    "## Standardization\n",
    "I will apply standardization to the numerical and target encoded features."
   ]
  },
  {
   "cell_type": "code",
   "execution_count": 18,
   "id": "6aaba91f",
   "metadata": {
    "execution": {
     "iopub.execute_input": "2022-10-19T18:32:04.247724Z",
     "iopub.status.busy": "2022-10-19T18:32:04.247336Z",
     "iopub.status.idle": "2022-10-19T18:32:04.279624Z",
     "shell.execute_reply": "2022-10-19T18:32:04.278777Z"
    },
    "papermill": {
     "duration": 0.054661,
     "end_time": "2022-10-19T18:32:04.282177",
     "exception": false,
     "start_time": "2022-10-19T18:32:04.227516",
     "status": "completed"
    },
    "tags": []
   },
   "outputs": [],
   "source": [
    "train_df[num_cols + te_cols] = (train_df[num_cols + te_cols] - train_df[num_cols + te_cols].mean()) / train_df[num_cols + te_cols].std()"
   ]
  },
  {
   "cell_type": "markdown",
   "id": "0e8d0a30",
   "metadata": {
    "papermill": {
     "duration": 0.016309,
     "end_time": "2022-10-19T18:32:04.315267",
     "exception": false,
     "start_time": "2022-10-19T18:32:04.298958",
     "status": "completed"
    },
    "tags": []
   },
   "source": [
    "## PCA\n",
    "### Feature selection using cumulative variance\n",
    "I will apply PCA to the numerical features."
   ]
  },
  {
   "cell_type": "code",
   "execution_count": 19,
   "id": "dad3d11c",
   "metadata": {
    "execution": {
     "iopub.execute_input": "2022-10-19T18:32:04.351619Z",
     "iopub.status.busy": "2022-10-19T18:32:04.350823Z",
     "iopub.status.idle": "2022-10-19T18:32:04.679257Z",
     "shell.execute_reply": "2022-10-19T18:32:04.677197Z"
    },
    "papermill": {
     "duration": 0.351617,
     "end_time": "2022-10-19T18:32:04.683677",
     "exception": false,
     "start_time": "2022-10-19T18:32:04.332060",
     "status": "completed"
    },
    "tags": []
   },
   "outputs": [],
   "source": [
    "from sklearn.decomposition import PCA\n",
    "\n",
    "pca = PCA()\n",
    "X = train_df[num_cols].copy()\n",
    "X_pca = pca.fit_transform(X)\n",
    "\n",
    "component_names = [f'PC{i}' for i in range(X_pca.shape[1])]\n",
    "X_pca = pd.DataFrame(X_pca, columns = component_names)"
   ]
  },
  {
   "cell_type": "markdown",
   "id": "8f4cf72d",
   "metadata": {
    "papermill": {
     "duration": 0.047656,
     "end_time": "2022-10-19T18:32:04.804084",
     "exception": false,
     "start_time": "2022-10-19T18:32:04.756428",
     "status": "completed"
    },
    "tags": []
   },
   "source": [
    "Define a function to plot the PCA result."
   ]
  },
  {
   "cell_type": "code",
   "execution_count": 20,
   "id": "d71e3484",
   "metadata": {
    "execution": {
     "iopub.execute_input": "2022-10-19T18:32:04.842759Z",
     "iopub.status.busy": "2022-10-19T18:32:04.842246Z",
     "iopub.status.idle": "2022-10-19T18:32:04.850709Z",
     "shell.execute_reply": "2022-10-19T18:32:04.849552Z"
    },
    "papermill": {
     "duration": 0.031128,
     "end_time": "2022-10-19T18:32:04.853250",
     "exception": false,
     "start_time": "2022-10-19T18:32:04.822122",
     "status": "completed"
    },
    "tags": []
   },
   "outputs": [],
   "source": [
    "def plot_variance(pca, width = 8, dpi = 100):\n",
    "    #create figure\n",
    "    fig, axs = plt.subplots(1, 2)\n",
    "    n = pca.n_components_\n",
    "    grid = np.arange(1, n + 1)\n",
    "    #Explained variance\n",
    "    evr = pca.explained_variance_ratio_\n",
    "    axs[0].bar(grid, evr)\n",
    "    axs[0].set(xlabel = 'Component', title = '% Explained Variance', ylim = (0.0, 1.0))\n",
    "    #Cumulative Variance\n",
    "    cv = np.cumsum(evr)\n",
    "    axs[1].plot(np.r_[0, grid], np.r_[0, cv], 'o-')\n",
    "    axs[1].set(xlabel = 'Component', title = '% Cumulative Variance', ylim = (0.0, 1.0))\n",
    "    #Set Up Figure\n",
    "    fig.set(figwidth = 12, dpi = 100)\n",
    "    return axs"
   ]
  },
  {
   "cell_type": "markdown",
   "id": "5d40eb1d",
   "metadata": {
    "papermill": {
     "duration": 0.016702,
     "end_time": "2022-10-19T18:32:04.887048",
     "exception": false,
     "start_time": "2022-10-19T18:32:04.870346",
     "status": "completed"
    },
    "tags": []
   },
   "source": [
    "PCA result."
   ]
  },
  {
   "cell_type": "code",
   "execution_count": 21,
   "id": "c5f73ce7",
   "metadata": {
    "execution": {
     "iopub.execute_input": "2022-10-19T18:32:04.924707Z",
     "iopub.status.busy": "2022-10-19T18:32:04.923156Z",
     "iopub.status.idle": "2022-10-19T18:32:05.314631Z",
     "shell.execute_reply": "2022-10-19T18:32:05.313196Z"
    },
    "papermill": {
     "duration": 0.413394,
     "end_time": "2022-10-19T18:32:05.317493",
     "exception": false,
     "start_time": "2022-10-19T18:32:04.904099",
     "status": "completed"
    },
    "tags": []
   },
   "outputs": [
    {
     "data": {
      "image/png": "[encoded data removed]",
      "text/plain": [
       "<Figure size 1200x400 with 2 Axes>"
      ]
     },
     "metadata": {
      "needs_background": "light"
     },
     "output_type": "display_data"
    }
   ],
   "source": [
    "plot_variance(pca)\n",
    "plt.show()"
   ]
  },
  {
   "cell_type": "markdown",
   "id": "834762c8",
   "metadata": {
    "papermill": {
     "duration": 0.016912,
     "end_time": "2022-10-19T18:32:05.353723",
     "exception": false,
     "start_time": "2022-10-19T18:32:05.336811",
     "status": "completed"
    },
    "tags": []
   },
   "source": [
    "We can see in the graph that it is possible to keep only the first 25 features and save more than 90% of the variance."
   ]
  },
  {
   "cell_type": "code",
   "execution_count": 22,
   "id": "a4421ddf",
   "metadata": {
    "execution": {
     "iopub.execute_input": "2022-10-19T18:32:05.391036Z",
     "iopub.status.busy": "2022-10-19T18:32:05.390589Z",
     "iopub.status.idle": "2022-10-19T18:32:05.396918Z",
     "shell.execute_reply": "2022-10-19T18:32:05.395573Z"
    },
    "papermill": {
     "duration": 0.028121,
     "end_time": "2022-10-19T18:32:05.399212",
     "exception": false,
     "start_time": "2022-10-19T18:32:05.371091",
     "status": "completed"
    },
    "tags": []
   },
   "outputs": [],
   "source": [
    "X_cum = X_pca.drop(columns = X_pca.columns[25:])"
   ]
  },
  {
   "cell_type": "markdown",
   "id": "76e7f3ef",
   "metadata": {
    "papermill": {
     "duration": 0.016952,
     "end_time": "2022-10-19T18:32:05.433616",
     "exception": false,
     "start_time": "2022-10-19T18:32:05.416664",
     "status": "completed"
    },
    "tags": []
   },
   "source": [
    "### Feature selection using MI scores\n",
    "Define a function to make MI scores."
   ]
  },
  {
   "cell_type": "code",
   "execution_count": 23,
   "id": "ae9e16ad",
   "metadata": {
    "execution": {
     "iopub.execute_input": "2022-10-19T18:32:05.469910Z",
     "iopub.status.busy": "2022-10-19T18:32:05.469497Z",
     "iopub.status.idle": "2022-10-19T18:32:05.513526Z",
     "shell.execute_reply": "2022-10-19T18:32:05.512333Z"
    },
    "papermill": {
     "duration": 0.065246,
     "end_time": "2022-10-19T18:32:05.515995",
     "exception": false,
     "start_time": "2022-10-19T18:32:05.450749",
     "status": "completed"
    },
    "tags": []
   },
   "outputs": [],
   "source": [
    "from sklearn.feature_selection import mutual_info_regression\n",
    "\n",
    "def make_mi_scores(X, y, discrete_features):\n",
    "    mi_scores = mutual_info_regression(X, y, discrete_features = discrete_features, random_state = 0)\n",
    "    mi_scores = pd.Series(mi_scores, name = 'MI Scores', index = X.columns)\n",
    "    mi_scores = mi_scores.sort_values(ascending = False)\n",
    "    return mi_scores"
   ]
  },
  {
   "cell_type": "markdown",
   "id": "50abe23a",
   "metadata": {
    "papermill": {
     "duration": 0.017281,
     "end_time": "2022-10-19T18:32:05.550946",
     "exception": false,
     "start_time": "2022-10-19T18:32:05.533665",
     "status": "completed"
    },
    "tags": []
   },
   "source": [
    "Let's keep the first 25 features again."
   ]
  },
  {
   "cell_type": "code",
   "execution_count": 24,
   "id": "7a446ba7",
   "metadata": {
    "execution": {
     "iopub.execute_input": "2022-10-19T18:32:05.588488Z",
     "iopub.status.busy": "2022-10-19T18:32:05.588054Z",
     "iopub.status.idle": "2022-10-19T18:32:05.897880Z",
     "shell.execute_reply": "2022-10-19T18:32:05.897067Z"
    },
    "papermill": {
     "duration": 0.331105,
     "end_time": "2022-10-19T18:32:05.899849",
     "exception": false,
     "start_time": "2022-10-19T18:32:05.568744",
     "status": "completed"
    },
    "tags": []
   },
   "outputs": [
    {
     "data": {
      "text/plain": [
       "PC0     1.015996\n",
       "PC2     0.183813\n",
       "PC1     0.123844\n",
       "PC27    0.084708\n",
       "PC3     0.082207\n",
       "PC28    0.081871\n",
       "PC15    0.068325\n",
       "PC19    0.054707\n",
       "PC4     0.050613\n",
       "PC26    0.045514\n",
       "PC13    0.045505\n",
       "PC11    0.044309\n",
       "PC25    0.042622\n",
       "PC14    0.040609\n",
       "PC6     0.038911\n",
       "PC24    0.036319\n",
       "PC10    0.035893\n",
       "PC29    0.034275\n",
       "PC17    0.031138\n",
       "PC23    0.028960\n",
       "PC32    0.024927\n",
       "PC30    0.024227\n",
       "PC7     0.018176\n",
       "PC20    0.015701\n",
       "PC5     0.014211\n",
       "Name: MI Scores, dtype: float64"
      ]
     },
     "execution_count": 24,
     "metadata": {},
     "output_type": "execute_result"
    }
   ],
   "source": [
    "mi_scores = make_mi_scores(X_pca, y, discrete_features = False)\n",
    "X_mi = X_pca.drop(columns = mi_scores.index[25:])\n",
    "\n",
    "mi_scores[:25]"
   ]
  },
  {
   "cell_type": "markdown",
   "id": "ea72240f",
   "metadata": {
    "papermill": {
     "duration": 0.017444,
     "end_time": "2022-10-19T18:32:05.934932",
     "exception": false,
     "start_time": "2022-10-19T18:32:05.917488",
     "status": "completed"
    },
    "tags": []
   },
   "source": [
    "Drop **num_cols** because it is already stored in the **X** variable."
   ]
  },
  {
   "cell_type": "code",
   "execution_count": 25,
   "id": "3eb96f68",
   "metadata": {
    "execution": {
     "iopub.execute_input": "2022-10-19T18:32:05.972889Z",
     "iopub.status.busy": "2022-10-19T18:32:05.972423Z",
     "iopub.status.idle": "2022-10-19T18:32:05.999790Z",
     "shell.execute_reply": "2022-10-19T18:32:05.999001Z"
    },
    "papermill": {
     "duration": 0.049467,
     "end_time": "2022-10-19T18:32:06.002135",
     "exception": false,
     "start_time": "2022-10-19T18:32:05.952668",
     "status": "completed"
    },
    "tags": []
   },
   "outputs": [
    {
     "data": {
      "text/html": [
       "<div>\n",
       "<style scoped>\n",
       "    .dataframe tbody tr th:only-of-type {\n",
       "        vertical-align: middle;\n",
       "    }\n",
       "\n",
       "    .dataframe tbody tr th {\n",
       "        vertical-align: top;\n",
       "    }\n",
       "\n",
       "    .dataframe thead th {\n",
       "        text-align: right;\n",
       "    }\n",
       "</style>\n",
       "<table border=\"1\" class=\"dataframe\">\n",
       "  <thead>\n",
       "    <tr style=\"text-align: right;\">\n",
       "      <th></th>\n",
       "      <th>MSZoning</th>\n",
       "      <th>LotShape</th>\n",
       "      <th>LandContour</th>\n",
       "      <th>LandSlope</th>\n",
       "      <th>Condition1</th>\n",
       "      <th>BldgType</th>\n",
       "      <th>HouseStyle</th>\n",
       "      <th>RoofStyle</th>\n",
       "      <th>Exterior1st</th>\n",
       "      <th>ExterQual</th>\n",
       "      <th>...</th>\n",
       "      <th>PavedDrive_Y</th>\n",
       "      <th>SaleType_COD</th>\n",
       "      <th>SaleType_CWD</th>\n",
       "      <th>SaleType_Con</th>\n",
       "      <th>SaleType_ConLD</th>\n",
       "      <th>SaleType_ConLI</th>\n",
       "      <th>SaleType_ConLw</th>\n",
       "      <th>SaleType_New</th>\n",
       "      <th>SaleType_Oth</th>\n",
       "      <th>SaleType_WD</th>\n",
       "    </tr>\n",
       "  </thead>\n",
       "  <tbody>\n",
       "    <tr>\n",
       "      <th>0</th>\n",
       "      <td>0.294505</td>\n",
       "      <td>-0.540826</td>\n",
       "      <td>-0.230289</td>\n",
       "      <td>-0.134105</td>\n",
       "      <td>-0.087651</td>\n",
       "      <td>-0.419552</td>\n",
       "      <td>1.332901</td>\n",
       "      <td>0.161382</td>\n",
       "      <td>-0.480095</td>\n",
       "      <td>1.063842</td>\n",
       "      <td>...</td>\n",
       "      <td>1</td>\n",
       "      <td>0</td>\n",
       "      <td>0</td>\n",
       "      <td>0</td>\n",
       "      <td>0</td>\n",
       "      <td>0</td>\n",
       "      <td>0</td>\n",
       "      <td>0</td>\n",
       "      <td>0</td>\n",
       "      <td>1</td>\n",
       "    </tr>\n",
       "    <tr>\n",
       "      <th>1</th>\n",
       "      <td>0.294505</td>\n",
       "      <td>-0.540826</td>\n",
       "      <td>-0.230289</td>\n",
       "      <td>-0.134105</td>\n",
       "      <td>-0.261603</td>\n",
       "      <td>-0.419552</td>\n",
       "      <td>-0.865037</td>\n",
       "      <td>0.161382</td>\n",
       "      <td>0.351928</td>\n",
       "      <td>-0.695466</td>\n",
       "      <td>...</td>\n",
       "      <td>1</td>\n",
       "      <td>0</td>\n",
       "      <td>0</td>\n",
       "      <td>0</td>\n",
       "      <td>0</td>\n",
       "      <td>0</td>\n",
       "      <td>0</td>\n",
       "      <td>0</td>\n",
       "      <td>0</td>\n",
       "      <td>1</td>\n",
       "    </tr>\n",
       "    <tr>\n",
       "      <th>2</th>\n",
       "      <td>0.294505</td>\n",
       "      <td>0.772894</td>\n",
       "      <td>-0.230289</td>\n",
       "      <td>-0.134105</td>\n",
       "      <td>-0.087651</td>\n",
       "      <td>-0.419552</td>\n",
       "      <td>1.332901</td>\n",
       "      <td>0.161382</td>\n",
       "      <td>-0.480095</td>\n",
       "      <td>1.063842</td>\n",
       "      <td>...</td>\n",
       "      <td>1</td>\n",
       "      <td>0</td>\n",
       "      <td>0</td>\n",
       "      <td>0</td>\n",
       "      <td>0</td>\n",
       "      <td>0</td>\n",
       "      <td>0</td>\n",
       "      <td>0</td>\n",
       "      <td>0</td>\n",
       "      <td>1</td>\n",
       "    </tr>\n",
       "    <tr>\n",
       "      <th>3</th>\n",
       "      <td>0.294505</td>\n",
       "      <td>0.772894</td>\n",
       "      <td>-0.230289</td>\n",
       "      <td>-0.134105</td>\n",
       "      <td>-0.087651</td>\n",
       "      <td>-0.419552</td>\n",
       "      <td>1.332901</td>\n",
       "      <td>0.161382</td>\n",
       "      <td>0.040602</td>\n",
       "      <td>-0.695466</td>\n",
       "      <td>...</td>\n",
       "      <td>1</td>\n",
       "      <td>0</td>\n",
       "      <td>0</td>\n",
       "      <td>0</td>\n",
       "      <td>0</td>\n",
       "      <td>0</td>\n",
       "      <td>0</td>\n",
       "      <td>0</td>\n",
       "      <td>0</td>\n",
       "      <td>1</td>\n",
       "    </tr>\n",
       "    <tr>\n",
       "      <th>4</th>\n",
       "      <td>0.294505</td>\n",
       "      <td>0.772894</td>\n",
       "      <td>-0.230289</td>\n",
       "      <td>-0.134105</td>\n",
       "      <td>-0.087651</td>\n",
       "      <td>-0.419552</td>\n",
       "      <td>1.332901</td>\n",
       "      <td>0.161382</td>\n",
       "      <td>-0.480095</td>\n",
       "      <td>1.063842</td>\n",
       "      <td>...</td>\n",
       "      <td>1</td>\n",
       "      <td>0</td>\n",
       "      <td>0</td>\n",
       "      <td>0</td>\n",
       "      <td>0</td>\n",
       "      <td>0</td>\n",
       "      <td>0</td>\n",
       "      <td>0</td>\n",
       "      <td>0</td>\n",
       "      <td>1</td>\n",
       "    </tr>\n",
       "    <tr>\n",
       "      <th>...</th>\n",
       "      <td>...</td>\n",
       "      <td>...</td>\n",
       "      <td>...</td>\n",
       "      <td>...</td>\n",
       "      <td>...</td>\n",
       "      <td>...</td>\n",
       "      <td>...</td>\n",
       "      <td>...</td>\n",
       "      <td>...</td>\n",
       "      <td>...</td>\n",
       "      <td>...</td>\n",
       "      <td>...</td>\n",
       "      <td>...</td>\n",
       "      <td>...</td>\n",
       "      <td>...</td>\n",
       "      <td>...</td>\n",
       "      <td>...</td>\n",
       "      <td>...</td>\n",
       "      <td>...</td>\n",
       "      <td>...</td>\n",
       "      <td>...</td>\n",
       "    </tr>\n",
       "    <tr>\n",
       "      <th>1455</th>\n",
       "      <td>0.294505</td>\n",
       "      <td>-0.540826</td>\n",
       "      <td>-0.230289</td>\n",
       "      <td>-0.134105</td>\n",
       "      <td>-0.087651</td>\n",
       "      <td>-0.419552</td>\n",
       "      <td>1.332901</td>\n",
       "      <td>0.161382</td>\n",
       "      <td>-0.480095</td>\n",
       "      <td>-0.695466</td>\n",
       "      <td>...</td>\n",
       "      <td>1</td>\n",
       "      <td>0</td>\n",
       "      <td>0</td>\n",
       "      <td>0</td>\n",
       "      <td>0</td>\n",
       "      <td>0</td>\n",
       "      <td>0</td>\n",
       "      <td>0</td>\n",
       "      <td>0</td>\n",
       "      <td>1</td>\n",
       "    </tr>\n",
       "    <tr>\n",
       "      <th>1456</th>\n",
       "      <td>0.294505</td>\n",
       "      <td>-0.540826</td>\n",
       "      <td>-0.230289</td>\n",
       "      <td>-0.134105</td>\n",
       "      <td>-0.087651</td>\n",
       "      <td>-0.419552</td>\n",
       "      <td>-0.865037</td>\n",
       "      <td>0.161382</td>\n",
       "      <td>1.331219</td>\n",
       "      <td>-0.695466</td>\n",
       "      <td>...</td>\n",
       "      <td>1</td>\n",
       "      <td>0</td>\n",
       "      <td>0</td>\n",
       "      <td>0</td>\n",
       "      <td>0</td>\n",
       "      <td>0</td>\n",
       "      <td>0</td>\n",
       "      <td>0</td>\n",
       "      <td>0</td>\n",
       "      <td>1</td>\n",
       "    </tr>\n",
       "    <tr>\n",
       "      <th>1457</th>\n",
       "      <td>0.294505</td>\n",
       "      <td>-0.540826</td>\n",
       "      <td>-0.230289</td>\n",
       "      <td>-0.134105</td>\n",
       "      <td>-0.087651</td>\n",
       "      <td>-0.419552</td>\n",
       "      <td>1.332901</td>\n",
       "      <td>0.161382</td>\n",
       "      <td>-0.960738</td>\n",
       "      <td>2.753451</td>\n",
       "      <td>...</td>\n",
       "      <td>1</td>\n",
       "      <td>0</td>\n",
       "      <td>0</td>\n",
       "      <td>0</td>\n",
       "      <td>0</td>\n",
       "      <td>0</td>\n",
       "      <td>0</td>\n",
       "      <td>0</td>\n",
       "      <td>0</td>\n",
       "      <td>1</td>\n",
       "    </tr>\n",
       "    <tr>\n",
       "      <th>1458</th>\n",
       "      <td>0.294505</td>\n",
       "      <td>-0.540826</td>\n",
       "      <td>-0.230289</td>\n",
       "      <td>-0.134105</td>\n",
       "      <td>-0.087651</td>\n",
       "      <td>-0.419552</td>\n",
       "      <td>-0.865037</td>\n",
       "      <td>-0.797082</td>\n",
       "      <td>0.351928</td>\n",
       "      <td>-0.695466</td>\n",
       "      <td>...</td>\n",
       "      <td>1</td>\n",
       "      <td>0</td>\n",
       "      <td>0</td>\n",
       "      <td>0</td>\n",
       "      <td>0</td>\n",
       "      <td>0</td>\n",
       "      <td>0</td>\n",
       "      <td>0</td>\n",
       "      <td>0</td>\n",
       "      <td>1</td>\n",
       "    </tr>\n",
       "    <tr>\n",
       "      <th>1459</th>\n",
       "      <td>0.294505</td>\n",
       "      <td>-0.540826</td>\n",
       "      <td>-0.230289</td>\n",
       "      <td>-0.134105</td>\n",
       "      <td>-0.087651</td>\n",
       "      <td>-0.419552</td>\n",
       "      <td>-0.865037</td>\n",
       "      <td>0.161382</td>\n",
       "      <td>-0.217401</td>\n",
       "      <td>1.063842</td>\n",
       "      <td>...</td>\n",
       "      <td>1</td>\n",
       "      <td>0</td>\n",
       "      <td>0</td>\n",
       "      <td>0</td>\n",
       "      <td>0</td>\n",
       "      <td>0</td>\n",
       "      <td>0</td>\n",
       "      <td>0</td>\n",
       "      <td>0</td>\n",
       "      <td>1</td>\n",
       "    </tr>\n",
       "  </tbody>\n",
       "</table>\n",
       "<p>1460 rows × 97 columns</p>\n",
       "</div>"
      ],
      "text/plain": [
       "      MSZoning  LotShape  LandContour  LandSlope  Condition1  BldgType  \\\n",
       "0     0.294505 -0.540826    -0.230289  -0.134105   -0.087651 -0.419552   \n",
       "1     0.294505 -0.540826    -0.230289  -0.134105   -0.261603 -0.419552   \n",
       "2     0.294505  0.772894    -0.230289  -0.134105   -0.087651 -0.419552   \n",
       "3     0.294505  0.772894    -0.230289  -0.134105   -0.087651 -0.419552   \n",
       "4     0.294505  0.772894    -0.230289  -0.134105   -0.087651 -0.419552   \n",
       "...        ...       ...          ...        ...         ...       ...   \n",
       "1455  0.294505 -0.540826    -0.230289  -0.134105   -0.087651 -0.419552   \n",
       "1456  0.294505 -0.540826    -0.230289  -0.134105   -0.087651 -0.419552   \n",
       "1457  0.294505 -0.540826    -0.230289  -0.134105   -0.087651 -0.419552   \n",
       "1458  0.294505 -0.540826    -0.230289  -0.134105   -0.087651 -0.419552   \n",
       "1459  0.294505 -0.540826    -0.230289  -0.134105   -0.087651 -0.419552   \n",
       "\n",
       "      HouseStyle  RoofStyle  Exterior1st  ExterQual  ...  PavedDrive_Y  \\\n",
       "0       1.332901   0.161382    -0.480095   1.063842  ...             1   \n",
       "1      -0.865037   0.161382     0.351928  -0.695466  ...             1   \n",
       "2       1.332901   0.161382    -0.480095   1.063842  ...             1   \n",
       "3       1.332901   0.161382     0.040602  -0.695466  ...             1   \n",
       "4       1.332901   0.161382    -0.480095   1.063842  ...             1   \n",
       "...          ...        ...          ...        ...  ...           ...   \n",
       "1455    1.332901   0.161382    -0.480095  -0.695466  ...             1   \n",
       "1456   -0.865037   0.161382     1.331219  -0.695466  ...             1   \n",
       "1457    1.332901   0.161382    -0.960738   2.753451  ...             1   \n",
       "1458   -0.865037  -0.797082     0.351928  -0.695466  ...             1   \n",
       "1459   -0.865037   0.161382    -0.217401   1.063842  ...             1   \n",
       "\n",
       "      SaleType_COD  SaleType_CWD  SaleType_Con  SaleType_ConLD  \\\n",
       "0                0             0             0               0   \n",
       "1                0             0             0               0   \n",
       "2                0             0             0               0   \n",
       "3                0             0             0               0   \n",
       "4                0             0             0               0   \n",
       "...            ...           ...           ...             ...   \n",
       "1455             0             0             0               0   \n",
       "1456             0             0             0               0   \n",
       "1457             0             0             0               0   \n",
       "1458             0             0             0               0   \n",
       "1459             0             0             0               0   \n",
       "\n",
       "      SaleType_ConLI  SaleType_ConLw  SaleType_New  SaleType_Oth  SaleType_WD  \n",
       "0                  0               0             0             0            1  \n",
       "1                  0               0             0             0            1  \n",
       "2                  0               0             0             0            1  \n",
       "3                  0               0             0             0            1  \n",
       "4                  0               0             0             0            1  \n",
       "...              ...             ...           ...           ...          ...  \n",
       "1455               0               0             0             0            1  \n",
       "1456               0               0             0             0            1  \n",
       "1457               0               0             0             0            1  \n",
       "1458               0               0             0             0            1  \n",
       "1459               0               0             0             0            1  \n",
       "\n",
       "[1460 rows x 97 columns]"
      ]
     },
     "execution_count": 25,
     "metadata": {},
     "output_type": "execute_result"
    }
   ],
   "source": [
    "train_df = train_df.drop(columns = num_cols)\n",
    "train_df"
   ]
  },
  {
   "cell_type": "markdown",
   "id": "3753924f",
   "metadata": {
    "papermill": {
     "duration": 0.017872,
     "end_time": "2022-10-19T18:32:06.038330",
     "exception": false,
     "start_time": "2022-10-19T18:32:06.020458",
     "status": "completed"
    },
    "tags": []
   },
   "source": [
    "# Prediction\n",
    "I will test four data frames with different combinations of numerical features:\n",
    "1. train_df + X\n",
    "2. train_df + X_pca\n",
    "3. train_df + X_cum\n",
    "4. train_df + X_mi\n",
    "\n",
    "Using 2 models:\n",
    "- Random Forest\n",
    "- Gradient Boosting"
   ]
  },
  {
   "cell_type": "code",
   "execution_count": 26,
   "id": "e212ebca",
   "metadata": {
    "execution": {
     "iopub.execute_input": "2022-10-19T18:32:06.077046Z",
     "iopub.status.busy": "2022-10-19T18:32:06.076278Z",
     "iopub.status.idle": "2022-10-19T18:32:06.171101Z",
     "shell.execute_reply": "2022-10-19T18:32:06.169970Z"
    },
    "papermill": {
     "duration": 0.117235,
     "end_time": "2022-10-19T18:32:06.173922",
     "exception": false,
     "start_time": "2022-10-19T18:32:06.056687",
     "status": "completed"
    },
    "tags": []
   },
   "outputs": [],
   "source": [
    "from sklearn.ensemble import RandomForestRegressor, GradientBoostingRegressor\n",
    "from sklearn.model_selection import cross_val_score\n",
    "\n",
    "result = pd.DataFrame(columns = ['Random_Forest', 'Gradient_Boosting'], index = ['X', 'X_pca', 'X_cum', 'X_mi'])\n",
    "\n",
    "df = [X, X_pca, X_cum, X_mi]\n",
    "model = [RandomForestRegressor(random_state = 0), GradientBoostingRegressor(random_state = 0)]"
   ]
  },
  {
   "cell_type": "markdown",
   "id": "1fcf7a33",
   "metadata": {
    "papermill": {
     "duration": 0.017626,
     "end_time": "2022-10-19T18:32:06.209548",
     "exception": false,
     "start_time": "2022-10-19T18:32:06.191922",
     "status": "completed"
    },
    "tags": []
   },
   "source": [
    "Get scores."
   ]
  },
  {
   "cell_type": "code",
   "execution_count": 27,
   "id": "7db39817",
   "metadata": {
    "execution": {
     "iopub.execute_input": "2022-10-19T18:32:06.247889Z",
     "iopub.status.busy": "2022-10-19T18:32:06.247125Z",
     "iopub.status.idle": "2022-10-19T18:33:19.086447Z",
     "shell.execute_reply": "2022-10-19T18:33:19.085444Z"
    },
    "papermill": {
     "duration": 72.861492,
     "end_time": "2022-10-19T18:33:19.089101",
     "exception": false,
     "start_time": "2022-10-19T18:32:06.227609",
     "status": "completed"
    },
    "tags": []
   },
   "outputs": [],
   "source": [
    "for i, df_ in enumerate(df):\n",
    "    data = pd.concat([train_df, df_], axis = 1)\n",
    "    for j, model_ in enumerate(model):\n",
    "        score = -1 * cross_val_score(model_, data, y, cv = 5, scoring = 'neg_mean_absolute_error')\n",
    "        result.iloc[i, j] = score.mean()"
   ]
  },
  {
   "cell_type": "markdown",
   "id": "90ebc3af",
   "metadata": {
    "papermill": {
     "duration": 0.017952,
     "end_time": "2022-10-19T18:33:19.125522",
     "exception": false,
     "start_time": "2022-10-19T18:33:19.107570",
     "status": "completed"
    },
    "tags": []
   },
   "source": [
    "Show results."
   ]
  },
  {
   "cell_type": "code",
   "execution_count": 28,
   "id": "83eb95e0",
   "metadata": {
    "execution": {
     "iopub.execute_input": "2022-10-19T18:33:19.164632Z",
     "iopub.status.busy": "2022-10-19T18:33:19.163636Z",
     "iopub.status.idle": "2022-10-19T18:33:19.175258Z",
     "shell.execute_reply": "2022-10-19T18:33:19.174426Z"
    },
    "papermill": {
     "duration": 0.033322,
     "end_time": "2022-10-19T18:33:19.177299",
     "exception": false,
     "start_time": "2022-10-19T18:33:19.143977",
     "status": "completed"
    },
    "tags": []
   },
   "outputs": [
    {
     "data": {
      "text/html": [
       "<div>\n",
       "<style scoped>\n",
       "    .dataframe tbody tr th:only-of-type {\n",
       "        vertical-align: middle;\n",
       "    }\n",
       "\n",
       "    .dataframe tbody tr th {\n",
       "        vertical-align: top;\n",
       "    }\n",
       "\n",
       "    .dataframe thead th {\n",
       "        text-align: right;\n",
       "    }\n",
       "</style>\n",
       "<table border=\"1\" class=\"dataframe\">\n",
       "  <thead>\n",
       "    <tr style=\"text-align: right;\">\n",
       "      <th></th>\n",
       "      <th>Random_Forest</th>\n",
       "      <th>Gradient_Boosting</th>\n",
       "    </tr>\n",
       "  </thead>\n",
       "  <tbody>\n",
       "    <tr>\n",
       "      <th>X</th>\n",
       "      <td>17611.274171</td>\n",
       "      <td>16016.334996</td>\n",
       "    </tr>\n",
       "    <tr>\n",
       "      <th>X_pca</th>\n",
       "      <td>17441.820733</td>\n",
       "      <td>15984.51943</td>\n",
       "    </tr>\n",
       "    <tr>\n",
       "      <th>X_cum</th>\n",
       "      <td>17583.559918</td>\n",
       "      <td>16111.977186</td>\n",
       "    </tr>\n",
       "    <tr>\n",
       "      <th>X_mi</th>\n",
       "      <td>17351.130575</td>\n",
       "      <td>16088.19711</td>\n",
       "    </tr>\n",
       "  </tbody>\n",
       "</table>\n",
       "</div>"
      ],
      "text/plain": [
       "      Random_Forest Gradient_Boosting\n",
       "X      17611.274171      16016.334996\n",
       "X_pca  17441.820733       15984.51943\n",
       "X_cum  17583.559918      16111.977186\n",
       "X_mi   17351.130575       16088.19711"
      ]
     },
     "execution_count": 28,
     "metadata": {},
     "output_type": "execute_result"
    }
   ],
   "source": [
    "result"
   ]
  },
  {
   "cell_type": "markdown",
   "id": "6d23c45d",
   "metadata": {
    "papermill": {
     "duration": 0.018301,
     "end_time": "2022-10-19T18:33:19.214137",
     "exception": false,
     "start_time": "2022-10-19T18:33:19.195836",
     "status": "completed"
    },
    "tags": []
   },
   "source": [
    "# Feature impact analysis\n",
    "I will show how each feature affects the price of houses using shap values."
   ]
  },
  {
   "cell_type": "code",
   "execution_count": 29,
   "id": "f2dc9007",
   "metadata": {
    "execution": {
     "iopub.execute_input": "2022-10-19T18:33:19.252664Z",
     "iopub.status.busy": "2022-10-19T18:33:19.251939Z",
     "iopub.status.idle": "2022-10-19T18:33:23.242665Z",
     "shell.execute_reply": "2022-10-19T18:33:23.241410Z"
    },
    "papermill": {
     "duration": 4.01308,
     "end_time": "2022-10-19T18:33:23.245414",
     "exception": false,
     "start_time": "2022-10-19T18:33:19.232334",
     "status": "completed"
    },
    "tags": []
   },
   "outputs": [],
   "source": [
    "from sklearn.model_selection import train_test_split\n",
    "import shap\n",
    "\n",
    "shap_df = pd.concat([train_df, X], axis = 1)\n",
    "X_train, X_val, y_train, y_val = train_test_split(shap_df, y, train_size = 0.8, random_state = 0)\n",
    "shap_model = GradientBoostingRegressor(random_state = 0).fit(X_train, y_train)\n",
    "\n",
    "explainer = shap.TreeExplainer(shap_model)\n",
    "shap_values = explainer.shap_values(X_val)"
   ]
  },
  {
   "cell_type": "markdown",
   "id": "f0f1988c",
   "metadata": {
    "papermill": {
     "duration": 0.01803,
     "end_time": "2022-10-19T18:33:23.281919",
     "exception": false,
     "start_time": "2022-10-19T18:33:23.263889",
     "status": "completed"
    },
    "tags": []
   },
   "source": [
    "The graph of features impact."
   ]
  },
  {
   "cell_type": "code",
   "execution_count": 30,
   "id": "1d0f2901",
   "metadata": {
    "execution": {
     "iopub.execute_input": "2022-10-19T18:33:23.321176Z",
     "iopub.status.busy": "2022-10-19T18:33:23.320468Z",
     "iopub.status.idle": "2022-10-19T18:33:24.367678Z",
     "shell.execute_reply": "2022-10-19T18:33:24.366486Z"
    },
    "papermill": {
     "duration": 1.069769,
     "end_time": "2022-10-19T18:33:24.370331",
     "exception": false,
     "start_time": "2022-10-19T18:33:23.300562",
     "status": "completed"
    },
    "tags": []
   },
   "outputs": [
    {
     "data": {
      "image/png": "[encoded data removed]",
      "text/plain": [
       "<Figure size 1152x576 with 2 Axes>"
      ]
     },
     "metadata": {
      "needs_background": "light"
     },
     "output_type": "display_data"
    }
   ],
   "source": [
    "shap.summary_plot(shap_values, X_val, plot_size = (16, 8))"
   ]
  }
 ],
 "metadata": {
  "kernelspec": {
   "display_name": "Python 3",
   "language": "python",
   "name": "python3"
  },
  "language_info": {
   "codemirror_mode": {
    "name": "ipython",
    "version": 3
   },
   "file_extension": ".py",
   "mimetype": "text/x-python",
   "name": "python",
   "nbconvert_exporter": "python",
   "pygments_lexer": "ipython3",
   "version": "3.7.12"
  },
  "papermill": {
   "default_parameters": {},
   "duration": 101.99147,
   "end_time": "2022-10-19T18:33:25.616188",
   "environment_variables": {},
   "exception": null,
   "input_path": "__notebook__.ipynb",
   "output_path": "__notebook__.ipynb",
   "parameters": {},
   "start_time": "2022-10-19T18:31:43.624718",
   "version": "2.3.4"
  }
 },
 "nbformat": 4,
 "nbformat_minor": 5
}
